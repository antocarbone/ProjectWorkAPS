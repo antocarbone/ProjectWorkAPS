{
 "cells": [
  {
   "cell_type": "markdown",
   "id": "a7912595",
   "metadata": {},
   "source": [
    "# Demo"
   ]
  },
  {
   "cell_type": "code",
   "execution_count": null,
   "id": "385d7443",
   "metadata": {},
   "outputs": [],
   "source": [
    "from SmartContractAuthority.sca import SmartContractAuthority\n",
    "from University.university import University\n",
    "from Credential.credential import Credential\n",
    "from utils.identifiers_utils import *\n",
    "from utils.file_utils import *\n",
    "from Student.student import Student\n",
    "import json\n",
    "from SimulationUtils.simulationUtils import *\n",
    "\n",
    "SCA_PATH = './smart_contract_authority/'\n",
    "UNIVERSITIES_PATH = './universities/'\n",
    "STUDENTS_PATH = './students/'\n",
    "CONTRACTS_BUILD_PATH = './SmartContracts/build'"
   ]
  },
  {
   "cell_type": "markdown",
   "id": "17727e6a",
   "metadata": {},
   "source": [
    "## Creazione Smart Contract Authority\n",
    "Viene associato un account eth alla Smart Contract Authority che fa il deploy dei propri contratti"
   ]
  },
  {
   "cell_type": "code",
   "execution_count": null,
   "id": "9a768698",
   "metadata": {},
   "outputs": [],
   "source": [
    "SmartContractAuthority.create_sca(SCA_PATH, CONTRACTS_BUILD_PATH)"
   ]
  },
  {
   "cell_type": "markdown",
   "id": "84e3da0f",
   "metadata": {},
   "source": [
    "### Creazione dell'istanza\n",
    "Viene effettivamente caricata l'istanza della SCA a partire dal file JSON di persistenza generato nel blocco precedente"
   ]
  },
  {
   "cell_type": "code",
   "execution_count": null,
   "id": "3867ffa9",
   "metadata": {},
   "outputs": [],
   "source": [
    "sca = SmartContractAuthority(SCA_PATH+\"SCA\", CONTRACTS_BUILD_PATH)"
   ]
  },
  {
   "cell_type": "markdown",
   "id": "1db86df8",
   "metadata": {},
   "source": [
    "## Creazione Università\n",
    "In questo blocco vengono create le università della rete assegnando loro un nome, che poi risulterà nelle directory dedicate, ed un account eth tramite il quale faranno il deploy dei contratti per la gestione di credenziali e studenti."
   ]
  },
  {
   "cell_type": "code",
   "execution_count": null,
   "id": "17f71de2",
   "metadata": {},
   "outputs": [],
   "source": [
    "University.create_university(UNIVERSITIES_PATH, CONTRACTS_BUILD_PATH)\n",
    "\n",
    "University.create_university(UNIVERSITIES_PATH, CONTRACTS_BUILD_PATH)"
   ]
  },
  {
   "cell_type": "markdown",
   "id": "68731a19",
   "metadata": {},
   "source": [
    "### Creazione dell'istanza\n",
    "Viene effettivamente caricata l'istanza delle università a partire dal file JSON di persistenza generato nel blocco precedente"
   ]
  },
  {
   "cell_type": "code",
   "execution_count": null,
   "id": "ddcd76e7",
   "metadata": {},
   "outputs": [],
   "source": [
    "uni_origin = University(UNIVERSITIES_PATH+'University_UniSalerno', CONTRACTS_BUILD_PATH)\n",
    "\n",
    "uni_erasmus = University(UNIVERSITIES_PATH+'University_UniCaen', CONTRACTS_BUILD_PATH)"
   ]
  },
  {
   "cell_type": "markdown",
   "id": "073b37cc",
   "metadata": {},
   "source": [
    "## Creazione studente\n",
    "Infine, viene creato uno studente che, a scopo dimostrativo, verrà immatricolato presso un'università che poi verrà considerata di origine per poi iniziare un'esperienza erasmus presso l'altra università creata nella fase precedente."
   ]
  },
  {
   "cell_type": "code",
   "execution_count": null,
   "id": "18c3b943",
   "metadata": {},
   "outputs": [],
   "source": [
    "Student.create_student(STUDENTS_PATH)"
   ]
  },
  {
   "cell_type": "markdown",
   "id": "820592bc",
   "metadata": {},
   "source": [
    "### Creazione dell'istanza\n",
    "Viene effettivamente caricata l'istanza dello studente a partire dal file JSON di persistenza generato nel blocco precedente"
   ]
  },
  {
   "cell_type": "code",
   "execution_count": null,
   "id": "ac547bf0",
   "metadata": {},
   "outputs": [],
   "source": [
    "studente = Student(STUDENTS_PATH+'Student_AntonioCarbone')"
   ]
  },
  {
   "cell_type": "markdown",
   "id": "8ed7bc46",
   "metadata": {},
   "source": [
    "## Accreditamento università create\n",
    "<p>Affiché possano operare all'interno del sistema come fornitori di credenziali, le università, devono essere accreditate da parte della SCA (paragrafo 2.2.1).<p>\n",
    "<p>In questo modo la chiave pubblica e gli indirizzi degli smart contract delle università sono registrati sulla blockchain ed abbinati ad un UID che viene deciso al momento della registrazione dalla SCA ed assegnato alle università.<p>"
   ]
  },
  {
   "cell_type": "code",
   "execution_count": null,
   "id": "bbd5dfb3",
   "metadata": {},
   "outputs": [],
   "source": [
    "#1. registrazione dell'università sulla blockchain.\n",
    "UID, sca_contract_address = sca.register_university(uni_origin) \n",
    "\n",
    "#2. assegnazione dell'UID.\n",
    "uni_origin.update_uid(UID)\n",
    "\n",
    "#3. rilascio dell'indirizzo del registro delle università (smart contract),\n",
    "#posseduto dalla SCA, per future rischieste di verifica.\n",
    "uni_origin.update_sca_contract_address(sca_contract_address)     \n",
    "                                                               \n",
    "UID, sca_contract_address = sca.register_university(uni_erasmus)\n",
    "uni_erasmus.update_uid(UID)\n",
    "uni_erasmus.update_sca_contract_address(sca_contract_address)"
   ]
  },
  {
   "cell_type": "markdown",
   "id": "47e06d1e",
   "metadata": {},
   "source": [
    "## Immatricolazione presso università di origine\n",
    "Implementazione dello scenario descritto nel paragrafo 2.3.1 della documentazione, lo studente si immatricola presso l'università di origine ed ottiene una credenziale studente valida all'interno della rete gestita dalla SCA."
   ]
  },
  {
   "cell_type": "code",
   "execution_count": null,
   "id": "97830704",
   "metadata": {},
   "outputs": [],
   "source": [
    "#1. Registrazione della chiave pubblica dello studente e rilascio del SID.\n",
    "credenziale_studente, sid = uni_origin.register_student(studente)\n",
    "\n",
    "#2. assegnazione del SID allo studente.\n",
    "studente.set_sid(sid) \n",
    "\n",
    "#3. rilascio della credenziale di immatricolaizone allo studente, che la aggiunge alle proprie.\n",
    "studente.save_credential(credenziale_studente)"
   ]
  },
  {
   "cell_type": "markdown",
   "id": "6138f1c9",
   "metadata": {},
   "source": [
    "## Immatricolazione presso università estera\n",
    "Implementazione dello scenario descritto nel paragrafo 2.3.2 della documentazione, lo studente presenta la propria credenziale rilasciata dall'università d'origine presso l'università in cui desidera effettuare l'erasmus la quale salva il SID ed il CID dello studente dopo aver controllato che tutte le informazioni ricevute siano in regola."
   ]
  },
  {
   "cell_type": "code",
   "execution_count": null,
   "id": "9ff74b29",
   "metadata": {},
   "outputs": [],
   "source": [
    "#1. immatricolazione presso l'università estera che, verifica la validità della credenziale fornita dallo studente,\n",
    "#verifica la firma inserita dall'università che ha rilasciato la credenziale ed infine propone una challenge allo studente.\n",
    "uni_erasmus.register_erasmus_student(studente, studente.credentials[0].toJSON())\n",
    "\n",
    "#2. L'università estera aggiorna la lista di studenti in erasmus presso la propria struttura.\n",
    "uni_erasmus.update_erasmus_students(studente, credenziale_studente.CID)"
   ]
  },
  {
   "cell_type": "markdown",
   "id": "b9d78735",
   "metadata": {},
   "source": [
    "## Richiesta e rilascio credenziale carriera\n",
    "<p>Al termine dell'esperienza all'estero dello studente, esso può richiedere il rilascio della propria credenziale carriera attestante tutto ciò che ha fatto in erasmus.<p>\n",
    "<p>Per fare ciò lo studente deve presentare il proprio SID attraverso una richiesta specifica per il rilascio (da noi simulata attraverso request_career_credential()). L'università estera, invece, dovrà verificare validità della credenziale in suo possesso, firma dell'università d'origine e challenge per poi rilasciare la credenziale firmata da lei.<p>"
   ]
  },
  {
   "cell_type": "code",
   "execution_count": null,
   "id": "d2baf232",
   "metadata": {},
   "outputs": [],
   "source": [
    "#1. richiesta della credenziale inviando il proprio SID, \n",
    "# l'università verifica tutto ciò che ha ricevuto e rilascia la career_credential\n",
    "career_credential = uni_erasmus.request_career_credential(studente)\n",
    "\n",
    "#2. rilascio della credenziale carriera allo studente, che la aggiunge alle proprie.\n",
    "studente.save_credential(career_credential)"
   ]
  },
  {
   "cell_type": "markdown",
   "id": "059828dc",
   "metadata": {},
   "source": [
    "## Costruzione della credenziale parziale\n",
    "<p>Questo meccanismo è stato realizzato puramente a scopo dimostrativo, dal momento che sorge la necessità di creare una credenziale da condividere.<p>\n",
    "<p>Perciò è stato creato un wizard messo a disposizione dello studente tramite il quale può scegliere quale delle credenziali in suo possesso condividere e quali properties includere nella condivisione.<p>"
   ]
  },
  {
   "cell_type": "code",
   "execution_count": null,
   "id": "c78ca1d3",
   "metadata": {},
   "outputs": [],
   "source": [
    "#1. selezione della credenziale da condividere e selezione delle properties da divulgare,\n",
    "#preoccupandosi chiaramente di gestire il meccanismo delle proofs.\n",
    "partial_credential = studente.build_shared_credential()\n",
    "\n",
    "#2. rilascio della credenziale parziale allo studente, che la aggiunge alle proprie.\n",
    "studente.save_credential(partial_credential)"
   ]
  },
  {
   "cell_type": "markdown",
   "id": "301eb1e9",
   "metadata": {},
   "source": [
    "## Condivisione credenziale\n",
    "Infine, la credenziale appena creata viene condivisa (paragrafo 2.3.4) all'università d'origine, che ne può verificare la validità attraverso il meccanismo delle merkle proofs allegate ad ogni property."
   ]
  },
  {
   "cell_type": "code",
   "execution_count": null,
   "id": "988cdd56",
   "metadata": {},
   "outputs": [],
   "source": [
    "uni_origin.validate_shared_credential(studente,partial_credential.toJSON())"
   ]
  },
  {
   "cell_type": "markdown",
   "id": "6c5ea75c",
   "metadata": {},
   "source": [
    "## Revoca\n",
    "<p>Tutto ciò che nelle fasi precedenti è stato registrato e rilasciato può, come richiesto da specifica, essere revocato.<p>\n",
    "<p>Questo viene fatto sempre tramite blockchain, in particolare tramite richieste effettuate da parte dell'università che ha rilasciato la credenziale verso il proprio smart contract dedicato.<p>\n",
    "<p>A scopo illustrativo questo procedimento viene effettuato solo per le credenziali, ma sono predisposti tutti i metodi di modifica di SID ed UID<p>"
   ]
  },
  {
   "cell_type": "markdown",
   "id": "da5bee17",
   "metadata": {},
   "source": [
    "### Revoca credenziale studente"
   ]
  },
  {
   "cell_type": "code",
   "execution_count": null,
   "id": "3c205736",
   "metadata": {},
   "outputs": [],
   "source": [
    "uni_origin.revoke_cid(\"CID:UNISA:1\")"
   ]
  },
  {
   "cell_type": "markdown",
   "id": "cd2d5cde",
   "metadata": {},
   "source": [
    "### Revoca credenziale carriera"
   ]
  },
  {
   "cell_type": "code",
   "execution_count": null,
   "id": "a160e2c3",
   "metadata": {},
   "outputs": [],
   "source": [
    "uni_erasmus.revoke_cid(\"CID:ENSICAEN:0\")"
   ]
  },
  {
   "cell_type": "markdown",
   "id": "c5243107",
   "metadata": {},
   "source": [
    "# Threat models"
   ]
  },
  {
   "cell_type": "markdown",
   "id": "5e3195ce",
   "metadata": {},
   "source": [
    "## Manomissione di una credenziale\n",
    "<p>In questo blocco, tramite l'ausilio di una funzione che manomette il JSON di una credenziale, viene testata la resistenza della soluzione al threat model 1.3.2 e, implicitamente, anche al threat 1.3.3.<p>\n",
    "<p>Difatti, la credenziale modificata, genera una condizione di eccezione poichè viene verificata una incongruenza nelle merkle proof (si tratta di una credenziale parziale)<p>\n",
    "<p>Nel caso di una credenziale totale, invece, la situazione è del tutto simile, come possiamo osservare nel secondo snippet di codice. Viene infatti rilevata l'invalidità della firma.<p>"
   ]
  },
  {
   "cell_type": "code",
   "execution_count": null,
   "id": "2eef3a73",
   "metadata": {},
   "outputs": [],
   "source": [
    "parsed_partial_credential = json.loads(partial_credential.toJSON())\n",
    "tampered_credential = tamper_all_credential_properties(parsed_partial_credential)\n",
    "uni_origin.validate_shared_credential(studente, json.dumps(tampered_credential, ensure_ascii=False, indent=4))"
   ]
  },
  {
   "cell_type": "code",
   "execution_count": null,
   "id": "94bcb17c",
   "metadata": {},
   "outputs": [],
   "source": [
    "parsed_partial_credential = json.loads(studente.credentials[1].toJSON()) #la credenziale 1 nella demo è quella che lo studente ha ottenuto al termine della carriera ERASMUS\n",
    "tampered_credential = tamper_all_credential_properties(parsed_partial_credential)\n",
    "uni_origin.validate_shared_credential(studente, json.dumps(tampered_credential, ensure_ascii=False, indent=4))"
   ]
  },
  {
   "cell_type": "markdown",
   "id": "08aea8f5",
   "metadata": {},
   "source": [
    "## Ente certificatore fasullo\n",
    "<p>In questo blocco viene testata la resistenza del sisitema al threat model 1.3.4, in particolare un ente certificatore che è accreditato presso la SCA ma fornisce sotto richiesta di uno studente credenziali contenenti informazioni fasulle.<p>\n",
    "<p>Chiaramente se la credenziale fasulla viene registrata sulla blockchain e le informazioni contenute in essa sono in regola non è possibile evitare questa situazione tramite l'implementazione della soluzione. Bensì dovrebbe essere un terzo che si rende conto della situazione e segnala l'ente e gli studenti complici alla SCA che provvederà a revocare l'UID in questione e comunicherà alle università di origine degli studenti coinvolti di revocarne i sid.<p>\n",
    "<p>Allo stesso modo anche il threat model dell'ente certificatore malintenzionato (1.3.5) che modifica le credenziali rilasciate"
   ]
  },
  {
   "cell_type": "code",
   "execution_count": null,
   "id": "d64ceb66",
   "metadata": {},
   "outputs": [],
   "source": [
    "University.create_university(UNIVERSITIES_PATH, CONTRACTS_BUILD_PATH)\n",
    "uni_fake = University(UNIVERSITIES_PATH+'University_UniFake', CONTRACTS_BUILD_PATH)\n",
    "\n",
    "#Accreditamemnto dell'università fasulla\n",
    "UID, sca_contract_address = sca.register_university(uni_fake) \n",
    "uni_fake.update_uid(UID)\n",
    "uni_fake.update_sca_contract_address(sca_contract_address) \n",
    "\n",
    "Student.create_student(STUDENTS_PATH)\n",
    "studente_complice = Student(STUDENTS_PATH+'Student_CompliceComplice')\n",
    "\n",
    "#Immatricolazione dello studente complice presso un'università accreditata\n",
    "credenziale_studente_complice, sid = uni_origin.register_student(studente_complice)\n",
    "studente_complice.set_sid(sid)\n",
    "studente_complice.save_credential(credenziale_studente_complice)\n",
    "\n",
    "#Immatricolazione presso l'università fasulla per il rilascio della credenziale fake\n",
    "uni_fake.register_erasmus_student(studente_complice, studente_complice.credentials[0].toJSON())\n",
    "uni_fake.update_erasmus_students(studente_complice, credenziale_studente_complice.CID)\n",
    "\n",
    "#Richiesta della credenziale carriera fasulla\n",
    "fake_career_credential = uni_fake.request_career_credential(studente_complice)\n",
    "studente_complice.save_credential(fake_career_credential)\n",
    "\n",
    "#Revoca di UID e del SID successivamente alla segnalazione\n",
    "sca.revoke_uid(uni_fake.UID)\n",
    "uni_origin.revoke_sid(studente_complice)"
   ]
  },
  {
   "cell_type": "code",
   "execution_count": null,
   "id": "890fb7d5",
   "metadata": {},
   "outputs": [],
   "source": [
    "from University.services.university_blockchain_manager import UniversityBlockchainManager\n",
    "manager = UniversityBlockchainManager('http://127.0.0.1:7545')\n",
    "\n",
    "origin_uni_uid = split_UID(uni_origin.UID)\n",
    "_, complice_sid = split_SID(studente_complice.SID)\n",
    "\n",
    "_, _, isValid = manager.verify_sid_on_chain(uni_origin.sca_contract_instance, origin_uni_uid, complice_sid)\n",
    "if not isValid:\n",
    "    print('SID non valido')\n"
   ]
  },
  {
   "cell_type": "code",
   "execution_count": null,
   "id": "c6c73ba0",
   "metadata": {},
   "outputs": [],
   "source": [
    "#Prova di immatricolazione di uno studente affidabile presso l'università fasulla per verifica revoca dell'UID.\n",
    "new_fake_credential,_ = uni_fake.register_student(studente)\n",
    "uni_origin.validate_shared_credential(studente, new_fake_credential.toJSON())"
   ]
  },
  {
   "cell_type": "markdown",
   "id": "c0a708a3",
   "metadata": {},
   "source": [
    "## Sosia\n",
    "<p>Per simulare lo scenario di un sosia (Threat 1.3.6), proviamo a far condividere la credenziale dello studente dei precedenti esperimenti ad un sosia, immatricolando quest'ultimo alla stessa università, anche se questo non influenza l'esito dell'esperimento.<p>\n",
    "<p>Lo studente difatti, non riesce a superare la challenge di autenticazione, e viene pertanto generata una eccezione sul controllo della firma del nonce.<p>"
   ]
  },
  {
   "cell_type": "code",
   "execution_count": null,
   "id": "88cf31a3",
   "metadata": {},
   "outputs": [],
   "source": [
    "Student.create_student(STUDENTS_PATH)\n",
    "studente_sosia = Student(STUDENTS_PATH+'Student_SosiaSosia')\n",
    "credenziale_studente_sosia,sid_sosia = uni_origin.register_student(studente)\n",
    "studente_sosia.set_sid(sid_sosia)\n",
    "studente_sosia.save_credential(credenziale_studente_sosia)"
   ]
  },
  {
   "cell_type": "code",
   "execution_count": null,
   "id": "ed8721c2",
   "metadata": {},
   "outputs": [],
   "source": [
    "uni_origin.validate_shared_credential(studente_sosia,studente.credentials[1].toJSON())"
   ]
  },
  {
   "cell_type": "markdown",
   "id": "b37bd9dc",
   "metadata": {},
   "source": [
    "## Forgiatore di credenziali\n",
    "<p>In questo blocco, tramite l'ausilio di un metodo che crea una nuova credenziale carriera, viene testata la resistenza della soluzione al threat model 1.3.7.<p>\n",
    "<p>Lo stesso metodo viene utilizzato dall'università estera quando le viene chiesto il rilascio di una nuova credenziale carriera, ma in questo caso la registrazione non viene effettuata dato che l'ente certificatore non è stato accreditato presso la SCA.<p>"
   ]
  },
  {
   "cell_type": "code",
   "execution_count": null,
   "id": "fba39c03",
   "metadata": {},
   "outputs": [],
   "source": [
    "forged_properties = generate_random_properties(5)\n",
    "forged_credential = Credential(\n",
    "    certificateId = assemble_CID('UNIFORGE', 7),\n",
    "    studentId=\"SID:UNISA:1\",\n",
    "    universityId=\"UID:UNIFORGE\",\n",
    "    issuanceDate= data_odierna(),\n",
    "    properties=forged_properties\n",
    ")\n",
    "uni_origin.validate_shared_credential(studente, forged_credential.toJSON())"
   ]
  }
 ],
 "metadata": {
  "kernelspec": {
   "display_name": ".venv",
   "language": "python",
   "name": "python3"
  },
  "language_info": {
   "codemirror_mode": {
    "name": "ipython",
    "version": 3
   },
   "file_extension": ".py",
   "mimetype": "text/x-python",
   "name": "python",
   "nbconvert_exporter": "python",
   "pygments_lexer": "ipython3",
   "version": "3.12.0"
  }
 },
 "nbformat": 4,
 "nbformat_minor": 5
}
