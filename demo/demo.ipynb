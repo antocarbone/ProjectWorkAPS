{
 "cells": [
  {
   "cell_type": "markdown",
   "id": "a7912595",
   "metadata": {},
   "source": [
    "# Inizializzazione università e SCA"
   ]
  },
  {
   "cell_type": "code",
   "execution_count": 1,
   "id": "385d7443",
   "metadata": {},
   "outputs": [
    {
     "name": "stdout",
     "output_type": "stream",
     "text": [
      "Università creata con successo.\n",
      "Università creata con successo.\n",
      "\n",
      "Studente creato e salvato in: ./students/Student_AntonioCarbone/persistency/student_data.json\n"
     ]
    }
   ],
   "source": [
    "from SmartContractAuthority.sca import SmartContractAuthority\n",
    "from cryptography.hazmat.primitives.asymmetric import rsa, padding\n",
    "from cryptography.hazmat.primitives import serialization, hashes\n",
    "from University.university import University\n",
    "from Student.student import Student\n",
    "import base64\n",
    "\n",
    "SCA_PATH = './smart_contract_authority/'\n",
    "UNIVERSITIES_PATH = './universities/'\n",
    "STUDENTS_PATH = './students/'\n",
    "CONTRACTS_BUILD_PATH = './SmartContracts/build'\n",
    "SmartContractAuthority.create_sca(SCA_PATH, CONTRACTS_BUILD_PATH)\n",
    "University.create_university(UNIVERSITIES_PATH, CONTRACTS_BUILD_PATH)\n",
    "Student.create_student(STUDENTS_PATH)"
   ]
  },
  {
   "cell_type": "markdown",
   "id": "073b37cc",
   "metadata": {},
   "source": [
    "## Creazione studente"
   ]
  },
  {
   "cell_type": "code",
   "execution_count": 3,
   "id": "97830704",
   "metadata": {},
   "outputs": [
    {
     "name": "stdout",
     "output_type": "stream",
     "text": [
      "Studente 'Antonio Carbone' caricato da ./students/Student_AntonioCarbone\n",
      "L'UID inserito risulta già utilizzato.\n",
      "Registrazione università completata.\n",
      "Registrazione studente completata. Stato: 1\n",
      "Registrazione credenziale completata. Stato: 1\n",
      "Credenziale salvata in: ./students/Student_AntonioCarbone/persistency/credentials/credential_0.json\n",
      "Il SID contenuto nella credenziale è valido.\n",
      "Errore nella verifica della firma: argument 'signature': Cannot convert \"<class 'str'>\" instance to a buffer.\n",
      "Did you mean to pass a bytestring instead?\n",
      "Firma dello studente verificata correttamente.\n"
     ]
    }
   ],
   "source": [
    "sca = SmartContractAuthority(SCA_PATH+\"SCA\", CONTRACTS_BUILD_PATH)\n",
    "uni = University(UNIVERSITIES_PATH+'University_UNISA', CONTRACTS_BUILD_PATH)\n",
    "studente = Student(STUDENTS_PATH+'Student_AntonioCarbone')\n",
    "UID, sca_contract_address = sca.register_university(uni)\n",
    "uni.update_uid(UID)\n",
    "uni.update_sca_contract_address(sca_contract_address)\n",
    "credenziale_studente = uni.register_student(studente)\n",
    "studente.save_credential(credenziale_studente)\n",
    "\n",
    "sign = studente.priv_key.sign(\n",
    "            studente.credentials[0].toJSON().encode('utf-8'),\n",
    "            padding.PKCS1v15(),\n",
    "            hashes.SHA256()\n",
    "        )\n",
    "        \n",
    "signed_credential = base64.b64encode(sign).decode('utf-8')\n",
    "\n",
    "uni.register_erasmus_student(studente, studente.credentials[0].toJSON(), signed_credential)"
   ]
  },
  {
   "cell_type": "markdown",
   "id": "8aeedef4",
   "metadata": {},
   "source": [
    "## Immatricolazione studente presso università d'origine"
   ]
  },
  {
   "cell_type": "code",
   "execution_count": null,
   "id": "b650026c",
   "metadata": {},
   "outputs": [],
   "source": []
  },
  {
   "cell_type": "markdown",
   "id": "83023abf",
   "metadata": {},
   "source": [
    "## Immatricolazione studente presso università estera"
   ]
  },
  {
   "cell_type": "code",
   "execution_count": null,
   "id": "65d7713e",
   "metadata": {},
   "outputs": [],
   "source": []
  }
 ],
 "metadata": {
  "kernelspec": {
   "display_name": ".venv",
   "language": "python",
   "name": "python3"
  },
  "language_info": {
   "codemirror_mode": {
    "name": "ipython",
    "version": 3
   },
   "file_extension": ".py",
   "mimetype": "text/x-python",
   "name": "python",
   "nbconvert_exporter": "python",
   "pygments_lexer": "ipython3",
   "version": "3.13.2"
  }
 },
 "nbformat": 4,
 "nbformat_minor": 5
}
