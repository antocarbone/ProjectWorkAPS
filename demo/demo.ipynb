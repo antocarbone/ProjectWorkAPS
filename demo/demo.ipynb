{
 "cells": [
  {
   "cell_type": "markdown",
   "id": "a7912595",
   "metadata": {},
   "source": [
    "# Inizializzazione università e SCA"
   ]
  },
  {
   "cell_type": "code",
   "execution_count": 2,
   "id": "385d7443",
   "metadata": {},
   "outputs": [
    {
     "name": "stdout",
     "output_type": "stream",
     "text": [
      "SmartContractAuthority deployed at address: 0x476059cD57800DB8eB88f67c2Aa38A6fCf8251e0\n",
      "SCA creata con successo e configurazione salvata.\n",
      "SIDSmartContract deployed at: 0x2F54f4f0EBECb9227fA0863a969A94545A554821\n",
      "CIDSmartContract deployed at: 0x132145408A9694ee8ab7302E3eEa4be8Dc46fe4f\n",
      "Università creata con successo.\n",
      "SIDSmartContract deployed at: 0x654F9C2b78DdC056b3453897B58417Ac1dC36e00\n",
      "CIDSmartContract deployed at: 0xAc8dD10144E5dFD226bD97990f932D6f8a359854\n",
      "Università creata con successo.\n",
      "\n",
      "Studente creato e salvato in: ./students/Student_EnricoCavuoto\\persistency\\student_data.json\n"
     ]
    }
   ],
   "source": [
    "from SmartContractAuthority.sca import SmartContractAuthority\n",
    "from cryptography.hazmat.primitives.asymmetric import rsa, padding\n",
    "from cryptography.hazmat.primitives import serialization, hashes\n",
    "from University.university import University\n",
    "from Student.student import Student\n",
    "import base64\n",
    "import sys\n",
    "\n",
    "SCA_PATH = './smart_contract_authority/'\n",
    "UNIVERSITIES_PATH = './universities/'\n",
    "STUDENTS_PATH = './students/'\n",
    "CONTRACTS_BUILD_PATH = './SmartContracts/build'\n",
    "SmartContractAuthority.create_sca(SCA_PATH, CONTRACTS_BUILD_PATH)\n",
    "University.create_university(UNIVERSITIES_PATH, CONTRACTS_BUILD_PATH)\n",
    "University.create_university(UNIVERSITIES_PATH, CONTRACTS_BUILD_PATH)\n",
    "Student.create_student(STUDENTS_PATH)"
   ]
  },
  {
   "cell_type": "markdown",
   "id": "073b37cc",
   "metadata": {},
   "source": [
    "## Creazione studente"
   ]
  },
  {
   "cell_type": "code",
   "execution_count": 6,
   "id": "97830704",
   "metadata": {},
   "outputs": [
    {
     "name": "stdout",
     "output_type": "stream",
     "text": [
      "Studente 'Enrico Cavuoto' caricato da ./students/Student_EnricoCavuoto\n",
      "Il CID associato alla credenziale fornita risulta valido.\n",
      "Firma dell'issuer verificata correttamente.\n",
      "Il SID contenuto nella credenziale è valido.\n",
      "Firma dello studente verificata correttamente.\n",
      "Complimenti Enrico Cavuoto \n",
      "Immatricolazione Erasmus completata!\n",
      "ENSICAEN ti dà il benvenuto!\n"
     ]
    }
   ],
   "source": [
    "sca = SmartContractAuthority(SCA_PATH+\"SCA\", CONTRACTS_BUILD_PATH)\n",
    "uni = University(UNIVERSITIES_PATH+'University_UNISA', CONTRACTS_BUILD_PATH)\n",
    "uni2= University(UNIVERSITIES_PATH+'University_ENSICAEN', CONTRACTS_BUILD_PATH)\n",
    "\n",
    "studente = Student(STUDENTS_PATH+'Student_EnricoCavuoto')\n",
    "\n",
    "#UID, sca_contract_address = sca.register_university(uni)\n",
    "#uni.update_uid(UID)\n",
    "#uni.update_sca_contract_address(sca_contract_address)\n",
    "\n",
    "#UID, sca_contract_address = sca.register_university(uni2)\n",
    "#uni2.update_uid(UID)\n",
    "#uni2.update_sca_contract_address(sca_contract_address)\n",
    "#credenziale_studente,sid = uni.register_student(studente)\n",
    "#studente.save_credential(credenziale_studente)\n",
    "\n",
    "uni2.register_erasmus_student(studente, studente.credentials[0].toJSON())\n"
   ]
  },
  {
   "cell_type": "code",
   "execution_count": null,
   "id": "9ff74b29",
   "metadata": {},
   "outputs": [
    {
     "ename": "TypeError",
     "evalue": "SmartContractAuthority.verify_sid() missing 1 required positional argument: 'sid'",
     "output_type": "error",
     "traceback": [
      "\u001b[31m---------------------------------------------------------------------------\u001b[39m",
      "\u001b[31mTypeError\u001b[39m                                 Traceback (most recent call last)",
      "\u001b[36mCell\u001b[39m\u001b[36m \u001b[39m\u001b[32mIn[9]\u001b[39m\u001b[32m, line 1\u001b[39m\n\u001b[32m----> \u001b[39m\u001b[32m1\u001b[39m \u001b[43msca\u001b[49m\u001b[43m.\u001b[49m\u001b[43mverify_sid\u001b[49m\u001b[43m(\u001b[49m\u001b[43mstudente\u001b[49m\u001b[43m.\u001b[49m\u001b[43mSID\u001b[49m\u001b[43m)\u001b[49m\n",
      "\u001b[31mTypeError\u001b[39m: SmartContractAuthority.verify_sid() missing 1 required positional argument: 'sid'"
     ]
    }
   ],
   "source": []
  },
  {
   "cell_type": "markdown",
   "id": "8aeedef4",
   "metadata": {},
   "source": [
    "## Immatricolazione studente presso università d'origine"
   ]
  },
  {
   "cell_type": "code",
   "execution_count": null,
   "id": "b650026c",
   "metadata": {},
   "outputs": [],
   "source": []
  },
  {
   "cell_type": "markdown",
   "id": "83023abf",
   "metadata": {},
   "source": [
    "## Immatricolazione studente presso università estera"
   ]
  },
  {
   "cell_type": "code",
   "execution_count": null,
   "id": "65d7713e",
   "metadata": {},
   "outputs": [],
   "source": []
  }
 ],
 "metadata": {
  "kernelspec": {
   "display_name": ".venv",
   "language": "python",
   "name": "python3"
  },
  "language_info": {
   "codemirror_mode": {
    "name": "ipython",
    "version": 3
   },
   "file_extension": ".py",
   "mimetype": "text/x-python",
   "name": "python",
   "nbconvert_exporter": "python",
   "pygments_lexer": "ipython3",
   "version": "3.12.0"
  }
 },
 "nbformat": 4,
 "nbformat_minor": 5
}
