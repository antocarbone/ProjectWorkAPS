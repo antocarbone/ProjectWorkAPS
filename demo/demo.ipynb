{
 "cells": [
  {
   "cell_type": "markdown",
   "id": "a7912595",
   "metadata": {},
   "source": [
    "# Inizializzazione università e SCA"
   ]
  },
  {
   "cell_type": "code",
   "execution_count": null,
   "id": "385d7443",
   "metadata": {},
   "outputs": [],
   "source": []
  },
  {
   "cell_type": "markdown",
   "id": "073b37cc",
   "metadata": {},
   "source": [
    "## Creazione studente"
   ]
  },
  {
   "cell_type": "code",
   "execution_count": null,
   "id": "97830704",
   "metadata": {},
   "outputs": [],
   "source": []
  },
  {
   "cell_type": "markdown",
   "id": "8aeedef4",
   "metadata": {},
   "source": [
    "## Immatricolazione studente presso università d'origine"
   ]
  },
  {
   "cell_type": "code",
   "execution_count": null,
   "id": "b650026c",
   "metadata": {},
   "outputs": [],
   "source": []
  },
  {
   "cell_type": "markdown",
   "id": "83023abf",
   "metadata": {},
   "source": [
    "## Immatricolazione studente presso università estera"
   ]
  },
  {
   "cell_type": "code",
   "execution_count": null,
   "id": "65d7713e",
   "metadata": {},
   "outputs": [],
   "source": []
  }
 ],
 "metadata": {
  "language_info": {
   "name": "python"
  }
 },
 "nbformat": 4,
 "nbformat_minor": 5
}
