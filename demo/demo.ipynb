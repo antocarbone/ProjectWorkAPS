{
 "cells": [
  {
   "cell_type": "markdown",
   "id": "a7912595",
   "metadata": {},
   "source": [
    "# Inizializzazione università e SCA"
   ]
  },
  {
   "cell_type": "code",
   "execution_count": 1,
   "id": "385d7443",
   "metadata": {},
   "outputs": [],
   "source": [
    "from SmartContractAuthority.sca import SmartContractAuthority\n",
    "from University.university import University\n",
    "from Student.student import Student\n",
    "import json\n",
    "from SimulationUtils.simulationUtils import *\n",
    "\n",
    "SCA_PATH = './smart_contract_authority/'\n",
    "UNIVERSITIES_PATH = './universities/'\n",
    "STUDENTS_PATH = './students/'\n",
    "CONTRACTS_BUILD_PATH = './SmartContracts/build'"
   ]
  },
  {
   "cell_type": "markdown",
   "id": "17727e6a",
   "metadata": {},
   "source": [
    "## Creazione Smart Contract Authority\n",
    "Viene associato un account eth alla Smart Contract Authority che fa il deploy dei propri contratti"
   ]
  },
  {
   "cell_type": "code",
   "execution_count": 2,
   "id": "9a768698",
   "metadata": {},
   "outputs": [
    {
     "name": "stdout",
     "output_type": "stream",
     "text": [
      "SmartContractAuthority deployed at address: 0x14e32DA25bA65D0eE86B14E808E404F03b83DaAf\n",
      "SCA creata con successo e configurazione salvata.\n"
     ]
    },
    {
     "data": {
      "text/plain": [
       "<SmartContractAuthority.sca.SmartContractAuthority at 0x1a61fd5ab40>"
      ]
     },
     "execution_count": 2,
     "metadata": {},
     "output_type": "execute_result"
    }
   ],
   "source": [
    "SmartContractAuthority.create_sca(SCA_PATH, CONTRACTS_BUILD_PATH)"
   ]
  },
  {
   "cell_type": "markdown",
   "id": "84e3da0f",
   "metadata": {},
   "source": [
    "### Creazione dell'istanza\n",
    "Viene effettivamente caricata l'istanza della SCA a partire dal file JSON di persistenza generato nel blocco precedente"
   ]
  },
  {
   "cell_type": "code",
   "execution_count": 3,
   "id": "3867ffa9",
   "metadata": {},
   "outputs": [],
   "source": [
    "sca = SmartContractAuthority(SCA_PATH+\"SCA\", CONTRACTS_BUILD_PATH)"
   ]
  },
  {
   "cell_type": "markdown",
   "id": "1db86df8",
   "metadata": {},
   "source": [
    "## Creazione Università\n",
    "In questo blocco vengono create le università della rete assegnando loro un nome, che poi risulterà nelle directory dedicate, ed un account eth tramite il quale faranno il deploy dei contratti per la gestione di credenziali e studenti."
   ]
  },
  {
   "cell_type": "code",
   "execution_count": 4,
   "id": "17f71de2",
   "metadata": {},
   "outputs": [
    {
     "name": "stdout",
     "output_type": "stream",
     "text": [
      "SIDSmartContract deployed at: 0x870FD6C3A4DF6dBA76a1B66D7FeDfFA4e3d4921e\n",
      "CIDSmartContract deployed at: 0x4B05bb3Dd86752F35775f8c765cef48e3C5fa39D\n",
      "Università creata con successo.\n",
      "SIDSmartContract deployed at: 0xD4fAAF672999feE20CA764B730CeFae331ec50Ae\n",
      "CIDSmartContract deployed at: 0x841fd76697cce5e5017653a152A3d658B20e42b0\n",
      "Università creata con successo.\n"
     ]
    },
    {
     "data": {
      "text/plain": [
       "<University.university.University at 0x1a61fdef140>"
      ]
     },
     "execution_count": 4,
     "metadata": {},
     "output_type": "execute_result"
    }
   ],
   "source": [
    "University.create_university(UNIVERSITIES_PATH, CONTRACTS_BUILD_PATH)\n",
    "\n",
    "University.create_university(UNIVERSITIES_PATH, CONTRACTS_BUILD_PATH)"
   ]
  },
  {
   "cell_type": "markdown",
   "id": "68731a19",
   "metadata": {},
   "source": [
    "### Creazione dell'istanza\n",
    "Viene effettivamente caricata l'istanza delle università a partire dal file JSON di persistenza generato nel blocco precedente"
   ]
  },
  {
   "cell_type": "code",
   "execution_count": 5,
   "id": "ddcd76e7",
   "metadata": {},
   "outputs": [],
   "source": [
    "uni_origin = University(UNIVERSITIES_PATH+'University_UNISA', CONTRACTS_BUILD_PATH)\n",
    "\n",
    "uni_erasmus = University(UNIVERSITIES_PATH+'University_ENSICAEN', CONTRACTS_BUILD_PATH)"
   ]
  },
  {
   "cell_type": "markdown",
   "id": "073b37cc",
   "metadata": {},
   "source": [
    "## Creazione studente"
   ]
  },
  {
   "cell_type": "code",
   "execution_count": 6,
   "id": "18c3b943",
   "metadata": {},
   "outputs": [
    {
     "name": "stdout",
     "output_type": "stream",
     "text": [
      "\n",
      "Studente creato e salvato in: ./students/Student_AntonioCarbone\\persistency\\student_data.json\n"
     ]
    }
   ],
   "source": [
    "Student.create_student(STUDENTS_PATH)"
   ]
  },
  {
   "cell_type": "code",
   "execution_count": 25,
   "id": "ac547bf0",
   "metadata": {},
   "outputs": [
    {
     "name": "stdout",
     "output_type": "stream",
     "text": [
      "Studente 'Antonio Carbone' caricato da ./students/Student_AntonioCarbone\n"
     ]
    }
   ],
   "source": [
    "studente = Student(STUDENTS_PATH+'Student_AntonioCarbone')"
   ]
  },
  {
   "cell_type": "markdown",
   "id": "8ed7bc46",
   "metadata": {},
   "source": [
    "## Accreditamento università create"
   ]
  },
  {
   "cell_type": "code",
   "execution_count": 8,
   "id": "bbd5dfb3",
   "metadata": {},
   "outputs": [
    {
     "name": "stdout",
     "output_type": "stream",
     "text": [
      "Registrazione Università (UID: unisa) completata con successo. Transaction Hash: bb79e65c844edc07543aa3631436f9af09ec151bab62ae2d49d700fbe8b94621\n",
      "Registrazione Università (UID: ensicaen) completata con successo. Transaction Hash: a4fd7d7d1a6705676cccaec6bbbf5315349ec64a1d8ff9f69aa064222483e332\n"
     ]
    }
   ],
   "source": [
    "UID, sca_contract_address = sca.register_university(uni_origin)\n",
    "uni_origin.update_uid(UID)\n",
    "uni_origin.update_sca_contract_address(sca_contract_address)\n",
    "\n",
    "UID, sca_contract_address = sca.register_university(uni_erasmus)\n",
    "uni_erasmus.update_uid(UID)\n",
    "uni_erasmus.update_sca_contract_address(sca_contract_address)"
   ]
  },
  {
   "cell_type": "markdown",
   "id": "47e06d1e",
   "metadata": {},
   "source": [
    "## Immatricolazione presso università di origine"
   ]
  },
  {
   "cell_type": "code",
   "execution_count": 9,
   "id": "97830704",
   "metadata": {},
   "outputs": [
    {
     "name": "stdout",
     "output_type": "stream",
     "text": [
      "Registrazione SID completata con successo. Transaction Hash: 76a27c3c4a1cb9233177aa6601cb83cbd9cf7d6f5426ec4928442fcb139972f0\n",
      "Registrazione CID completata con successo. Transaction Hash: b076a5192ec61643796f2560df7e608939919b92b3f4c1784ed4c6a4c9873748\n",
      "Credenziale salvata in: ./students/Student_AntonioCarbone\\persistency\\credentials\\credential_0.json\n"
     ]
    }
   ],
   "source": [
    "credenziale_studente,sid = uni_origin.register_student(studente)\n",
    "studente.set_sid(sid)\n",
    "studente.save_credential(credenziale_studente)"
   ]
  },
  {
   "cell_type": "markdown",
   "id": "6138f1c9",
   "metadata": {},
   "source": [
    "## Immatricolazione presso università estera"
   ]
  },
  {
   "cell_type": "code",
   "execution_count": 10,
   "id": "9ff74b29",
   "metadata": {},
   "outputs": [
    {
     "name": "stdout",
     "output_type": "stream",
     "text": [
      "Il CID associato alla credenziale fornita risulta valido.\n",
      "Firma dell'issuer verificata correttamente.\n",
      "Il SID contenuto nella credenziale è valido.\n",
      "Firma dello studente verificata correttamente.\n",
      "Complimenti Antonio Carbone \n",
      "Immatricolazione Erasmus completata!\n",
      "ENSICAEN ti dà il benvenuto!\n"
     ]
    }
   ],
   "source": [
    "uni_erasmus.register_erasmus_student(studente, studente.credentials[0].toJSON())\n",
    "uni_erasmus.update_erasmus_students(studente, credenziale_studente.CID)"
   ]
  },
  {
   "cell_type": "markdown",
   "id": "b9d78735",
   "metadata": {},
   "source": [
    "## Richiesta e rilascio credenziale carriera"
   ]
  },
  {
   "cell_type": "code",
   "execution_count": 11,
   "id": "d2baf232",
   "metadata": {},
   "outputs": [
    {
     "name": "stdout",
     "output_type": "stream",
     "text": [
      "Credenziale di immatricolazione dello studente valida.\n",
      "Il SID fornito è valido.\n",
      "Challenge di autenticazione superata.\n",
      "Registrazione CID completata con successo. Transaction Hash: e9b40201512ea4a06bf1b225dfb95c3ea5ceb4b1b2e17b1af01db2992d5995c7\n",
      "Complimenti Antonio Carbone \n",
      "Richiesta della tua credenziale carriera completata!\n",
      "Arrivederci da ENSICAEN!\n",
      "Credenziale salvata in: ./students/Student_AntonioCarbone\\persistency\\credentials\\credential_1.json\n"
     ]
    }
   ],
   "source": [
    "career_credential = uni_erasmus.request_career_credential(studente)\n",
    "studente.save_credential(career_credential)"
   ]
  },
  {
   "cell_type": "markdown",
   "id": "059828dc",
   "metadata": {},
   "source": [
    "## Costruzione della credenziale parziale"
   ]
  },
  {
   "cell_type": "code",
   "execution_count": 12,
   "id": "c78ca1d3",
   "metadata": {},
   "outputs": [
    {
     "name": "stdout",
     "output_type": "stream",
     "text": [
      "\n",
      "Seleziona una credenziale da condividere:\n",
      "0: CID = CID:unisa:1\n",
      "1: CID = CID:ensicaen:1\n",
      "\n",
      "Seleziona le proprietà da condividere (y/n):\n",
      "\n",
      "Credenziale parziale costruita con successo:\n",
      "{\n",
      "    \"certificateId\": \"CID:ensicaen:1\",\n",
      "    \"studentId\": \"SID:unisa:1\",\n",
      "    \"universityId\": \"UID:ensicaen\",\n",
      "    \"issuanceDate\": \"2023-10-01\",\n",
      "    \"properties\": [\n",
      "        {\n",
      "            \"typology\": \"ErasmusInfo\",\n",
      "            \"data\": {\n",
      "                \"programName\": \"Erasmus+ Europe\",\n",
      "                \"startActivity\": \"2024-09-01\",\n",
      "                \"endActivity\": \"2025-01-31\"\n",
      "            },\n",
      "            \"nonce\": \"17529447317422497\",\n",
      "            \"merkle_proof\": [\n",
      "                [\n",
      "                    \"2e7832730b37b90ad152a014457793a5e77d74312726b065313a67f5eaba6378\",\n",
      "                    \"R\"\n",
      "                ],\n",
      "                [\n",
      "                    \"d6478f270f85ef93e81ca699e3acc5c001bc5078133577de799fd06dd02c5320\",\n",
      "                    \"R\"\n",
      "                ],\n",
      "                [\n",
      "                    \"5b3479e7a7d0665cde5757d468444188f6fcdc0891d6022fd2d15a1273792c9d\",\n",
      "                    \"R\"\n",
      "                ]\n",
      "            ]\n",
      "        },\n",
      "        {\n",
      "            \"typology\": \"Residence\",\n",
      "            \"data\": {\n",
      "                \"typology\": \"off-campus\",\n",
      "                \"address\": \"Via Università 14, City\"\n",
      "            },\n",
      "            \"nonce\": \"17529447317421959\",\n",
      "            \"merkle_proof\": [\n",
      "                [\n",
      "                    \"7303257045bdc92bfecd7aa91c633774994f45f89a5cfae69f5791fec72c6aa4\",\n",
      "                    \"L\"\n",
      "                ],\n",
      "                [\n",
      "                    \"d6478f270f85ef93e81ca699e3acc5c001bc5078133577de799fd06dd02c5320\",\n",
      "                    \"R\"\n",
      "                ],\n",
      "                [\n",
      "                    \"5b3479e7a7d0665cde5757d468444188f6fcdc0891d6022fd2d15a1273792c9d\",\n",
      "                    \"R\"\n",
      "                ]\n",
      "            ]\n",
      "        },\n",
      "        {\n",
      "            \"typology\": \"ExtraActivity\",\n",
      "            \"data\": {\n",
      "                \"name\": \"Internship\",\n",
      "                \"cfu\": 1\n",
      "            },\n",
      "            \"nonce\": \"17529447317425228\",\n",
      "            \"merkle_proof\": [\n",
      "                [\n",
      "                    \"0f54933d7bc5cfd14de3c7adba144ef24692af187f5ff9cc8d0c01cd6ff59ab9\",\n",
      "                    \"R\"\n",
      "                ],\n",
      "                [\n",
      "                    \"f7d76eea78b184434a80a67a5306eb6977b81fb5a542b0ff5485ee1efba0813b\",\n",
      "                    \"R\"\n",
      "                ],\n",
      "                [\n",
      "                    \"be58d7586fc101a3f0d8ba22023d1153b5b4ff5e93650e0edd1a6a4556d2ebeb\",\n",
      "                    \"L\"\n",
      "                ]\n",
      "            ]\n",
      "        },\n",
      "        {\n",
      "            \"typology\": \"ExtraActivity\",\n",
      "            \"data\": {\n",
      "                \"name\": \"Debate Club\",\n",
      "                \"cfu\": 1\n",
      "            },\n",
      "            \"nonce\": \"17529447317421372\",\n",
      "            \"merkle_proof\": [\n",
      "                [\n",
      "                    \"8335845330c8093351c523ab3c821f4c3c18bfe178cef3af2da999e1751a7064\",\n",
      "                    \"L\"\n",
      "                ],\n",
      "                [\n",
      "                    \"c371ecce3b2587415e97dffb5d207c734420e77bc643e72c6f4868a7285c69db\",\n",
      "                    \"L\"\n",
      "                ],\n",
      "                [\n",
      "                    \"be58d7586fc101a3f0d8ba22023d1153b5b4ff5e93650e0edd1a6a4556d2ebeb\",\n",
      "                    \"L\"\n",
      "                ]\n",
      "            ]\n",
      "        }\n",
      "    ],\n",
      "    \"issuerSignature\": \"JURLxqoqAD1Fv+ueGPjq1oXkvfJijofA+sC14EyCOdakEQma/B9GaEC0uf9HIOlCksWHw2s6wxDycggMb0GggSkK2vA5m60P81wC0Ls+8+O+ywJXMlkIyMvNeNHG7QNss0Oi7AcDZABzObRK/e+SAg/eQjEJV/gRkBK3nHrgtxDvvAtDtl677vbkW2+7c0A5hAJbwjaLdp/0HIlqfgYnVehs9yPL+L9qLxabH/ei2K3y6SKVi43BqFvHAnDjTA9xB8tMCr9St1n5ZHwugG9ZVYB+DAAivDIUfim2RXr5eMOsa6jDfNiROudiqnlRRumoks6GNDn66Tg/7sMWb760fA==\"\n",
      "}\n",
      "Credenziale salvata in: ./students/Student_AntonioCarbone\\persistency\\credentials\\credential_2.json\n"
     ]
    }
   ],
   "source": [
    "partial_credential = studente.build_shared_credential()\n",
    "\n",
    "studente.save_credential(partial_credential)"
   ]
  },
  {
   "cell_type": "markdown",
   "id": "301eb1e9",
   "metadata": {},
   "source": [
    "## Condivisione credenziale"
   ]
  },
  {
   "cell_type": "code",
   "execution_count": 13,
   "id": "988cdd56",
   "metadata": {},
   "outputs": [
    {
     "name": "stdout",
     "output_type": "stream",
     "text": [
      "L'università che ha rilasciato la credenziale condivisa è fidata.\n",
      "Il SID presente nella credenziale è valido.\n",
      "Challenge di autenticazione superata.\n",
      "Le property sono state verificate correttamente!\n",
      "La credenziale condivisa è valida\n"
     ]
    }
   ],
   "source": [
    "uni_origin.validate_shared_credential(studente,partial_credential.toJSON())"
   ]
  },
  {
   "cell_type": "markdown",
   "id": "6c5ea75c",
   "metadata": {},
   "source": [
    "## Revoca credenziale di immatricolazione"
   ]
  },
  {
   "cell_type": "code",
   "execution_count": null,
   "id": "3c205736",
   "metadata": {},
   "outputs": [],
   "source": [
    "uni_origin.revoke_cid(\"CID:UNISA:1\")"
   ]
  },
  {
   "cell_type": "markdown",
   "id": "cd2d5cde",
   "metadata": {},
   "source": [
    "## Revoca credenziale carriera"
   ]
  },
  {
   "cell_type": "code",
   "execution_count": null,
   "id": "a160e2c3",
   "metadata": {},
   "outputs": [],
   "source": [
    "uni_erasmus.revoke_cid(\"CID:ENSICAEN:0\")"
   ]
  },
  {
   "cell_type": "markdown",
   "id": "5e3195ce",
   "metadata": {},
   "source": [
    "## Manomissione di una credenziale\n",
    "In questo blocco, tramite l'ausilio di una funzione che manomette il JSON di una credenziale, viene testata la resistenza della soluzione al threat model 1.3.2 e, implicitamente, anche al threat 1.3.3.\n",
    "Difatti, la credenziale modificata, genera una condizione di eccezione poichè viene verificata una incongruenza nelle proof di merkle (si tratta di una credenziale parziale)\n",
    "Nel caso di una credenziale totale, invece, la situazione è del tutto simile, come possiamo osservare nel secondo snippet di codice. Viene infatti rilevata l'invalidità della firma."
   ]
  },
  {
   "cell_type": "code",
   "execution_count": 14,
   "id": "2eef3a73",
   "metadata": {},
   "outputs": [
    {
     "name": "stdout",
     "output_type": "stream",
     "text": [
      "L'università che ha rilasciato la credenziale condivisa è fidata.\n",
      "Il SID presente nella credenziale è valido.\n",
      "Challenge di autenticazione superata.\n"
     ]
    },
    {
     "ename": "Exception",
     "evalue": "Errore durante la verifica della firma dell'issuer: Inconsistenza rilevata nella merkle proof della property 1 (Tipo: Residence). Root calcolata: 5d24c28f48cc287a39de1842604c6b9d5e39c7c0d3f50ad57d825d6543397f52, Root attesa: 2b857145324b4ded3862cb6e8c2c29b648d88a65578193eaf46cf7d7cea2bb74",
     "output_type": "error",
     "traceback": [
      "\u001b[31m---------------------------------------------------------------------------\u001b[39m",
      "\u001b[31mValueError\u001b[39m                                Traceback (most recent call last)",
      "\u001b[36mFile \u001b[39m\u001b[32mc:\\Users\\erric\\Documents\\pw_aps\\ProjectWorkAPS\\demo\\University\\university.py:379\u001b[39m, in \u001b[36mUniversity.validate_shared_credential\u001b[39m\u001b[34m(self, student, json_credential)\u001b[39m\n\u001b[32m    378\u001b[39m \u001b[38;5;28;01mtry\u001b[39;00m:\n\u001b[32m--> \u001b[39m\u001b[32m379\u001b[39m     final_hash = \u001b[38;5;28mbytes\u001b[39m.fromhex(\u001b[43mshared_credential\u001b[49m\u001b[43m.\u001b[49m\u001b[43mhash\u001b[49m\u001b[43m(\u001b[49m\u001b[43m)\u001b[49m)\n\u001b[32m    380\u001b[39m     erasmus_uni_public_key.verify(\n\u001b[32m    381\u001b[39m         issuer_signature_bytes,\n\u001b[32m    382\u001b[39m         final_hash,  \n\u001b[32m   (...)\u001b[39m\u001b[32m    387\u001b[39m         utils.Prehashed(hashes.SHA256()) \n\u001b[32m    388\u001b[39m     )      \n",
      "\u001b[36mFile \u001b[39m\u001b[32mc:\\Users\\erric\\Documents\\pw_aps\\ProjectWorkAPS\\demo\\Credential\\credential.py:76\u001b[39m, in \u001b[36mCredential.hash\u001b[39m\u001b[34m(self)\u001b[39m\n\u001b[32m     75\u001b[39m fixed_hash = sha256(fixed_data.encode()).hexdigest()\n\u001b[32m---> \u001b[39m\u001b[32m76\u001b[39m merkle_root = \u001b[43mMerkleTree\u001b[49m\u001b[43m.\u001b[49m\u001b[43mget_merkle_root\u001b[49m\u001b[43m(\u001b[49m\u001b[38;5;28;43mself\u001b[39;49m\u001b[43m.\u001b[49m\u001b[43mproperties\u001b[49m\u001b[43m)\u001b[49m\n\u001b[32m     77\u001b[39m final_hash = sha256((fixed_hash + merkle_root).encode()).hexdigest()\n",
      "\u001b[36mFile \u001b[39m\u001b[32mc:\\Users\\erric\\Documents\\pw_aps\\ProjectWorkAPS\\demo\\Credential\\merkle_tree.py:89\u001b[39m, in \u001b[36mMerkleTree.get_merkle_root\u001b[39m\u001b[34m(properties)\u001b[39m\n\u001b[32m     88\u001b[39m     \u001b[38;5;28;01mif\u001b[39;00m computed_root_from_proof != expected_overall_merkle_root:\n\u001b[32m---> \u001b[39m\u001b[32m89\u001b[39m         \u001b[38;5;28;01mraise\u001b[39;00m \u001b[38;5;167;01mValueError\u001b[39;00m(\n\u001b[32m     90\u001b[39m             \u001b[33mf\u001b[39m\u001b[33m\"\u001b[39m\u001b[33mInconsistenza rilevata nella merkle proof della property \u001b[39m\u001b[38;5;132;01m{\u001b[39;00mi\u001b[38;5;132;01m}\u001b[39;00m\u001b[33m \u001b[39m\u001b[33m\"\u001b[39m\n\u001b[32m     91\u001b[39m             \u001b[33mf\u001b[39m\u001b[33m\"\u001b[39m\u001b[33m(Tipo: \u001b[39m\u001b[38;5;132;01m{\u001b[39;00mprop.toDict()[\u001b[33m'\u001b[39m\u001b[33mtypology\u001b[39m\u001b[33m'\u001b[39m]\u001b[38;5;250m \u001b[39m\u001b[38;5;28;01mif\u001b[39;00m\u001b[38;5;250m \u001b[39m\u001b[38;5;28mhasattr\u001b[39m(prop,\u001b[38;5;250m \u001b[39m\u001b[33m'\u001b[39m\u001b[33mtoDict\u001b[39m\u001b[33m'\u001b[39m)\u001b[38;5;250m \u001b[39m\u001b[38;5;28;01melse\u001b[39;00m\u001b[38;5;250m \u001b[39m\u001b[33m'\u001b[39m\u001b[33mN/A\u001b[39m\u001b[33m'\u001b[39m\u001b[38;5;132;01m}\u001b[39;00m\u001b[33m). \u001b[39m\u001b[33m\"\u001b[39m\n\u001b[32m     92\u001b[39m             \u001b[33mf\u001b[39m\u001b[33m\"\u001b[39m\u001b[33mRoot calcolata: \u001b[39m\u001b[38;5;132;01m{\u001b[39;00mcomputed_root_from_proof\u001b[38;5;132;01m}\u001b[39;00m\u001b[33m, Root attesa: \u001b[39m\u001b[38;5;132;01m{\u001b[39;00mexpected_overall_merkle_root\u001b[38;5;132;01m}\u001b[39;00m\u001b[33m\"\u001b[39m\n\u001b[32m     93\u001b[39m         )\n\u001b[32m     94\u001b[39m \u001b[38;5;28;01mreturn\u001b[39;00m expected_overall_merkle_root\n",
      "\u001b[31mValueError\u001b[39m: Inconsistenza rilevata nella merkle proof della property 1 (Tipo: Residence). Root calcolata: 5d24c28f48cc287a39de1842604c6b9d5e39c7c0d3f50ad57d825d6543397f52, Root attesa: 2b857145324b4ded3862cb6e8c2c29b648d88a65578193eaf46cf7d7cea2bb74",
      "\nDuring handling of the above exception, another exception occurred:\n",
      "\u001b[31mException\u001b[39m                                 Traceback (most recent call last)",
      "\u001b[36mCell\u001b[39m\u001b[36m \u001b[39m\u001b[32mIn[14]\u001b[39m\u001b[32m, line 3\u001b[39m\n\u001b[32m      1\u001b[39m parsed_partial_credential = json.loads(partial_credential.toJSON())\n\u001b[32m      2\u001b[39m tampered_credential = tamper_all_credential_properties(parsed_partial_credential)\n\u001b[32m----> \u001b[39m\u001b[32m3\u001b[39m \u001b[43muni_origin\u001b[49m\u001b[43m.\u001b[49m\u001b[43mvalidate_shared_credential\u001b[49m\u001b[43m(\u001b[49m\u001b[43mstudente\u001b[49m\u001b[43m,\u001b[49m\u001b[43m \u001b[49m\u001b[43mjson\u001b[49m\u001b[43m.\u001b[49m\u001b[43mdumps\u001b[49m\u001b[43m(\u001b[49m\u001b[43mtampered_credential\u001b[49m\u001b[43m,\u001b[49m\u001b[43m \u001b[49m\u001b[43mensure_ascii\u001b[49m\u001b[43m=\u001b[49m\u001b[38;5;28;43;01mFalse\u001b[39;49;00m\u001b[43m,\u001b[49m\u001b[43m \u001b[49m\u001b[43mindent\u001b[49m\u001b[43m=\u001b[49m\u001b[32;43m4\u001b[39;49m\u001b[43m)\u001b[49m\u001b[43m)\u001b[49m\n",
      "\u001b[36mFile \u001b[39m\u001b[32mc:\\Users\\erric\\Documents\\pw_aps\\ProjectWorkAPS\\demo\\University\\university.py:391\u001b[39m, in \u001b[36mUniversity.validate_shared_credential\u001b[39m\u001b[34m(self, student, json_credential)\u001b[39m\n\u001b[32m    389\u001b[39m     \u001b[38;5;28mprint\u001b[39m(\u001b[33m\"\u001b[39m\u001b[33mLe property sono state verificate correttamente!\u001b[39m\u001b[33m\"\u001b[39m)\n\u001b[32m    390\u001b[39m \u001b[38;5;28;01mexcept\u001b[39;00m \u001b[38;5;167;01mException\u001b[39;00m \u001b[38;5;28;01mas\u001b[39;00m e:\n\u001b[32m--> \u001b[39m\u001b[32m391\u001b[39m     \u001b[38;5;28;01mraise\u001b[39;00m \u001b[38;5;167;01mException\u001b[39;00m(\u001b[33mf\u001b[39m\u001b[33m\"\u001b[39m\u001b[33mErrore durante la verifica della firma dell\u001b[39m\u001b[33m'\u001b[39m\u001b[33missuer: \u001b[39m\u001b[38;5;132;01m{\u001b[39;00me\u001b[38;5;132;01m}\u001b[39;00m\u001b[33m\"\u001b[39m)\n\u001b[32m    393\u001b[39m \u001b[38;5;28mprint\u001b[39m(\u001b[33m\"\u001b[39m\u001b[33mLa credenziale condivisa è valida\u001b[39m\u001b[33m\"\u001b[39m)\n",
      "\u001b[31mException\u001b[39m: Errore durante la verifica della firma dell'issuer: Inconsistenza rilevata nella merkle proof della property 1 (Tipo: Residence). Root calcolata: 5d24c28f48cc287a39de1842604c6b9d5e39c7c0d3f50ad57d825d6543397f52, Root attesa: 2b857145324b4ded3862cb6e8c2c29b648d88a65578193eaf46cf7d7cea2bb74"
     ]
    }
   ],
   "source": [
    "parsed_partial_credential = json.loads(partial_credential.toJSON())\n",
    "tampered_credential = tamper_all_credential_properties(parsed_partial_credential)\n",
    "uni_origin.validate_shared_credential(studente, json.dumps(tampered_credential, ensure_ascii=False, indent=4))"
   ]
  },
  {
   "cell_type": "code",
   "execution_count": 27,
   "id": "1dd74b89",
   "metadata": {},
   "outputs": [
    {
     "name": "stdout",
     "output_type": "stream",
     "text": [
      "{\n",
      "    \"certificateId\": \"CID:ensicaen:1\",\n",
      "    \"studentId\": \"SID:unisa:1\",\n",
      "    \"universityId\": \"UID:ensicaen\",\n",
      "    \"issuanceDate\": \"2023-10-01\",\n",
      "    \"properties\": [\n",
      "        {\n",
      "            \"typology\": \"ErasmusInfo\",\n",
      "            \"data\": {\n",
      "                \"programName\": \"Erasmus+ Europe\",\n",
      "                \"startActivity\": \"2024-09-01\",\n",
      "                \"endActivity\": \"2025-01-31\"\n",
      "            },\n",
      "            \"nonce\": \"17529447317422497\"\n",
      "        },\n",
      "        {\n",
      "            \"typology\": \"Residence\",\n",
      "            \"data\": {\n",
      "                \"typology\": \"off-campus\",\n",
      "                \"address\": \"Via Università 14, City\"\n",
      "            },\n",
      "            \"nonce\": \"17529447317421959\"\n",
      "        },\n",
      "        {\n",
      "            \"typology\": \"Scholarship\",\n",
      "            \"data\": {\n",
      "                \"amount\": 1002,\n",
      "                \"unit\": \"EUR\",\n",
      "                \"payments\": 1\n",
      "            },\n",
      "            \"nonce\": \"17529447317421687\"\n",
      "        },\n",
      "        {\n",
      "            \"typology\": \"Course\",\n",
      "            \"data\": {\n",
      "                \"name\": \"Cybersecurity\",\n",
      "                \"achieved\": true,\n",
      "                \"grade\": 28,\n",
      "                \"cfu\": 3,\n",
      "                \"achievementData\": \"2025-02-15\"\n",
      "            },\n",
      "            \"nonce\": \"17529447317425706\"\n",
      "        },\n",
      "        {\n",
      "            \"typology\": \"ExtraActivity\",\n",
      "            \"data\": {\n",
      "                \"name\": \"Internship\",\n",
      "                \"cfu\": 1\n",
      "            },\n",
      "            \"nonce\": \"17529447317425228\"\n",
      "        },\n",
      "        {\n",
      "            \"typology\": \"Course\",\n",
      "            \"data\": {\n",
      "                \"name\": \"Cybersecurity\",\n",
      "                \"achieved\": true,\n",
      "                \"grade\": 18,\n",
      "                \"cfu\": 6,\n",
      "                \"achievementData\": \"2025-02-15\"\n",
      "            },\n",
      "            \"nonce\": \"17529447317422833\"\n",
      "        },\n",
      "        {\n",
      "            \"typology\": \"Course\",\n",
      "            \"data\": {\n",
      "                \"name\": \"Sistemi Operativi\",\n",
      "                \"achieved\": true,\n",
      "                \"grade\": 18,\n",
      "                \"cfu\": 3,\n",
      "                \"achievementData\": \"2025-02-15\"\n",
      "            },\n",
      "            \"nonce\": \"17529447317425777\"\n",
      "        },\n",
      "        {\n",
      "            \"typology\": \"ExtraActivity\",\n",
      "            \"data\": {\n",
      "                \"name\": \"Debate Club\",\n",
      "                \"cfu\": 1\n",
      "            },\n",
      "            \"nonce\": \"17529447317421372\"\n",
      "        }\n",
      "    ],\n",
      "    \"issuerSignature\": \"JURLxqoqAD1Fv+ueGPjq1oXkvfJijofA+sC14EyCOdakEQma/B9GaEC0uf9HIOlCksWHw2s6wxDycggMb0GggSkK2vA5m60P81wC0Ls+8+O+ywJXMlkIyMvNeNHG7QNss0Oi7AcDZABzObRK/e+SAg/eQjEJV/gRkBK3nHrgtxDvvAtDtl677vbkW2+7c0A5hAJbwjaLdp/0HIlqfgYnVehs9yPL+L9qLxabH/ei2K3y6SKVi43BqFvHAnDjTA9xB8tMCr9St1n5ZHwugG9ZVYB+DAAivDIUfim2RXr5eMOsa6jDfNiROudiqnlRRumoks6GNDn66Tg/7sMWb760fA==\"\n",
      "}\n"
     ]
    }
   ],
   "source": [
    "print(studente.credentials[1].toJSON())"
   ]
  },
  {
   "cell_type": "code",
   "execution_count": 28,
   "id": "94bcb17c",
   "metadata": {},
   "outputs": [
    {
     "name": "stdout",
     "output_type": "stream",
     "text": [
      "L'università che ha rilasciato la credenziale condivisa è fidata.\n",
      "Il SID presente nella credenziale è valido.\n",
      "Challenge di autenticazione superata.\n"
     ]
    },
    {
     "ename": "Exception",
     "evalue": "Errore durante la verifica della firma dell'issuer: ",
     "output_type": "error",
     "traceback": [
      "\u001b[31m---------------------------------------------------------------------------\u001b[39m",
      "\u001b[31mInvalidSignature\u001b[39m                          Traceback (most recent call last)",
      "\u001b[36mFile \u001b[39m\u001b[32mc:\\Users\\erric\\Documents\\pw_aps\\ProjectWorkAPS\\demo\\University\\university.py:380\u001b[39m, in \u001b[36mUniversity.validate_shared_credential\u001b[39m\u001b[34m(self, student, json_credential)\u001b[39m\n\u001b[32m    379\u001b[39m final_hash = \u001b[38;5;28mbytes\u001b[39m.fromhex(shared_credential.hash())\n\u001b[32m--> \u001b[39m\u001b[32m380\u001b[39m \u001b[43merasmus_uni_public_key\u001b[49m\u001b[43m.\u001b[49m\u001b[43mverify\u001b[49m\u001b[43m(\u001b[49m\n\u001b[32m    381\u001b[39m \u001b[43m    \u001b[49m\u001b[43missuer_signature_bytes\u001b[49m\u001b[43m,\u001b[49m\n\u001b[32m    382\u001b[39m \u001b[43m    \u001b[49m\u001b[43mfinal_hash\u001b[49m\u001b[43m,\u001b[49m\u001b[43m  \u001b[49m\n\u001b[32m    383\u001b[39m \u001b[43m    \u001b[49m\u001b[43mpadding\u001b[49m\u001b[43m.\u001b[49m\u001b[43mPSS\u001b[49m\u001b[43m(\u001b[49m\n\u001b[32m    384\u001b[39m \u001b[43m        \u001b[49m\u001b[43mmgf\u001b[49m\u001b[43m=\u001b[49m\u001b[43mpadding\u001b[49m\u001b[43m.\u001b[49m\u001b[43mMGF1\u001b[49m\u001b[43m(\u001b[49m\u001b[43malgorithm\u001b[49m\u001b[43m=\u001b[49m\u001b[43mhashes\u001b[49m\u001b[43m.\u001b[49m\u001b[43mSHA256\u001b[49m\u001b[43m(\u001b[49m\u001b[43m)\u001b[49m\u001b[43m)\u001b[49m\u001b[43m,\u001b[49m\n\u001b[32m    385\u001b[39m \u001b[43m        \u001b[49m\u001b[43msalt_length\u001b[49m\u001b[43m=\u001b[49m\u001b[43mpadding\u001b[49m\u001b[43m.\u001b[49m\u001b[43mPSS\u001b[49m\u001b[43m.\u001b[49m\u001b[43mMAX_LENGTH\u001b[49m\n\u001b[32m    386\u001b[39m \u001b[43m    \u001b[49m\u001b[43m)\u001b[49m\u001b[43m,\u001b[49m\n\u001b[32m    387\u001b[39m \u001b[43m    \u001b[49m\u001b[43mutils\u001b[49m\u001b[43m.\u001b[49m\u001b[43mPrehashed\u001b[49m\u001b[43m(\u001b[49m\u001b[43mhashes\u001b[49m\u001b[43m.\u001b[49m\u001b[43mSHA256\u001b[49m\u001b[43m(\u001b[49m\u001b[43m)\u001b[49m\u001b[43m)\u001b[49m\u001b[43m \u001b[49m\n\u001b[32m    388\u001b[39m \u001b[43m\u001b[49m\u001b[43m)\u001b[49m      \n\u001b[32m    389\u001b[39m \u001b[38;5;28mprint\u001b[39m(\u001b[33m\"\u001b[39m\u001b[33mLe property sono state verificate correttamente!\u001b[39m\u001b[33m\"\u001b[39m)\n",
      "\u001b[31mInvalidSignature\u001b[39m: ",
      "\nDuring handling of the above exception, another exception occurred:\n",
      "\u001b[31mException\u001b[39m                                 Traceback (most recent call last)",
      "\u001b[36mCell\u001b[39m\u001b[36m \u001b[39m\u001b[32mIn[28]\u001b[39m\u001b[32m, line 3\u001b[39m\n\u001b[32m      1\u001b[39m parsed_partial_credential = json.loads(studente.credentials[\u001b[32m1\u001b[39m].toJSON()) \u001b[38;5;66;03m#la credenziale 1 nella demo è quella che lo studente ha ottenuto al termine della carriera ERASMUS\u001b[39;00m\n\u001b[32m      2\u001b[39m tampered_credential = tamper_all_credential_properties(parsed_partial_credential)\n\u001b[32m----> \u001b[39m\u001b[32m3\u001b[39m \u001b[43muni_origin\u001b[49m\u001b[43m.\u001b[49m\u001b[43mvalidate_shared_credential\u001b[49m\u001b[43m(\u001b[49m\u001b[43mstudente\u001b[49m\u001b[43m,\u001b[49m\u001b[43m \u001b[49m\u001b[43mjson\u001b[49m\u001b[43m.\u001b[49m\u001b[43mdumps\u001b[49m\u001b[43m(\u001b[49m\u001b[43mtampered_credential\u001b[49m\u001b[43m,\u001b[49m\u001b[43m \u001b[49m\u001b[43mensure_ascii\u001b[49m\u001b[43m=\u001b[49m\u001b[38;5;28;43;01mFalse\u001b[39;49;00m\u001b[43m,\u001b[49m\u001b[43m \u001b[49m\u001b[43mindent\u001b[49m\u001b[43m=\u001b[49m\u001b[32;43m4\u001b[39;49m\u001b[43m)\u001b[49m\u001b[43m)\u001b[49m\n",
      "\u001b[36mFile \u001b[39m\u001b[32mc:\\Users\\erric\\Documents\\pw_aps\\ProjectWorkAPS\\demo\\University\\university.py:391\u001b[39m, in \u001b[36mUniversity.validate_shared_credential\u001b[39m\u001b[34m(self, student, json_credential)\u001b[39m\n\u001b[32m    389\u001b[39m     \u001b[38;5;28mprint\u001b[39m(\u001b[33m\"\u001b[39m\u001b[33mLe property sono state verificate correttamente!\u001b[39m\u001b[33m\"\u001b[39m)\n\u001b[32m    390\u001b[39m \u001b[38;5;28;01mexcept\u001b[39;00m \u001b[38;5;167;01mException\u001b[39;00m \u001b[38;5;28;01mas\u001b[39;00m e:\n\u001b[32m--> \u001b[39m\u001b[32m391\u001b[39m     \u001b[38;5;28;01mraise\u001b[39;00m \u001b[38;5;167;01mException\u001b[39;00m(\u001b[33mf\u001b[39m\u001b[33m\"\u001b[39m\u001b[33mErrore durante la verifica della firma dell\u001b[39m\u001b[33m'\u001b[39m\u001b[33missuer: \u001b[39m\u001b[38;5;132;01m{\u001b[39;00me\u001b[38;5;132;01m}\u001b[39;00m\u001b[33m\"\u001b[39m)\n\u001b[32m    393\u001b[39m \u001b[38;5;28mprint\u001b[39m(\u001b[33m\"\u001b[39m\u001b[33mLa credenziale condivisa è valida\u001b[39m\u001b[33m\"\u001b[39m)\n",
      "\u001b[31mException\u001b[39m: Errore durante la verifica della firma dell'issuer: "
     ]
    }
   ],
   "source": [
    "parsed_partial_credential = json.loads(studente.credentials[1].toJSON()) #la credenziale 1 nella demo è quella che lo studente ha ottenuto al termine della carriera ERASMUS\n",
    "tampered_credential = tamper_all_credential_properties(parsed_partial_credential)\n",
    "uni_origin.validate_shared_credential(studente, json.dumps(tampered_credential, ensure_ascii=False, indent=4))"
   ]
  },
  {
   "cell_type": "markdown",
   "id": "08aea8f5",
   "metadata": {},
   "source": [
    "## Ente certificatore fasullo"
   ]
  },
  {
   "cell_type": "code",
   "execution_count": null,
   "id": "d64ceb66",
   "metadata": {},
   "outputs": [],
   "source": []
  },
  {
   "cell_type": "markdown",
   "id": "dddd244b",
   "metadata": {},
   "source": [
    "## Ente certificatore malintenzionato"
   ]
  },
  {
   "cell_type": "code",
   "execution_count": null,
   "id": "72ca26fc",
   "metadata": {},
   "outputs": [],
   "source": []
  },
  {
   "cell_type": "markdown",
   "id": "c0a708a3",
   "metadata": {},
   "source": [
    "## Sosia\n",
    "Per simulare lo scenario di un sosia (Threat 1.3.6), proviamo a far condividere la credenziale dello studente dei precedenti esperimenti ad un sosia, immatricolando quest'ultimo alla stessa università, anche se questo non influenza l'esito dell'esperimento.\n",
    "Lo studente difatti, non riesce a superare la challenge di autenticazione, e viene pertanto generata una eccezione sul controllo della firma del nonce."
   ]
  },
  {
   "cell_type": "code",
   "execution_count": 29,
   "id": "88cf31a3",
   "metadata": {},
   "outputs": [
    {
     "name": "stdout",
     "output_type": "stream",
     "text": [
      "\n",
      "Studente creato e salvato in: ./students/Student_SosiaSosia\\persistency\\student_data.json\n",
      "Studente 'Sosia Sosia' caricato da ./students/Student_SosiaSosia\n",
      "Registrazione SID completata con successo. Transaction Hash: 870722aa4d01b9d17b84541294182f9289108d4ad94c07cff373ec42cb006e67\n",
      "Registrazione CID completata con successo. Transaction Hash: 0ac10231343b1f9e295f847359060cbd520a33ee6e303fbefbf600e52ac8be96\n",
      "Credenziale salvata in: ./students/Student_SosiaSosia\\persistency\\credentials\\credential_0.json\n"
     ]
    }
   ],
   "source": [
    "Student.create_student(STUDENTS_PATH)\n",
    "studente_sosia = Student(STUDENTS_PATH+'Student_SosiaSosia')\n",
    "credenziale_studente_sosia,sid_sosia = uni_origin.register_student(studente)\n",
    "studente_sosia.set_sid(sid_sosia)\n",
    "studente_sosia.save_credential(credenziale_studente_sosia)"
   ]
  },
  {
   "cell_type": "code",
   "execution_count": 30,
   "id": "ed8721c2",
   "metadata": {},
   "outputs": [
    {
     "name": "stdout",
     "output_type": "stream",
     "text": [
      "L'università che ha rilasciato la credenziale condivisa è fidata.\n",
      "Il SID presente nella credenziale è valido.\n"
     ]
    },
    {
     "ename": "Exception",
     "evalue": "Errore durante la verifica della firma dello studente: ",
     "output_type": "error",
     "traceback": [
      "\u001b[31m---------------------------------------------------------------------------\u001b[39m",
      "\u001b[31mInvalidSignature\u001b[39m                          Traceback (most recent call last)",
      "\u001b[36mFile \u001b[39m\u001b[32mc:\\Users\\erric\\Documents\\pw_aps\\ProjectWorkAPS\\demo\\University\\university.py:360\u001b[39m, in \u001b[36mUniversity.validate_shared_credential\u001b[39m\u001b[34m(self, student, json_credential)\u001b[39m\n\u001b[32m    358\u001b[39m challenge_signature_bytes = base64.b64decode(signature_b64)\n\u001b[32m--> \u001b[39m\u001b[32m360\u001b[39m \u001b[43mstudent_public_key\u001b[49m\u001b[43m.\u001b[49m\u001b[43mverify\u001b[49m\u001b[43m(\u001b[49m\n\u001b[32m    361\u001b[39m \u001b[43m    \u001b[49m\u001b[43mchallenge_signature_bytes\u001b[49m\u001b[43m,\u001b[49m\n\u001b[32m    362\u001b[39m \u001b[43m    \u001b[49m\u001b[43mnonce\u001b[49m\u001b[43m,\u001b[49m\u001b[43m  \u001b[49m\n\u001b[32m    363\u001b[39m \u001b[43m    \u001b[49m\u001b[43mpadding\u001b[49m\u001b[43m.\u001b[49m\u001b[43mPSS\u001b[49m\u001b[43m(\u001b[49m\n\u001b[32m    364\u001b[39m \u001b[43m        \u001b[49m\u001b[43mmgf\u001b[49m\u001b[43m=\u001b[49m\u001b[43mpadding\u001b[49m\u001b[43m.\u001b[49m\u001b[43mMGF1\u001b[49m\u001b[43m(\u001b[49m\u001b[43malgorithm\u001b[49m\u001b[43m=\u001b[49m\u001b[43mhashes\u001b[49m\u001b[43m.\u001b[49m\u001b[43mSHA256\u001b[49m\u001b[43m(\u001b[49m\u001b[43m)\u001b[49m\u001b[43m)\u001b[49m\u001b[43m,\u001b[49m\n\u001b[32m    365\u001b[39m \u001b[43m        \u001b[49m\u001b[43msalt_length\u001b[49m\u001b[43m=\u001b[49m\u001b[43mpadding\u001b[49m\u001b[43m.\u001b[49m\u001b[43mPSS\u001b[49m\u001b[43m.\u001b[49m\u001b[43mMAX_LENGTH\u001b[49m\n\u001b[32m    366\u001b[39m \u001b[43m    \u001b[49m\u001b[43m)\u001b[49m\u001b[43m,\u001b[49m\n\u001b[32m    367\u001b[39m \u001b[43m    \u001b[49m\u001b[43mhashes\u001b[49m\u001b[43m.\u001b[49m\u001b[43mSHA256\u001b[49m\u001b[43m(\u001b[49m\u001b[43m)\u001b[49m\n\u001b[32m    368\u001b[39m \u001b[43m\u001b[49m\u001b[43m)\u001b[49m      \n\u001b[32m    369\u001b[39m \u001b[38;5;28mprint\u001b[39m(\u001b[33m\"\u001b[39m\u001b[33mChallenge di autenticazione superata.\u001b[39m\u001b[33m\"\u001b[39m)\n",
      "\u001b[31mInvalidSignature\u001b[39m: ",
      "\nDuring handling of the above exception, another exception occurred:\n",
      "\u001b[31mException\u001b[39m                                 Traceback (most recent call last)",
      "\u001b[36mCell\u001b[39m\u001b[36m \u001b[39m\u001b[32mIn[30]\u001b[39m\u001b[32m, line 1\u001b[39m\n\u001b[32m----> \u001b[39m\u001b[32m1\u001b[39m \u001b[43muni_origin\u001b[49m\u001b[43m.\u001b[49m\u001b[43mvalidate_shared_credential\u001b[49m\u001b[43m(\u001b[49m\u001b[43mstudente_sosia\u001b[49m\u001b[43m,\u001b[49m\u001b[43mstudente\u001b[49m\u001b[43m.\u001b[49m\u001b[43mcredentials\u001b[49m\u001b[43m[\u001b[49m\u001b[32;43m1\u001b[39;49m\u001b[43m]\u001b[49m\u001b[43m.\u001b[49m\u001b[43mtoJSON\u001b[49m\u001b[43m(\u001b[49m\u001b[43m)\u001b[49m\u001b[43m)\u001b[49m\n",
      "\u001b[36mFile \u001b[39m\u001b[32mc:\\Users\\erric\\Documents\\pw_aps\\ProjectWorkAPS\\demo\\University\\university.py:371\u001b[39m, in \u001b[36mUniversity.validate_shared_credential\u001b[39m\u001b[34m(self, student, json_credential)\u001b[39m\n\u001b[32m    369\u001b[39m     \u001b[38;5;28mprint\u001b[39m(\u001b[33m\"\u001b[39m\u001b[33mChallenge di autenticazione superata.\u001b[39m\u001b[33m\"\u001b[39m)\n\u001b[32m    370\u001b[39m \u001b[38;5;28;01mexcept\u001b[39;00m \u001b[38;5;167;01mException\u001b[39;00m \u001b[38;5;28;01mas\u001b[39;00m e:\n\u001b[32m--> \u001b[39m\u001b[32m371\u001b[39m     \u001b[38;5;28;01mraise\u001b[39;00m \u001b[38;5;167;01mException\u001b[39;00m(\u001b[33mf\u001b[39m\u001b[33m\"\u001b[39m\u001b[33mErrore durante la verifica della firma dello studente: \u001b[39m\u001b[38;5;132;01m{\u001b[39;00me\u001b[38;5;132;01m}\u001b[39;00m\u001b[33m\"\u001b[39m)    \n\u001b[32m    373\u001b[39m erasmus_uni_public_key = recover_public_key_from_modulus_exponent(erasmus_uni_pubkey_modulus, erasmus_uni_pubkey_exponent)\n\u001b[32m    375\u001b[39m issuer_signature = shared_credential.issuerSignature \n",
      "\u001b[31mException\u001b[39m: Errore durante la verifica della firma dello studente: "
     ]
    }
   ],
   "source": [
    "uni_origin.validate_shared_credential(studente_sosia,studente.credentials[1].toJSON())"
   ]
  },
  {
   "cell_type": "markdown",
   "id": "b37bd9dc",
   "metadata": {},
   "source": [
    "## Forgiatore di credenziali"
   ]
  },
  {
   "cell_type": "code",
   "execution_count": null,
   "id": "fba39c03",
   "metadata": {},
   "outputs": [],
   "source": []
  }
 ],
 "metadata": {
  "kernelspec": {
   "display_name": ".venv",
   "language": "python",
   "name": "python3"
  },
  "language_info": {
   "codemirror_mode": {
    "name": "ipython",
    "version": 3
   },
   "file_extension": ".py",
   "mimetype": "text/x-python",
   "name": "python",
   "nbconvert_exporter": "python",
   "pygments_lexer": "ipython3",
   "version": "3.12.0"
  }
 },
 "nbformat": 4,
 "nbformat_minor": 5
}
