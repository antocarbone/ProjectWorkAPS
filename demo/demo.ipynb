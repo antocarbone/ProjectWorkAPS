{
 "cells": [
  {
   "cell_type": "markdown",
   "id": "a7912595",
   "metadata": {},
   "source": [
    "# Inizializzazione università e SCA"
   ]
  },
  {
   "cell_type": "code",
   "execution_count": 1,
   "id": "385d7443",
   "metadata": {},
   "outputs": [],
   "source": [
    "from SmartContractAuthority.sca import SmartContractAuthority\n",
    "from University.university import University\n",
    "from Student.student import Student\n",
    "import json\n",
    "from SimulationUtils.simulationUtils import *\n",
    "\n",
    "SCA_PATH = './smart_contract_authority/'\n",
    "UNIVERSITIES_PATH = './universities/'\n",
    "STUDENTS_PATH = './students/'\n",
    "CONTRACTS_BUILD_PATH = './SmartContracts/build'"
   ]
  },
  {
   "cell_type": "markdown",
   "id": "17727e6a",
   "metadata": {},
   "source": [
    "## Creazione Smart Contract Authority\n",
    "Viene associato un account eth alla Smart Contract Authority che fa il deploy dei propri contratti"
   ]
  },
  {
   "cell_type": "code",
   "execution_count": null,
   "id": "9a768698",
   "metadata": {},
   "outputs": [],
   "source": [
    "SmartContractAuthority.create_sca(SCA_PATH, CONTRACTS_BUILD_PATH)"
   ]
  },
  {
   "cell_type": "markdown",
   "id": "84e3da0f",
   "metadata": {},
   "source": [
    "### Creazione dell'istanza\n",
    "Viene effettivamente caricata l'istanza della SCA a partire dal file JSON di persistenza generato nel blocco precedente"
   ]
  },
  {
   "cell_type": "code",
   "execution_count": 2,
   "id": "3867ffa9",
   "metadata": {},
   "outputs": [],
   "source": [
    "sca = SmartContractAuthority(SCA_PATH+\"SCA\", CONTRACTS_BUILD_PATH)"
   ]
  },
  {
   "cell_type": "markdown",
   "id": "1db86df8",
   "metadata": {},
   "source": [
    "## Creazione Università\n",
    "In questo blocco vengono create le università della rete assegnando loro un nome, che poi risulterà nelle directory dedicate, ed un account eth tramite il quale faranno il deploy dei contratti per la gestione di credenziali e studenti."
   ]
  },
  {
   "cell_type": "code",
   "execution_count": null,
   "id": "17f71de2",
   "metadata": {},
   "outputs": [],
   "source": [
    "University.create_university(UNIVERSITIES_PATH, CONTRACTS_BUILD_PATH)\n",
    "\n",
    "University.create_university(UNIVERSITIES_PATH, CONTRACTS_BUILD_PATH)"
   ]
  },
  {
   "cell_type": "markdown",
   "id": "68731a19",
   "metadata": {},
   "source": [
    "### Creazione dell'istanza\n",
    "Viene effettivamente caricata l'istanza delle università a partire dal file JSON di persistenza generato nel blocco precedente"
   ]
  },
  {
   "cell_type": "code",
   "execution_count": 3,
   "id": "ddcd76e7",
   "metadata": {},
   "outputs": [],
   "source": [
    "uni_origin = University(UNIVERSITIES_PATH+'University_Università Degli Studi Di Salerno', CONTRACTS_BUILD_PATH)\n",
    "\n",
    "uni_erasmus = University(UNIVERSITIES_PATH+'University_UNICAEN', CONTRACTS_BUILD_PATH)"
   ]
  },
  {
   "cell_type": "markdown",
   "id": "073b37cc",
   "metadata": {},
   "source": [
    "## Creazione studente"
   ]
  },
  {
   "cell_type": "code",
   "execution_count": null,
   "id": "18c3b943",
   "metadata": {},
   "outputs": [],
   "source": [
    "Student.create_student(STUDENTS_PATH)"
   ]
  },
  {
   "cell_type": "code",
   "execution_count": 5,
   "id": "ac547bf0",
   "metadata": {},
   "outputs": [
    {
     "name": "stdout",
     "output_type": "stream",
     "text": [
      "Studente 'Antonio Carbone' caricato da ./students/Student_AntonioCarbone\n"
     ]
    }
   ],
   "source": [
    "studente = Student(STUDENTS_PATH+'Student_AntonioCarbone')"
   ]
  },
  {
   "cell_type": "markdown",
   "id": "8ed7bc46",
   "metadata": {},
   "source": [
    "## Accreditamento università create"
   ]
  },
  {
   "cell_type": "code",
   "execution_count": null,
   "id": "bbd5dfb3",
   "metadata": {},
   "outputs": [],
   "source": [
    "UID, sca_contract_address = sca.register_university(uni_origin)\n",
    "uni_origin.update_uid(UID)\n",
    "uni_origin.update_sca_contract_address(sca_contract_address)\n",
    "\n",
    "UID, sca_contract_address = sca.register_university(uni_erasmus)\n",
    "uni_erasmus.update_uid(UID)\n",
    "uni_erasmus.update_sca_contract_address(sca_contract_address)"
   ]
  },
  {
   "cell_type": "markdown",
   "id": "47e06d1e",
   "metadata": {},
   "source": [
    "## Immatricolazione presso università di origine"
   ]
  },
  {
   "cell_type": "code",
   "execution_count": null,
   "id": "97830704",
   "metadata": {},
   "outputs": [],
   "source": [
    "credenziale_studente,sid = uni_origin.register_student(studente)\n",
    "studente.set_sid(sid)\n",
    "studente.save_credential(credenziale_studente)"
   ]
  },
  {
   "cell_type": "markdown",
   "id": "6138f1c9",
   "metadata": {},
   "source": [
    "## Immatricolazione presso università estera"
   ]
  },
  {
   "cell_type": "code",
   "execution_count": null,
   "id": "9ff74b29",
   "metadata": {},
   "outputs": [],
   "source": [
    "uni_erasmus.register_erasmus_student(studente, studente.credentials[0].toJSON())\n",
    "uni_erasmus.update_erasmus_students(studente, credenziale_studente.CID)"
   ]
  },
  {
   "cell_type": "markdown",
   "id": "b9d78735",
   "metadata": {},
   "source": [
    "## Richiesta e rilascio credenziale carriera"
   ]
  },
  {
   "cell_type": "code",
   "execution_count": null,
   "id": "d2baf232",
   "metadata": {},
   "outputs": [],
   "source": [
    "career_credential = uni_erasmus.request_career_credential(studente)\n",
    "studente.save_credential(career_credential)"
   ]
  },
  {
   "cell_type": "markdown",
   "id": "059828dc",
   "metadata": {},
   "source": [
    "## Costruzione della credenziale parziale"
   ]
  },
  {
   "cell_type": "code",
   "execution_count": 6,
   "id": "c78ca1d3",
   "metadata": {},
   "outputs": [
    {
     "name": "stdout",
     "output_type": "stream",
     "text": [
      "\n",
      "Seleziona una credenziale da condividere:\n",
      "0: CID = CID:ENSICAEN:1\n",
      "1: CID = CID:UNISA:1\n",
      "\n",
      "Seleziona le proprietà da condividere (y/n):\n",
      "\n",
      "Credenziale parziale costruita con successo:\n",
      "{\n",
      "    \"certificateId\": \"CID:ENSICAEN:1\",\n",
      "    \"studentId\": \"SID:UNISA:1\",\n",
      "    \"universityId\": \"UID:ENSICAEN\",\n",
      "    \"issuanceDate\": \"2023-10-01\",\n",
      "    \"properties\": [\n",
      "        {\n",
      "            \"typology\": \"ErasmusInfo\",\n",
      "            \"data\": {\n",
      "                \"programName\": \"Erasmus+ Europe\",\n",
      "                \"startActivity\": \"2024-09-01\",\n",
      "                \"endActivity\": \"2025-01-31\"\n",
      "            },\n",
      "            \"nonce\": \"17529415642263201\",\n",
      "            \"merkle_proof\": [\n",
      "                [\n",
      "                    \"4fbe29d15cce86212d155f4ee7199eb63cd84e7d376b4c68a712d191dd82d0af\",\n",
      "                    \"R\"\n",
      "                ],\n",
      "                [\n",
      "                    \"c26eecf947715aa1c48f749ac73ed87c4cf6beb5948dd2c4bbdbc31dbf22f7a7\",\n",
      "                    \"R\"\n",
      "                ],\n",
      "                [\n",
      "                    \"757541362764099f5b32c3d1c59e242cb6ca28540e008fba50a012c6c859da4b\",\n",
      "                    \"R\"\n",
      "                ]\n",
      "            ]\n",
      "        },\n",
      "        {\n",
      "            \"typology\": \"ExtraActivity\",\n",
      "            \"data\": {\n",
      "                \"name\": \"Internship\",\n",
      "                \"cfu\": 2\n",
      "            },\n",
      "            \"nonce\": \"17529415642269009\",\n",
      "            \"merkle_proof\": [\n",
      "                [\n",
      "                    \"698494e15290b768a6a1b5cd77357764a6c372ca1aef64baa478175bc2d4acd8\",\n",
      "                    \"L\"\n",
      "                ],\n",
      "                [\n",
      "                    \"d99a9657639fe9aab71729e48af510b36016aa50355e7efd14f1d917669a7a32\",\n",
      "                    \"L\"\n",
      "                ],\n",
      "                [\n",
      "                    \"757541362764099f5b32c3d1c59e242cb6ca28540e008fba50a012c6c859da4b\",\n",
      "                    \"R\"\n",
      "                ]\n",
      "            ]\n",
      "        },\n",
      "        {\n",
      "            \"typology\": \"Course\",\n",
      "            \"data\": {\n",
      "                \"name\": \"Sistemi Operativi\",\n",
      "                \"achieved\": true,\n",
      "                \"grade\": 30,\n",
      "                \"cfu\": 6,\n",
      "                \"achievementData\": \"2025-02-15\"\n",
      "            },\n",
      "            \"nonce\": \"17529415642263756\",\n",
      "            \"merkle_proof\": [\n",
      "                [\n",
      "                    \"33d47f8aa45d6fcbedf73e15c64e43394b14a597630b849d9e55b82ac9373671\",\n",
      "                    \"L\"\n",
      "                ],\n",
      "                [\n",
      "                    \"c6d38ce3fc5c6d92aa382dfcf9970fbe31a76d04e472787409accf88c764839b\",\n",
      "                    \"R\"\n",
      "                ],\n",
      "                [\n",
      "                    \"8a96a11a186748073e6b5077ea5ae8b66f308e7631a363e5d888ad8eb2d87b08\",\n",
      "                    \"L\"\n",
      "                ]\n",
      "            ]\n",
      "        },\n",
      "        {\n",
      "            \"typology\": \"ExtraActivity\",\n",
      "            \"data\": {\n",
      "                \"name\": \"Debate Club\",\n",
      "                \"cfu\": 2\n",
      "            },\n",
      "            \"nonce\": \"17529415642263581\",\n",
      "            \"merkle_proof\": [\n",
      "                [\n",
      "                    \"21de6af18f9427b70d03ef1939c173ccf7afd5912e79487ebcfe7e52235eac3b\",\n",
      "                    \"L\"\n",
      "                ],\n",
      "                [\n",
      "                    \"c66f4b361150f2c1c1bb88cc5f20a74aeac6000b22856baa9294608a4084e72c\",\n",
      "                    \"L\"\n",
      "                ],\n",
      "                [\n",
      "                    \"8a96a11a186748073e6b5077ea5ae8b66f308e7631a363e5d888ad8eb2d87b08\",\n",
      "                    \"L\"\n",
      "                ]\n",
      "            ]\n",
      "        }\n",
      "    ],\n",
      "    \"issuerSignature\": \"XAno9j31vonpdit8bFQnq1O2jSx6bwbK88k6CPAPG0Zaez3viq27TCwgATCXYcW1dRbzl1Wlqr0Pvmy8O+ZvoZ3afOBR9pgqwu2QxQc5n4Xflei7oZBKucoATXTB6GaDsTp+5jCK1LRXhzy1ZXexoM4CouhIr7tEnsN5mTUmUFrsntcLmXVDIyUmih7noFvuF6KXpdwgPzB1BnKzDo3PBO0s4td6HvkDosCOkcS81n0pGCrWnflKVP94xyK+v+s7/W2YHMnpgRhZS5yuZw1rwQUy7i+kVHvASZanOsl1NbTl/ZmYsuZ98fJZgEL+Wdqt3BYiN8k/AL3XrIHeePMaTA==\"\n",
      "}\n",
      "Credenziale salvata in: ./students/Student_AntonioCarbone/persistency/credentials/credential_2.json\n"
     ]
    }
   ],
   "source": [
    "partial_credential = studente.build_shared_credential()\n",
    "\n",
    "studente.save_credential(partial_credential)"
   ]
  },
  {
   "cell_type": "markdown",
   "id": "301eb1e9",
   "metadata": {},
   "source": [
    "## Condivisione credenziale"
   ]
  },
  {
   "cell_type": "code",
   "execution_count": 7,
   "id": "988cdd56",
   "metadata": {},
   "outputs": [
    {
     "name": "stdout",
     "output_type": "stream",
     "text": [
      "L'università che ha rilasciato la credenziale condivisa è fidata.\n",
      "Il SID presente nella credenziale è valido.\n",
      "Challenge di autenticazione superata.\n",
      "Le property sono state verificate correttamente!\n",
      "La credenziale condivisa è valida\n"
     ]
    }
   ],
   "source": [
    "uni_origin.validate_shared_credential(studente,partial_credential.toJSON())"
   ]
  },
  {
   "cell_type": "markdown",
   "id": "6c5ea75c",
   "metadata": {},
   "source": [
    "## Revoca credenziale di immatricolazione"
   ]
  },
  {
   "cell_type": "code",
   "execution_count": null,
   "id": "3c205736",
   "metadata": {},
   "outputs": [],
   "source": [
    "uni_origin.revoke_cid(\"CID:UNISA:1\")"
   ]
  },
  {
   "cell_type": "markdown",
   "id": "cd2d5cde",
   "metadata": {},
   "source": [
    "## Revoca credenziale carriera"
   ]
  },
  {
   "cell_type": "code",
   "execution_count": null,
   "id": "a160e2c3",
   "metadata": {},
   "outputs": [],
   "source": [
    "uni_erasmus.revoke_cid(\"CID:ENSICAEN:0\")"
   ]
  },
  {
   "cell_type": "markdown",
   "id": "5e3195ce",
   "metadata": {},
   "source": [
    "## Manomissione di una credenziale"
   ]
  },
  {
   "cell_type": "code",
   "execution_count": 9,
   "id": "2eef3a73",
   "metadata": {},
   "outputs": [
    {
     "name": "stdout",
     "output_type": "stream",
     "text": [
      "L'università che ha rilasciato la credenziale condivisa è fidata.\n",
      "Il SID presente nella credenziale è valido.\n",
      "Challenge di autenticazione superata.\n"
     ]
    },
    {
     "ename": "Exception",
     "evalue": "Errore durante la verifica della firma dell'issuer: Inconsistenza rilevata nella merkle proof della property 1 (Tipo: ExtraActivity). Root calcolata: f62297c187d25c9a57a0c5f40ab42a2a0c5a9c76ef70c60be7ddfd4e97bc60eb, Root attesa: f4719560480041abeafa78e8cf9e35f6222bbf0b89f09afd8be0502a5ab13532",
     "output_type": "error",
     "traceback": [
      "\u001b[31m---------------------------------------------------------------------------\u001b[39m",
      "\u001b[31mValueError\u001b[39m                                Traceback (most recent call last)",
      "\u001b[36mFile \u001b[39m\u001b[32m~/Desktop/APS/ProjectWorkAPS/demo/University/university.py:379\u001b[39m, in \u001b[36mUniversity.validate_shared_credential\u001b[39m\u001b[34m(self, student, json_credential)\u001b[39m\n\u001b[32m    378\u001b[39m \u001b[38;5;28;01mtry\u001b[39;00m:\n\u001b[32m--> \u001b[39m\u001b[32m379\u001b[39m     final_hash = \u001b[38;5;28mbytes\u001b[39m.fromhex(\u001b[43mshared_credential\u001b[49m\u001b[43m.\u001b[49m\u001b[43mhash\u001b[49m\u001b[43m(\u001b[49m\u001b[43m)\u001b[49m)\n\u001b[32m    380\u001b[39m     erasmus_uni_public_key.verify(\n\u001b[32m    381\u001b[39m         issuer_signature_bytes,\n\u001b[32m    382\u001b[39m         final_hash,  \n\u001b[32m   (...)\u001b[39m\u001b[32m    387\u001b[39m         utils.Prehashed(hashes.SHA256()) \n\u001b[32m    388\u001b[39m     )      \n",
      "\u001b[36mFile \u001b[39m\u001b[32m~/Desktop/APS/ProjectWorkAPS/demo/Credential/credential.py:76\u001b[39m, in \u001b[36mCredential.hash\u001b[39m\u001b[34m(self)\u001b[39m\n\u001b[32m     75\u001b[39m fixed_hash = sha256(fixed_data.encode()).hexdigest()\n\u001b[32m---> \u001b[39m\u001b[32m76\u001b[39m merkle_root = \u001b[43mMerkleTree\u001b[49m\u001b[43m.\u001b[49m\u001b[43mget_merkle_root\u001b[49m\u001b[43m(\u001b[49m\u001b[38;5;28;43mself\u001b[39;49m\u001b[43m.\u001b[49m\u001b[43mproperties\u001b[49m\u001b[43m)\u001b[49m\n\u001b[32m     77\u001b[39m final_hash = sha256((fixed_hash + merkle_root).encode()).hexdigest()\n",
      "\u001b[36mFile \u001b[39m\u001b[32m~/Desktop/APS/ProjectWorkAPS/demo/Credential/merkle_tree.py:89\u001b[39m, in \u001b[36mMerkleTree.get_merkle_root\u001b[39m\u001b[34m(properties)\u001b[39m\n\u001b[32m     88\u001b[39m     \u001b[38;5;28;01mif\u001b[39;00m computed_root_from_proof != expected_overall_merkle_root:\n\u001b[32m---> \u001b[39m\u001b[32m89\u001b[39m         \u001b[38;5;28;01mraise\u001b[39;00m \u001b[38;5;167;01mValueError\u001b[39;00m(\n\u001b[32m     90\u001b[39m             \u001b[33mf\u001b[39m\u001b[33m\"\u001b[39m\u001b[33mInconsistenza rilevata nella merkle proof della property \u001b[39m\u001b[38;5;132;01m{\u001b[39;00mi\u001b[38;5;132;01m}\u001b[39;00m\u001b[33m \u001b[39m\u001b[33m\"\u001b[39m\n\u001b[32m     91\u001b[39m             \u001b[33mf\u001b[39m\u001b[33m\"\u001b[39m\u001b[33m(Tipo: \u001b[39m\u001b[38;5;132;01m{\u001b[39;00mprop.toDict()[\u001b[33m'\u001b[39m\u001b[33mtypology\u001b[39m\u001b[33m'\u001b[39m]\u001b[38;5;250m \u001b[39m\u001b[38;5;28;01mif\u001b[39;00m\u001b[38;5;250m \u001b[39m\u001b[38;5;28mhasattr\u001b[39m(prop,\u001b[38;5;250m \u001b[39m\u001b[33m'\u001b[39m\u001b[33mtoDict\u001b[39m\u001b[33m'\u001b[39m)\u001b[38;5;250m \u001b[39m\u001b[38;5;28;01melse\u001b[39;00m\u001b[38;5;250m \u001b[39m\u001b[33m'\u001b[39m\u001b[33mN/A\u001b[39m\u001b[33m'\u001b[39m\u001b[38;5;132;01m}\u001b[39;00m\u001b[33m). \u001b[39m\u001b[33m\"\u001b[39m\n\u001b[32m     92\u001b[39m             \u001b[33mf\u001b[39m\u001b[33m\"\u001b[39m\u001b[33mRoot calcolata: \u001b[39m\u001b[38;5;132;01m{\u001b[39;00mcomputed_root_from_proof\u001b[38;5;132;01m}\u001b[39;00m\u001b[33m, Root attesa: \u001b[39m\u001b[38;5;132;01m{\u001b[39;00mexpected_overall_merkle_root\u001b[38;5;132;01m}\u001b[39;00m\u001b[33m\"\u001b[39m\n\u001b[32m     93\u001b[39m         )\n\u001b[32m     94\u001b[39m \u001b[38;5;28;01mreturn\u001b[39;00m expected_overall_merkle_root\n",
      "\u001b[31mValueError\u001b[39m: Inconsistenza rilevata nella merkle proof della property 1 (Tipo: ExtraActivity). Root calcolata: f62297c187d25c9a57a0c5f40ab42a2a0c5a9c76ef70c60be7ddfd4e97bc60eb, Root attesa: f4719560480041abeafa78e8cf9e35f6222bbf0b89f09afd8be0502a5ab13532",
      "\nDuring handling of the above exception, another exception occurred:\n",
      "\u001b[31mException\u001b[39m                                 Traceback (most recent call last)",
      "\u001b[36mCell\u001b[39m\u001b[36m \u001b[39m\u001b[32mIn[9]\u001b[39m\u001b[32m, line 3\u001b[39m\n\u001b[32m      1\u001b[39m parsed_partial_credential = json.loads(partial_credential.toJSON())\n\u001b[32m      2\u001b[39m tampered_credential = tamper_all_credential_properties(parsed_partial_credential)\n\u001b[32m----> \u001b[39m\u001b[32m3\u001b[39m \u001b[43muni_origin\u001b[49m\u001b[43m.\u001b[49m\u001b[43mvalidate_shared_credential\u001b[49m\u001b[43m(\u001b[49m\u001b[43mstudente\u001b[49m\u001b[43m,\u001b[49m\u001b[43m \u001b[49m\u001b[43mjson\u001b[49m\u001b[43m.\u001b[49m\u001b[43mdumps\u001b[49m\u001b[43m(\u001b[49m\u001b[43mtampered_credential\u001b[49m\u001b[43m,\u001b[49m\u001b[43m \u001b[49m\u001b[43mensure_ascii\u001b[49m\u001b[43m=\u001b[49m\u001b[38;5;28;43;01mFalse\u001b[39;49;00m\u001b[43m,\u001b[49m\u001b[43m \u001b[49m\u001b[43mindent\u001b[49m\u001b[43m=\u001b[49m\u001b[32;43m4\u001b[39;49m\u001b[43m)\u001b[49m\u001b[43m)\u001b[49m\n",
      "\u001b[36mFile \u001b[39m\u001b[32m~/Desktop/APS/ProjectWorkAPS/demo/University/university.py:391\u001b[39m, in \u001b[36mUniversity.validate_shared_credential\u001b[39m\u001b[34m(self, student, json_credential)\u001b[39m\n\u001b[32m    389\u001b[39m     \u001b[38;5;28mprint\u001b[39m(\u001b[33m\"\u001b[39m\u001b[33mLe property sono state verificate correttamente!\u001b[39m\u001b[33m\"\u001b[39m)\n\u001b[32m    390\u001b[39m \u001b[38;5;28;01mexcept\u001b[39;00m \u001b[38;5;167;01mException\u001b[39;00m \u001b[38;5;28;01mas\u001b[39;00m e:\n\u001b[32m--> \u001b[39m\u001b[32m391\u001b[39m     \u001b[38;5;28;01mraise\u001b[39;00m \u001b[38;5;167;01mException\u001b[39;00m(\u001b[33mf\u001b[39m\u001b[33m\"\u001b[39m\u001b[33mErrore durante la verifica della firma dell\u001b[39m\u001b[33m'\u001b[39m\u001b[33missuer: \u001b[39m\u001b[38;5;132;01m{\u001b[39;00me\u001b[38;5;132;01m}\u001b[39;00m\u001b[33m\"\u001b[39m)\n\u001b[32m    393\u001b[39m \u001b[38;5;28mprint\u001b[39m(\u001b[33m\"\u001b[39m\u001b[33mLa credenziale condivisa è valida\u001b[39m\u001b[33m\"\u001b[39m)\n",
      "\u001b[31mException\u001b[39m: Errore durante la verifica della firma dell'issuer: Inconsistenza rilevata nella merkle proof della property 1 (Tipo: ExtraActivity). Root calcolata: f62297c187d25c9a57a0c5f40ab42a2a0c5a9c76ef70c60be7ddfd4e97bc60eb, Root attesa: f4719560480041abeafa78e8cf9e35f6222bbf0b89f09afd8be0502a5ab13532"
     ]
    }
   ],
   "source": [
    "parsed_partial_credential = json.loads(partial_credential.toJSON())\n",
    "tampered_credential = tamper_all_credential_properties(parsed_partial_credential)\n",
    "uni_origin.validate_shared_credential(studente, json.dumps(tampered_credential, ensure_ascii=False, indent=4))"
   ]
  },
  {
   "cell_type": "markdown",
   "id": "08aea8f5",
   "metadata": {},
   "source": [
    "## Ente certificatore fasullo"
   ]
  },
  {
   "cell_type": "code",
   "execution_count": null,
   "id": "d64ceb66",
   "metadata": {},
   "outputs": [],
   "source": []
  },
  {
   "cell_type": "markdown",
   "id": "dddd244b",
   "metadata": {},
   "source": [
    "## Ente certificatore malintenzionato"
   ]
  },
  {
   "cell_type": "code",
   "execution_count": null,
   "id": "72ca26fc",
   "metadata": {},
   "outputs": [],
   "source": []
  },
  {
   "cell_type": "markdown",
   "id": "c0a708a3",
   "metadata": {},
   "source": [
    "## Sosia"
   ]
  },
  {
   "cell_type": "code",
   "execution_count": null,
   "id": "ed8721c2",
   "metadata": {},
   "outputs": [],
   "source": []
  },
  {
   "cell_type": "markdown",
   "id": "b37bd9dc",
   "metadata": {},
   "source": [
    "## Forgiatore di credenziali"
   ]
  },
  {
   "cell_type": "code",
   "execution_count": null,
   "id": "fba39c03",
   "metadata": {},
   "outputs": [],
   "source": []
  }
 ],
 "metadata": {
  "kernelspec": {
   "display_name": ".venv",
   "language": "python",
   "name": "python3"
  },
  "language_info": {
   "codemirror_mode": {
    "name": "ipython",
    "version": 3
   },
   "file_extension": ".py",
   "mimetype": "text/x-python",
   "name": "python",
   "nbconvert_exporter": "python",
   "pygments_lexer": "ipython3",
   "version": "3.12.0"
  }
 },
 "nbformat": 4,
 "nbformat_minor": 5
}
