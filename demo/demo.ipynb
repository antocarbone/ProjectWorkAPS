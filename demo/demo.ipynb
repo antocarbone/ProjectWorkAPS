{
 "cells": [
  {
   "cell_type": "markdown",
   "id": "a7912595",
   "metadata": {},
   "source": [
    "# Demo"
   ]
  },
  {
   "cell_type": "code",
   "execution_count": 1,
   "id": "385d7443",
   "metadata": {},
   "outputs": [],
   "source": [
    "from SmartContractAuthority.sca import SmartContractAuthority\n",
    "from University.university import University\n",
    "from Credential.credential import Credential\n",
    "from utils.identifiers_utils import *\n",
    "from utils.file_utils import *\n",
    "from Student.student import Student\n",
    "import json\n",
    "from SimulationUtils.simulationUtils import *\n",
    "\n",
    "SCA_PATH = './smart_contract_authority/'\n",
    "UNIVERSITIES_PATH = './universities/'\n",
    "STUDENTS_PATH = './students/'\n",
    "CONTRACTS_BUILD_PATH = './SmartContracts/build'"
   ]
  },
  {
   "cell_type": "markdown",
   "id": "17727e6a",
   "metadata": {},
   "source": [
    "## Creazione Smart Contract Authority\n",
    "Viene associato un account eth alla Smart Contract Authority che fa il deploy dei propri contratti"
   ]
  },
  {
   "cell_type": "code",
   "execution_count": 2,
   "id": "9a768698",
   "metadata": {},
   "outputs": [
    {
     "name": "stdout",
     "output_type": "stream",
     "text": [
      "SmartContractAuthority deployed at address: 0x43902a9a9FFfd5f57A87690E44873b140Bb463bF\n",
      "SCA creata con successo e configurazione salvata.\n"
     ]
    },
    {
     "data": {
      "text/plain": [
       "<SmartContractAuthority.sca.SmartContractAuthority at 0x11734cc20>"
      ]
     },
     "execution_count": 2,
     "metadata": {},
     "output_type": "execute_result"
    }
   ],
   "source": [
    "SmartContractAuthority.create_sca(SCA_PATH, CONTRACTS_BUILD_PATH)"
   ]
  },
  {
   "cell_type": "markdown",
   "id": "84e3da0f",
   "metadata": {},
   "source": [
    "### Creazione dell'istanza\n",
    "Viene effettivamente caricata l'istanza della SCA a partire dal file JSON di persistenza generato nel blocco precedente"
   ]
  },
  {
   "cell_type": "code",
   "execution_count": 3,
   "id": "3867ffa9",
   "metadata": {},
   "outputs": [],
   "source": [
    "sca = SmartContractAuthority(SCA_PATH+\"SCA\", CONTRACTS_BUILD_PATH)"
   ]
  },
  {
   "cell_type": "markdown",
   "id": "1db86df8",
   "metadata": {},
   "source": [
    "## Creazione Università\n",
    "In questo blocco vengono create le università della rete assegnando loro un nome, che poi risulterà nelle directory dedicate, ed un account eth tramite il quale faranno il deploy dei contratti per la gestione di credenziali e studenti."
   ]
  },
  {
   "cell_type": "code",
   "execution_count": 4,
   "id": "17f71de2",
   "metadata": {},
   "outputs": [
    {
     "name": "stdout",
     "output_type": "stream",
     "text": [
      "SIDSmartContract deployed at: 0x2DE71C39CB20C6D4cc648442656c21A59d5713f4\n",
      "CIDSmartContract deployed at: 0x5BdBB86D3D7A4370D8dD6fcB4E4bdBcF979ea8B0\n",
      "Università creata con successo.\n",
      "SIDSmartContract deployed at: 0x3989999C00976266C2Ec3a8c5152CfBd04F27686\n",
      "CIDSmartContract deployed at: 0x8fFceCeB74a34aa34F5312C8C4a0FB3Bc366C1d6\n",
      "Università creata con successo.\n"
     ]
    },
    {
     "data": {
      "text/plain": [
       "<University.university.University at 0x1177ef750>"
      ]
     },
     "execution_count": 4,
     "metadata": {},
     "output_type": "execute_result"
    }
   ],
   "source": [
    "University.create_university(UNIVERSITIES_PATH, CONTRACTS_BUILD_PATH)\n",
    "\n",
    "University.create_university(UNIVERSITIES_PATH, CONTRACTS_BUILD_PATH)"
   ]
  },
  {
   "cell_type": "markdown",
   "id": "68731a19",
   "metadata": {},
   "source": [
    "### Creazione dell'istanza\n",
    "Viene effettivamente caricata l'istanza delle università a partire dal file JSON di persistenza generato nel blocco precedente"
   ]
  },
  {
   "cell_type": "code",
   "execution_count": 5,
   "id": "ddcd76e7",
   "metadata": {},
   "outputs": [],
   "source": [
    "uni_origin = University(UNIVERSITIES_PATH+'University_UniSalerno', CONTRACTS_BUILD_PATH)\n",
    "\n",
    "uni_erasmus = University(UNIVERSITIES_PATH+'University_UniCaen', CONTRACTS_BUILD_PATH)"
   ]
  },
  {
   "cell_type": "markdown",
   "id": "073b37cc",
   "metadata": {},
   "source": [
    "## Creazione studente\n",
    "Infine, viene creato uno studente che, a scopo dimostrativo, verrà immatricolato presso un'università che poi verrà considerata di origine per poi iniziare un'esperienza erasmus presso l'altra università creata nella fase precedente."
   ]
  },
  {
   "cell_type": "code",
   "execution_count": 6,
   "id": "18c3b943",
   "metadata": {},
   "outputs": [
    {
     "name": "stdout",
     "output_type": "stream",
     "text": [
      "\n",
      "Studente creato e salvato in: ./students/Student_AntonioCarbone/persistency/student_data.json\n"
     ]
    }
   ],
   "source": [
    "Student.create_student(STUDENTS_PATH)"
   ]
  },
  {
   "cell_type": "markdown",
   "id": "820592bc",
   "metadata": {},
   "source": [
    "### Creazione dell'istanza\n",
    "Viene effettivamente caricata l'istanza dello studente a partire dal file JSON di persistenza generato nel blocco precedente"
   ]
  },
  {
   "cell_type": "code",
   "execution_count": 7,
   "id": "ac547bf0",
   "metadata": {},
   "outputs": [
    {
     "name": "stdout",
     "output_type": "stream",
     "text": [
      "Studente 'Antonio Carbone' caricato da ./students/Student_AntonioCarbone\n"
     ]
    }
   ],
   "source": [
    "studente = Student(STUDENTS_PATH+'Student_AntonioCarbone')"
   ]
  },
  {
   "cell_type": "markdown",
   "id": "8ed7bc46",
   "metadata": {},
   "source": [
    "## Accreditamento università create\n",
    "<p>Affiché possano operare all'interno del sistema come fornitori di credenziali, le università, devono essere accreditate da parte della SCA (paragrafo 2.2.1).<p>\n",
    "<p>In questo modo la chiave pubblica e gli indirizzi degli smart contract delle università sono registrati sulla blockchain ed abbinati ad un UID che viene deciso al momento della registrazione dalla SCA ed assegnato alle università.<p>"
   ]
  },
  {
   "cell_type": "code",
   "execution_count": 8,
   "id": "bbd5dfb3",
   "metadata": {},
   "outputs": [
    {
     "name": "stdout",
     "output_type": "stream",
     "text": [
      "Registrazione Università (UID: UNISA) completata con successo. Transaction Hash: 212f45b4d7bd5f8f0b456cf2435913763f9823952c31d1ac86328450304cb165\n",
      "Registrazione Università (UID: ENSICAEN) completata con successo. Transaction Hash: a2d7a1e314ef68f3a49d83c79362b3ac763cba3983a73e912cd25296a832c829\n"
     ]
    }
   ],
   "source": [
    "#1. registrazione dell'università sulla blockchain.\n",
    "UID, sca_contract_address = sca.register_university(uni_origin) \n",
    "\n",
    "#2. assegnazione dell'UID.\n",
    "uni_origin.update_uid(UID)\n",
    "\n",
    "#3. rilascio dell'indirizzo del registro delle università (smart contract),\n",
    "#posseduto dalla SCA, per future rischieste di verifica.\n",
    "uni_origin.update_sca_contract_address(sca_contract_address)     \n",
    "                                                               \n",
    "UID, sca_contract_address = sca.register_university(uni_erasmus)\n",
    "uni_erasmus.update_uid(UID)\n",
    "uni_erasmus.update_sca_contract_address(sca_contract_address)"
   ]
  },
  {
   "cell_type": "markdown",
   "id": "47e06d1e",
   "metadata": {},
   "source": [
    "## Immatricolazione presso università di origine\n",
    "Implementazione dello scenario descritto nel paragrafo 2.3.1 della documentazione, lo studente si immatricola presso l'università di origine ed ottiene una credenziale studente valida all'interno della rete gestita dalla SCA."
   ]
  },
  {
   "cell_type": "code",
   "execution_count": 9,
   "id": "97830704",
   "metadata": {},
   "outputs": [
    {
     "name": "stdout",
     "output_type": "stream",
     "text": [
      "Registrazione SID completata con successo. Transaction Hash: 9dff30c5857b1114cf8c26750273bca4e72c29348f8970aa164e1fea39bf99af\n",
      "Registrazione CID completata con successo. Transaction Hash: 04c3684cf0d767a004cfb027aa1b47f3aaaef4acf42ffe2f1fc31aedf07ea319\n",
      "Credenziale salvata in: ./students/Student_AntonioCarbone/persistency/credentials/credential_0.json\n"
     ]
    }
   ],
   "source": [
    "#1. Registrazione della chiave pubblica dello studente e rilascio del SID.\n",
    "credenziale_studente, sid = uni_origin.register_student(studente)\n",
    "\n",
    "#2. assegnazione del SID allo studente.\n",
    "studente.set_sid(sid) \n",
    "\n",
    "#3. rilascio della credenziale di immatricolaizone allo studente, che la aggiunge alle proprie.\n",
    "studente.save_credential(credenziale_studente)"
   ]
  },
  {
   "cell_type": "markdown",
   "id": "6138f1c9",
   "metadata": {},
   "source": [
    "## Immatricolazione presso università estera\n",
    "Implementazione dello scenario descritto nel paragrafo 2.3.2 della documentazione, lo studente presenta la propria credenziale rilasciata dall'università d'origine presso l'università in cui desidera effettuare l'erasmus la quale salva il SID ed il CID dello studente dopo aver controllato che tutte le informazioni ricevute siano in regola."
   ]
  },
  {
   "cell_type": "code",
   "execution_count": 10,
   "id": "9ff74b29",
   "metadata": {},
   "outputs": [
    {
     "name": "stdout",
     "output_type": "stream",
     "text": [
      "Il CID associato alla credenziale fornita risulta valido.\n",
      "Firma dell'issuer verificata correttamente.\n",
      "Il SID contenuto nella credenziale è valido.\n",
      "Firma dello studente verificata correttamente.\n",
      "Complimenti Antonio Carbone \n",
      "Immatricolazione Erasmus completata!\n",
      "UniCaen ti dà il benvenuto!\n"
     ]
    }
   ],
   "source": [
    "#1. immatricolazione presso l'università estera che, verifica la validità della credenziale fornita dallo studente,\n",
    "#verifica la firma inserita dall'università che ha rilasciato la credenziale ed infine propone una challenge allo studente.\n",
    "uni_erasmus.register_erasmus_student(studente, studente.credentials[0].toJSON())\n",
    "\n",
    "#2. L'università estera aggiorna la lista di studenti in erasmus presso la propria struttura.\n",
    "uni_erasmus.update_erasmus_students(studente, credenziale_studente.CID)"
   ]
  },
  {
   "cell_type": "markdown",
   "id": "b9d78735",
   "metadata": {},
   "source": [
    "## Richiesta e rilascio credenziale carriera\n",
    "<p>Al termine dell'esperienza all'estero dello studente, esso può richiedere il rilascio della propria credenziale carriera attestante tutto ciò che ha fatto in erasmus.<p>\n",
    "<p>Per fare ciò lo studente deve presentare il proprio SID attraverso una richiesta specifica per il rilascio (da noi simulata attraverso request_career_credential()). L'università estera, invece, dovrà verificare validità della credenziale in suo possesso, firma dell'università d'origine e challenge per poi rilasciare la credenziale firmata da lei.<p>"
   ]
  },
  {
   "cell_type": "code",
   "execution_count": 11,
   "id": "d2baf232",
   "metadata": {},
   "outputs": [
    {
     "name": "stdout",
     "output_type": "stream",
     "text": [
      "Credenziale di immatricolazione dello studente valida.\n",
      "Il SID fornito è valido.\n",
      "Challenge di autenticazione superata.\n",
      "Registrazione CID completata con successo. Transaction Hash: e4076f2cf60905e5e968c1c2487477187333fcd154dc245db590ac1cb24895cd\n",
      "Complimenti Antonio Carbone \n",
      "Richiesta della tua credenziale carriera completata!\n",
      "Arrivederci da UniCaen!\n",
      "Credenziale salvata in: ./students/Student_AntonioCarbone/persistency/credentials/credential_1.json\n"
     ]
    }
   ],
   "source": [
    "#1. richiesta della credenziale inviando il proprio SID, \n",
    "# l'università verifica tutto ciò che ha ricevuto e rilascia la career_credential\n",
    "career_credential = uni_erasmus.request_career_credential(studente)\n",
    "\n",
    "#2. rilascio della credenziale carriera allo studente, che la aggiunge alle proprie.\n",
    "studente.save_credential(career_credential)"
   ]
  },
  {
   "cell_type": "markdown",
   "id": "059828dc",
   "metadata": {},
   "source": [
    "## Costruzione della credenziale parziale\n",
    "<p>Questo meccanismo è stato realizzato puramente a scopo dimostrativo, dal momento che sorge la necessità di creare una credenziale da condividere.<p>\n",
    "<p>Perciò è stato creato un wizard messo a disposizione dello studente tramite il quale può scegliere quale delle credenziali in suo possesso condividere e quali properties includere nella condivisione.<p>"
   ]
  },
  {
   "cell_type": "code",
   "execution_count": 12,
   "id": "c78ca1d3",
   "metadata": {},
   "outputs": [
    {
     "name": "stdout",
     "output_type": "stream",
     "text": [
      "\n",
      "Seleziona una credenziale da condividere:\n",
      "0: CID = CID:UNISA:1\n",
      "1: CID = CID:ENSICAEN:1\n",
      "\n",
      "Seleziona le proprietà da condividere (y/n):\n",
      "\n",
      "Credenziale parziale costruita con successo:\n",
      "{\n",
      "    \"certificateId\": \"CID:ENSICAEN:1\",\n",
      "    \"studentId\": \"SID:UNISA:1\",\n",
      "    \"universityId\": \"UID:ENSICAEN\",\n",
      "    \"issuanceDate\": \"2025-07-20\",\n",
      "    \"properties\": [\n",
      "        {\n",
      "            \"typology\": \"ErasmusInfo\",\n",
      "            \"data\": {\n",
      "                \"programName\": \"Erasmus+ Europe\",\n",
      "                \"startActivity\": \"2024-09-01\",\n",
      "                \"endActivity\": \"2025-01-31\"\n",
      "            },\n",
      "            \"nonce\": \"17530057935618168\",\n",
      "            \"merkle_proof\": [\n",
      "                [\n",
      "                    \"fadff90d8c35cd331e7438acc8ba5246c5349ffd62eb14a6a205c0ea746d6fce\",\n",
      "                    \"R\"\n",
      "                ],\n",
      "                [\n",
      "                    \"b89ae0d2f48110e6e68b096ca23b0a01e559ff3d092f6f85837a608e7c467bac\",\n",
      "                    \"R\"\n",
      "                ],\n",
      "                [\n",
      "                    \"214a4475b76f9e329caa6c7aebbb526c7b9e460d89e2880ebd62bf9db4c55509\",\n",
      "                    \"R\"\n",
      "                ]\n",
      "            ]\n",
      "        },\n",
      "        {\n",
      "            \"typology\": \"ExtraActivity\",\n",
      "            \"data\": {\n",
      "                \"name\": \"Internship\",\n",
      "                \"cfu\": 3\n",
      "            },\n",
      "            \"nonce\": \"17530057935616307\",\n",
      "            \"merkle_proof\": [\n",
      "                [\n",
      "                    \"138a615df8a9ce562e35f25c051e0ed5f4cd4c6bced25a940e37a8cd5251b154\",\n",
      "                    \"L\"\n",
      "                ],\n",
      "                [\n",
      "                    \"f647832507f2ca83bacb3791b66eaea063189817d992304dabf8086b4f9f699f\",\n",
      "                    \"L\"\n",
      "                ],\n",
      "                [\n",
      "                    \"214a4475b76f9e329caa6c7aebbb526c7b9e460d89e2880ebd62bf9db4c55509\",\n",
      "                    \"R\"\n",
      "                ]\n",
      "            ]\n",
      "        },\n",
      "        {\n",
      "            \"typology\": \"Course\",\n",
      "            \"data\": {\n",
      "                \"name\": \"Ingegneria del Software\",\n",
      "                \"achieved\": true,\n",
      "                \"grade\": 20,\n",
      "                \"cfu\": 9,\n",
      "                \"achievementData\": \"2025-02-15\"\n",
      "            },\n",
      "            \"nonce\": \"17530057935613836\",\n",
      "            \"merkle_proof\": [\n",
      "                [\n",
      "                    \"b432fe108efebc44f79d9bda00fd63d476d0acb1c05d0ffa3cc5ddb11e65e657\",\n",
      "                    \"R\"\n",
      "                ],\n",
      "                [\n",
      "                    \"4e86eedb1527e2a84b821d885d3c8f999aa7264858353ed115085993b0d4ceb0\",\n",
      "                    \"R\"\n",
      "                ],\n",
      "                [\n",
      "                    \"23b9e49f15c1768d35612a516494fb7cec4d42b14003c2b16c33c41e39362070\",\n",
      "                    \"L\"\n",
      "                ]\n",
      "            ]\n",
      "        },\n",
      "        {\n",
      "            \"typology\": \"ExtraActivity\",\n",
      "            \"data\": {\n",
      "                \"name\": \"Internship\",\n",
      "                \"cfu\": 2\n",
      "            },\n",
      "            \"nonce\": \"17530057935619459\",\n",
      "            \"merkle_proof\": [\n",
      "                [\n",
      "                    \"04d092abc9ce9c6bdbe0bcb3b760bbe5269dc1e8e1fd0356789049fc3b7d3e64\",\n",
      "                    \"L\"\n",
      "                ],\n",
      "                [\n",
      "                    \"4e86eedb1527e2a84b821d885d3c8f999aa7264858353ed115085993b0d4ceb0\",\n",
      "                    \"R\"\n",
      "                ],\n",
      "                [\n",
      "                    \"23b9e49f15c1768d35612a516494fb7cec4d42b14003c2b16c33c41e39362070\",\n",
      "                    \"L\"\n",
      "                ]\n",
      "            ]\n",
      "        },\n",
      "        {\n",
      "            \"typology\": \"Course\",\n",
      "            \"data\": {\n",
      "                \"name\": \"Matematica Discreta\",\n",
      "                \"achieved\": true,\n",
      "                \"grade\": 23,\n",
      "                \"cfu\": 3,\n",
      "                \"achievementData\": \"2025-02-15\"\n",
      "            },\n",
      "            \"nonce\": \"17530057935615231\",\n",
      "            \"merkle_proof\": [\n",
      "                [\n",
      "                    \"245e5d0768470d88a514e3ae14b3d9f35fc9b687f1fdd9152cf4d537a3fe7039\",\n",
      "                    \"L\"\n",
      "                ],\n",
      "                [\n",
      "                    \"219e77554b653d5794d347e48afb80a9d14e0267433b6221f8f7b8b010387e34\",\n",
      "                    \"L\"\n",
      "                ],\n",
      "                [\n",
      "                    \"23b9e49f15c1768d35612a516494fb7cec4d42b14003c2b16c33c41e39362070\",\n",
      "                    \"L\"\n",
      "                ]\n",
      "            ]\n",
      "        }\n",
      "    ],\n",
      "    \"issuerSignature\": \"IxXKb2HGdec1Ex7L/6pBwAACgK+Y+EBMim3ZfTA6tsejF+j6ICx1VmXVAI3sjv4eR/ID7j6T7hPrFSVMX6qkvomQGVgHbepq0OodQeBcKmf/wlr8zgitBRqiL2YR5Ll6KVOHXlHuZbt2t4XFIxVFJiO7oWy7efeziVQ9Od3EDqRWSAQ5OSbLqooPutpAP4raWf6JhiguIZTparHoKmd+9R1PVG7Qe+qjzGSwIqjIZmpmvj/3//tk4lIcRZc49rukceX8AjUPfOss4pBF4FtOIxfQdIfc73qUFJUn3iWLInj4AcmiArtHSyJeBAagDfpIlTMKT+NtQfki0ld6uLH93A==\"\n",
      "}\n",
      "Credenziale salvata in: ./students/Student_AntonioCarbone/persistency/credentials/credential_2.json\n"
     ]
    }
   ],
   "source": [
    "#1. selezione della credenziale da condividere e selezione delle properties da divulgare,\n",
    "#preoccupandosi chiaramente di gestire il meccanismo delle proofs.\n",
    "partial_credential = studente.build_shared_credential()\n",
    "\n",
    "#2. rilascio della credenziale parziale allo studente, che la aggiunge alle proprie.\n",
    "studente.save_credential(partial_credential)"
   ]
  },
  {
   "cell_type": "markdown",
   "id": "301eb1e9",
   "metadata": {},
   "source": [
    "## Condivisione credenziale\n",
    "Infine, la credenziale appena creata viene condivisa (paragrafo 2.3.4) all'università d'origine, che ne può verificare la validità attraverso il meccanismo delle merkle proofs allegate ad ogni property."
   ]
  },
  {
   "cell_type": "code",
   "execution_count": 13,
   "id": "988cdd56",
   "metadata": {},
   "outputs": [
    {
     "name": "stdout",
     "output_type": "stream",
     "text": [
      "L'università che ha rilasciato la credenziale condivisa è fidata.\n",
      "Il SID presente nella credenziale è valido.\n",
      "Challenge di autenticazione superata.\n",
      "Le property sono state verificate correttamente!\n",
      "La credenziale condivisa è valida\n"
     ]
    }
   ],
   "source": [
    "uni_origin.validate_shared_credential(studente,partial_credential.toJSON())"
   ]
  },
  {
   "cell_type": "markdown",
   "id": "6c5ea75c",
   "metadata": {},
   "source": [
    "## Revoca\n",
    "<p>Tutto ciò che nelle fasi precedenti è stato registrato e rilasciato può, come richiesto da specifica, essere revocato.<p>\n",
    "<p>Questo viene fatto sempre tramite blockchain, in particolare tramite richieste effettuate da parte dell'università che ha rilasciato la credenziale verso il proprio smart contract dedicato.<p>\n",
    "<p>A scopo illustrativo questo procedimento viene effettuato solo per le credenziali, ma sono predisposti tutti i metodi di modifica di SID ed UID<p>"
   ]
  },
  {
   "cell_type": "markdown",
   "id": "da5bee17",
   "metadata": {},
   "source": [
    "### Revoca credenziale studente"
   ]
  },
  {
   "cell_type": "code",
   "execution_count": null,
   "id": "3c205736",
   "metadata": {},
   "outputs": [],
   "source": [
    "uni_origin.revoke_cid(\"CID:UNISA:1\")"
   ]
  },
  {
   "cell_type": "markdown",
   "id": "cd2d5cde",
   "metadata": {},
   "source": [
    "### Revoca credenziale carriera"
   ]
  },
  {
   "cell_type": "code",
   "execution_count": null,
   "id": "a160e2c3",
   "metadata": {},
   "outputs": [],
   "source": [
    "uni_erasmus.revoke_cid(\"CID:ENSICAEN:0\")"
   ]
  },
  {
   "cell_type": "markdown",
   "id": "c5243107",
   "metadata": {},
   "source": [
    "# Threat models"
   ]
  },
  {
   "cell_type": "markdown",
   "id": "5e3195ce",
   "metadata": {},
   "source": [
    "## Manomissione di una credenziale\n",
    "<p>In questo blocco, tramite l'ausilio di una funzione che manomette il JSON di una credenziale, viene testata la resistenza della soluzione al threat model 1.3.2 e, implicitamente, anche al threat 1.3.3.<p>\n",
    "<p>Difatti, la credenziale modificata, genera una condizione di eccezione poichè viene verificata una incongruenza nelle merkle proof (si tratta di una credenziale parziale)<p>\n",
    "<p>Nel caso di una credenziale totale, invece, la situazione è del tutto simile, come possiamo osservare nel secondo snippet di codice. Viene infatti rilevata l'invalidità della firma.<p>"
   ]
  },
  {
   "cell_type": "code",
   "execution_count": null,
   "id": "2eef3a73",
   "metadata": {},
   "outputs": [],
   "source": [
    "parsed_partial_credential = json.loads(partial_credential.toJSON())\n",
    "tampered_credential = tamper_all_credential_properties(parsed_partial_credential)\n",
    "uni_origin.validate_shared_credential(studente, json.dumps(tampered_credential, ensure_ascii=False, indent=4))"
   ]
  },
  {
   "cell_type": "code",
   "execution_count": null,
   "id": "94bcb17c",
   "metadata": {},
   "outputs": [],
   "source": [
    "parsed_partial_credential = json.loads(studente.credentials[1].toJSON()) #la credenziale 1 nella demo è quella che lo studente ha ottenuto al termine della carriera ERASMUS\n",
    "tampered_credential = tamper_all_credential_properties(parsed_partial_credential)\n",
    "uni_origin.validate_shared_credential(studente, json.dumps(tampered_credential, ensure_ascii=False, indent=4))"
   ]
  },
  {
   "cell_type": "markdown",
   "id": "08aea8f5",
   "metadata": {},
   "source": [
    "## Ente certificatore fasullo\n",
    "<p>In questo blocco viene testata la resistenza del sisitema al threat model 1.3.4, in particolare un ente certificatore che è accreditato presso la SCA ma fornisce sotto richiesta di uno studente credenziali contenenti informazioni fasulle.<p>\n",
    "<p>Chiaramente se la credenziale fasulla viene registrata sulla blockchain e le informazioni contenute in essa sono in regola non è possibile evitare questa situazione tramite l'implementazione della soluzione. Bensì dovrebbe essere un terzo che si rende conto della situazione e segnala l'ente e gli studenti complici alla SCA che provvederà a revocare l'UID in questione e comunicherà alle università di origine degli studenti coinvolti di revocarne i sid.<p>\n",
    "<p>Allo stesso modo anche il threat model dell'ente certificatore malintenzionato (1.3.5) che modifica le credenziali rilasciate"
   ]
  },
  {
   "cell_type": "code",
   "execution_count": 14,
   "id": "d64ceb66",
   "metadata": {},
   "outputs": [
    {
     "name": "stdout",
     "output_type": "stream",
     "text": [
      "SIDSmartContract deployed at: 0xeC27Bbf781Ef45277a8E67d3e44e4df0f9256a8b\n",
      "CIDSmartContract deployed at: 0x97C62e5E2C4c324f1F8B920926A38939Cc1C29ff\n",
      "Università creata con successo.\n",
      "Registrazione Università (UID: UNIFAKE) completata con successo. Transaction Hash: 6dded99076f52c7f1da4f2711ef469053f7516fe755e31b4c3ef0ce6b2cd2c03\n",
      "\n",
      "Studente creato e salvato in: ./students/Student_CompliceComplice/persistency/student_data.json\n",
      "Studente 'Complice Complice' caricato da ./students/Student_CompliceComplice\n",
      "Registrazione SID completata con successo. Transaction Hash: 95a54e6b6c7ea51f0ba417f060a3e2608f0162da4e32645824525e2e8a443b66\n",
      "Registrazione CID completata con successo. Transaction Hash: e58aa83c19152e3f148d3ff49cf77f554c0ea707c7e922fdf6f2eed59c22add3\n",
      "Credenziale salvata in: ./students/Student_CompliceComplice/persistency/credentials/credential_0.json\n",
      "Il CID associato alla credenziale fornita risulta valido.\n",
      "Firma dell'issuer verificata correttamente.\n",
      "Il SID contenuto nella credenziale è valido.\n",
      "Firma dello studente verificata correttamente.\n",
      "Complimenti Complice Complice \n",
      "Immatricolazione Erasmus completata!\n",
      "UniFake ti dà il benvenuto!\n",
      "Credenziale di immatricolazione dello studente valida.\n",
      "Il SID fornito è valido.\n",
      "Challenge di autenticazione superata.\n",
      "Registrazione CID completata con successo. Transaction Hash: c762b041e1a2c0a45d5bc381c94f09aa55c035861888b7cf300e24d248656b5d\n",
      "Complimenti Complice Complice \n",
      "Richiesta della tua credenziale carriera completata!\n",
      "Arrivederci da UniFake!\n",
      "Credenziale salvata in: ./students/Student_CompliceComplice/persistency/credentials/credential_1.json\n",
      "Revoca Università (UID: UNIFAKE) completata con successo. Transaction Hash: 26106c062d9200c0188c086d29a980490232c900a757caa23a800175545f9f96\n",
      "revoca dell'UID eseguita con successo.\n",
      "Modifica SID completata con successo. Transaction Hash: aeb46480c0e60f69cd282d1ddd1dbf135d4fc10e2ccfdd4592c61b8915777ba2\n",
      "Identificativo dello studente SID:UNISA:2 revocato con successo!\n"
     ]
    }
   ],
   "source": [
    "University.create_university(UNIVERSITIES_PATH, CONTRACTS_BUILD_PATH)\n",
    "uni_fake = University(UNIVERSITIES_PATH+'University_UniFake', CONTRACTS_BUILD_PATH)\n",
    "\n",
    "#Accreditamemnto dell'università fasulla\n",
    "UID, sca_contract_address = sca.register_university(uni_fake) \n",
    "uni_fake.update_uid(UID)\n",
    "uni_fake.update_sca_contract_address(sca_contract_address) \n",
    "\n",
    "Student.create_student(STUDENTS_PATH)\n",
    "studente_complice = Student(STUDENTS_PATH+'Student_CompliceComplice')\n",
    "\n",
    "#Immatricolazione dello studente complice presso un'università accreditata\n",
    "credenziale_studente_complice, sid = uni_origin.register_student(studente_complice)\n",
    "studente_complice.set_sid(sid)\n",
    "studente_complice.save_credential(credenziale_studente_complice)\n",
    "\n",
    "#Immatricolazione presso l'università fasulla per il rilascio della credenziale fake\n",
    "uni_fake.register_erasmus_student(studente_complice, studente_complice.credentials[0].toJSON())\n",
    "uni_fake.update_erasmus_students(studente_complice, credenziale_studente_complice.CID)\n",
    "\n",
    "#Richiesta della credenziale carriera fasulla\n",
    "fake_career_credential = uni_fake.request_career_credential(studente_complice)\n",
    "studente_complice.save_credential(fake_career_credential)\n",
    "\n",
    "#Revoca di UID e del SID successivamente alla segnalazione\n",
    "sca.revoke_uid(uni_fake.UID)\n",
    "uni_origin.revoke_sid(studente_complice)"
   ]
  },
  {
   "cell_type": "code",
   "execution_count": 20,
   "id": "890fb7d5",
   "metadata": {},
   "outputs": [
    {
     "name": "stdout",
     "output_type": "stream",
     "text": [
      "SID non valido\n"
     ]
    }
   ],
   "source": [
    "from University.services.university_blockchain_manager import UniversityBlockchainManager\n",
    "manager = UniversityBlockchainManager('http://127.0.0.1:7545')\n",
    "\n",
    "origin_uni_uid = split_UID(uni_origin.UID)\n",
    "_, complice_sid = split_SID(studente_complice.SID)\n",
    "\n",
    "_, _, isValid = manager.verify_sid_on_chain(uni_origin.sca_contract_instance, origin_uni_uid, complice_sid)\n",
    "if not isValid:\n",
    "    print('SID non valido')\n"
   ]
  },
  {
   "cell_type": "code",
   "execution_count": 21,
   "id": "c6c73ba0",
   "metadata": {},
   "outputs": [
    {
     "name": "stdout",
     "output_type": "stream",
     "text": [
      "Registrazione SID completata con successo. Transaction Hash: a71e4aacec8801b622d0aa526056b0be6af28a5a6b71a0f891334bf505ddf970\n",
      "Registrazione CID completata con successo. Transaction Hash: e4c2ebf41d7446e02aff2539bdaf7c19a1591a8d984742e01614af4420767876\n"
     ]
    },
    {
     "ename": "Exception",
     "evalue": "Errore nella verifica del'UID dell'università issuer: L'università che ha rilasciato la credenziale condivisa non è più fidata.",
     "output_type": "error",
     "traceback": [
      "\u001b[31m---------------------------------------------------------------------------\u001b[39m",
      "\u001b[31mException\u001b[39m                                 Traceback (most recent call last)",
      "\u001b[36mFile \u001b[39m\u001b[32m~/Desktop/APS/ProjectWorkAPS/demo/University/university.py:340\u001b[39m, in \u001b[36mUniversity.validate_shared_credential\u001b[39m\u001b[34m(self, student, json_credential)\u001b[39m\n\u001b[32m    339\u001b[39m \u001b[38;5;28;01mif\u001b[39;00m sid_isRevoked:\n\u001b[32m--> \u001b[39m\u001b[32m340\u001b[39m     \u001b[38;5;28;01mraise\u001b[39;00m \u001b[38;5;167;01mException\u001b[39;00m(\u001b[33m\"\u001b[39m\u001b[33mL\u001b[39m\u001b[33m'\u001b[39m\u001b[33muniversità che ha rilasciato la credenziale condivisa non è più fidata.\u001b[39m\u001b[33m\"\u001b[39m)\n\u001b[32m    341\u001b[39m \u001b[38;5;28mprint\u001b[39m(\u001b[33m\"\u001b[39m\u001b[33mL\u001b[39m\u001b[33m'\u001b[39m\u001b[33muniversità che ha rilasciato la credenziale condivisa è fidata.\u001b[39m\u001b[33m\"\u001b[39m)\n",
      "\u001b[31mException\u001b[39m: L'università che ha rilasciato la credenziale condivisa non è più fidata.",
      "\nDuring handling of the above exception, another exception occurred:\n",
      "\u001b[31mException\u001b[39m                                 Traceback (most recent call last)",
      "\u001b[36mCell\u001b[39m\u001b[36m \u001b[39m\u001b[32mIn[21]\u001b[39m\u001b[32m, line 3\u001b[39m\n\u001b[32m      1\u001b[39m \u001b[38;5;66;03m#Prova di immatricolazione di uno studente affidabile presso l'università fasulla per verifica revoca dell'UID.\u001b[39;00m\n\u001b[32m      2\u001b[39m new_fake_credential,_ = uni_fake.register_student(studente)\n\u001b[32m----> \u001b[39m\u001b[32m3\u001b[39m \u001b[43muni_origin\u001b[49m\u001b[43m.\u001b[49m\u001b[43mvalidate_shared_credential\u001b[49m\u001b[43m(\u001b[49m\u001b[43mstudente\u001b[49m\u001b[43m,\u001b[49m\u001b[43m \u001b[49m\u001b[43mnew_fake_credential\u001b[49m\u001b[43m.\u001b[49m\u001b[43mtoJSON\u001b[49m\u001b[43m(\u001b[49m\u001b[43m)\u001b[49m\u001b[43m)\u001b[49m\n",
      "\u001b[36mFile \u001b[39m\u001b[32m~/Desktop/APS/ProjectWorkAPS/demo/University/university.py:343\u001b[39m, in \u001b[36mUniversity.validate_shared_credential\u001b[39m\u001b[34m(self, student, json_credential)\u001b[39m\n\u001b[32m    341\u001b[39m     \u001b[38;5;28mprint\u001b[39m(\u001b[33m\"\u001b[39m\u001b[33mL\u001b[39m\u001b[33m'\u001b[39m\u001b[33muniversità che ha rilasciato la credenziale condivisa è fidata.\u001b[39m\u001b[33m\"\u001b[39m)\n\u001b[32m    342\u001b[39m \u001b[38;5;28;01mexcept\u001b[39;00m \u001b[38;5;167;01mException\u001b[39;00m \u001b[38;5;28;01mas\u001b[39;00m e:\n\u001b[32m--> \u001b[39m\u001b[32m343\u001b[39m     \u001b[38;5;28;01mraise\u001b[39;00m \u001b[38;5;167;01mException\u001b[39;00m(\u001b[33mf\u001b[39m\u001b[33m\"\u001b[39m\u001b[33mErrore nella verifica del\u001b[39m\u001b[33m'\u001b[39m\u001b[33mUID dell\u001b[39m\u001b[33m'\u001b[39m\u001b[33muniversità issuer: \u001b[39m\u001b[38;5;132;01m{\u001b[39;00me\u001b[38;5;132;01m}\u001b[39;00m\u001b[33m\"\u001b[39m)\n\u001b[32m    345\u001b[39m origin_uid, sid = split_SID(shared_credential.SID)\n\u001b[32m    346\u001b[39m \u001b[38;5;28;01mtry\u001b[39;00m:\n",
      "\u001b[31mException\u001b[39m: Errore nella verifica del'UID dell'università issuer: L'università che ha rilasciato la credenziale condivisa non è più fidata."
     ]
    }
   ],
   "source": [
    "#Prova di immatricolazione di uno studente affidabile presso l'università fasulla per verifica revoca dell'UID.\n",
    "new_fake_credential,_ = uni_fake.register_student(studente)\n",
    "uni_origin.validate_shared_credential(studente, new_fake_credential.toJSON())"
   ]
  },
  {
   "cell_type": "markdown",
   "id": "c0a708a3",
   "metadata": {},
   "source": [
    "## Sosia\n",
    "<p>Per simulare lo scenario di un sosia (Threat 1.3.6), proviamo a far condividere la credenziale dello studente dei precedenti esperimenti ad un sosia, immatricolando quest'ultimo alla stessa università, anche se questo non influenza l'esito dell'esperimento.<p>\n",
    "<p>Lo studente difatti, non riesce a superare la challenge di autenticazione, e viene pertanto generata una eccezione sul controllo della firma del nonce.<p>"
   ]
  },
  {
   "cell_type": "code",
   "execution_count": null,
   "id": "88cf31a3",
   "metadata": {},
   "outputs": [],
   "source": [
    "Student.create_student(STUDENTS_PATH)\n",
    "studente_sosia = Student(STUDENTS_PATH+'Student_SosiaSosia')\n",
    "credenziale_studente_sosia,sid_sosia = uni_origin.register_student(studente)\n",
    "studente_sosia.set_sid(sid_sosia)\n",
    "studente_sosia.save_credential(credenziale_studente_sosia)"
   ]
  },
  {
   "cell_type": "code",
   "execution_count": null,
   "id": "ed8721c2",
   "metadata": {},
   "outputs": [],
   "source": [
    "uni_origin.validate_shared_credential(studente_sosia,studente.credentials[1].toJSON())"
   ]
  },
  {
   "cell_type": "markdown",
   "id": "b37bd9dc",
   "metadata": {},
   "source": [
    "## Forgiatore di credenziali\n",
    "<p>In questo blocco, tramite l'ausilio di un metodo che crea una nuova credenziale carriera, viene testata la resistenza della soluzione al threat model 1.3.7.<p>\n",
    "<p>Lo stesso metodo viene utilizzato dall'università estera quando le viene chiesto il rilascio di una nuova credenziale carriera, ma in questo caso la registrazione non viene effettuata dato che l'ente certificatore non è stato accreditato presso la SCA.<p>"
   ]
  },
  {
   "cell_type": "code",
   "execution_count": null,
   "id": "fba39c03",
   "metadata": {},
   "outputs": [],
   "source": [
    "forged_properties = generate_random_properties(5)\n",
    "forged_credential = Credential(\n",
    "    certificateId = assemble_CID('UNIFORGE', 7),\n",
    "    studentId=\"SID:UNISA:1\",\n",
    "    universityId=\"UID:UNIFORGE\",\n",
    "    issuanceDate= data_odierna(),\n",
    "    properties=forged_properties\n",
    ")\n",
    "uni_origin.validate_shared_credential(studente, forged_credential.toJSON())"
   ]
  }
 ],
 "metadata": {
  "kernelspec": {
   "display_name": ".venv",
   "language": "python",
   "name": "python3"
  },
  "language_info": {
   "codemirror_mode": {
    "name": "ipython",
    "version": 3
   },
   "file_extension": ".py",
   "mimetype": "text/x-python",
   "name": "python",
   "nbconvert_exporter": "python",
   "pygments_lexer": "ipython3",
   "version": "3.12.0"
  }
 },
 "nbformat": 4,
 "nbformat_minor": 5
}
