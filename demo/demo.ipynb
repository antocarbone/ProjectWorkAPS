{
 "cells": [
  {
   "cell_type": "markdown",
   "id": "a7912595",
   "metadata": {},
   "source": [
    "# Inizializzazione università e SCA"
   ]
  },
  {
   "cell_type": "code",
   "execution_count": null,
   "id": "385d7443",
   "metadata": {},
   "outputs": [],
   "source": [
    "from SmartContractAuthority.sca import SmartContractAuthority\n",
    "from cryptography.hazmat.primitives.asymmetric import rsa, padding\n",
    "from cryptography.hazmat.primitives import serialization, hashes\n",
    "from University.university import University\n",
    "from Student.student import Student\n",
    "import base64\n",
    "import sys\n",
    "\n",
    "SCA_PATH = './smart_contract_authority/'\n",
    "UNIVERSITIES_PATH = './universities/'\n",
    "STUDENTS_PATH = './students/'\n",
    "CONTRACTS_BUILD_PATH = './SmartContracts/build'"
   ]
  },
  {
   "cell_type": "markdown",
   "id": "17727e6a",
   "metadata": {},
   "source": [
    "## Creazione Smart Contract Authority\n",
    "Viene associato un account eth alla Smart Contract Authority che fa il deploy dei propri contratti"
   ]
  },
  {
   "cell_type": "code",
   "execution_count": null,
   "id": "9a768698",
   "metadata": {},
   "outputs": [],
   "source": [
    "SmartContractAuthority.create_sca(SCA_PATH, CONTRACTS_BUILD_PATH)"
   ]
  },
  {
   "cell_type": "markdown",
   "id": "84e3da0f",
   "metadata": {},
   "source": [
    "### Creazione dell'istanza\n",
    "Viene effettivamente caricata l'istanza della SCA a partire dal file JSON di persistenza generato nel blocco precedente"
   ]
  },
  {
   "cell_type": "code",
   "execution_count": null,
   "id": "3867ffa9",
   "metadata": {},
   "outputs": [],
   "source": [
    "sca = SmartContractAuthority(SCA_PATH+\"SCA\", CONTRACTS_BUILD_PATH)"
   ]
  },
  {
   "cell_type": "markdown",
   "id": "1db86df8",
   "metadata": {},
   "source": [
    "## Creazione Università\n",
    "In questo blocco vengono create le università della rete assegnando loro un nome, che poi risulterà nelle directory dedicate, ed un account eth tramite il quale faranno il deploy dei contratti per la gestione di credenziali e studenti."
   ]
  },
  {
   "cell_type": "code",
   "execution_count": null,
   "id": "17f71de2",
   "metadata": {},
   "outputs": [],
   "source": [
    "University.create_university(UNIVERSITIES_PATH, CONTRACTS_BUILD_PATH)\n",
    "\n",
    "University.create_university(UNIVERSITIES_PATH, CONTRACTS_BUILD_PATH)"
   ]
  },
  {
   "cell_type": "markdown",
   "id": "68731a19",
   "metadata": {},
   "source": [
    "### Creazione dell'istanza\n",
    "Viene effettivamente caricata l'istanza delle università a partire dal file JSON di persistenza generato nel blocco precedente"
   ]
  },
  {
   "cell_type": "code",
   "execution_count": null,
   "id": "ddcd76e7",
   "metadata": {},
   "outputs": [],
   "source": [
    "uni_origin = University(UNIVERSITIES_PATH+'University_Università Degli Studi Di Salerno', CONTRACTS_BUILD_PATH)\n",
    "\n",
    "uni_erasmus = University(UNIVERSITIES_PATH+'University_UNICAEN', CONTRACTS_BUILD_PATH)"
   ]
  },
  {
   "cell_type": "markdown",
   "id": "073b37cc",
   "metadata": {},
   "source": [
    "## Creazione studente"
   ]
  },
  {
   "cell_type": "code",
   "execution_count": null,
   "id": "18c3b943",
   "metadata": {},
   "outputs": [],
   "source": [
    "Student.create_student(STUDENTS_PATH)"
   ]
  },
  {
   "cell_type": "code",
   "execution_count": null,
   "id": "ac547bf0",
   "metadata": {},
   "outputs": [],
   "source": [
    "studente = Student(STUDENTS_PATH+'Student_AntonioCarbone')"
   ]
  },
  {
   "cell_type": "markdown",
   "id": "8ed7bc46",
   "metadata": {},
   "source": [
    "## Accreditamento università create"
   ]
  },
  {
   "cell_type": "code",
   "execution_count": null,
   "id": "bbd5dfb3",
   "metadata": {},
   "outputs": [],
   "source": [
    "UID, sca_contract_address = sca.register_university(uni_origin)\n",
    "uni_origin.update_uid(UID)\n",
    "uni_origin.update_sca_contract_address(sca_contract_address)\n",
    "\n",
    "UID, sca_contract_address = sca.register_university(uni_erasmus)\n",
    "uni_erasmus.update_uid(UID)\n",
    "uni_erasmus.update_sca_contract_address(sca_contract_address)"
   ]
  },
  {
   "cell_type": "markdown",
   "id": "47e06d1e",
   "metadata": {},
   "source": [
    "## Immatricolazione presso università di origine"
   ]
  },
  {
   "cell_type": "code",
   "execution_count": null,
   "id": "97830704",
   "metadata": {},
   "outputs": [],
   "source": [
    "credenziale_studente,sid = uni_origin.register_student(studente)\n",
    "studente.set_sid(sid)\n",
    "studente.save_credential(credenziale_studente)"
   ]
  },
  {
   "cell_type": "markdown",
   "id": "6138f1c9",
   "metadata": {},
   "source": [
    "## Immatricolazione presso università estera"
   ]
  },
  {
   "cell_type": "code",
   "execution_count": null,
   "id": "9ff74b29",
   "metadata": {},
   "outputs": [],
   "source": [
    "uni_erasmus.register_erasmus_student(studente, studente.credentials[0].toJSON())\n",
    "uni_erasmus.update_erasmus_students(studente, credenziale_studente.CID)"
   ]
  },
  {
   "cell_type": "markdown",
   "id": "b9d78735",
   "metadata": {},
   "source": [
    "## Richiesta e rilascio credenziale carriera"
   ]
  },
  {
   "cell_type": "code",
   "execution_count": null,
   "id": "d2baf232",
   "metadata": {},
   "outputs": [],
   "source": [
    "career_credential = uni_erasmus.request_career_credential(studente)\n",
    "studente.save_credential(career_credential)"
   ]
  },
  {
   "cell_type": "markdown",
   "id": "059828dc",
   "metadata": {},
   "source": [
    "## Costruzione della credenziale parziale"
   ]
  },
  {
   "cell_type": "code",
   "execution_count": null,
   "id": "c78ca1d3",
   "metadata": {},
   "outputs": [],
   "source": [
    "partial_credential = studente.build_shared_credential()\n",
    "\n",
    "studente.save_credential(partial_credential)"
   ]
  },
  {
   "cell_type": "markdown",
   "id": "301eb1e9",
   "metadata": {},
   "source": [
    "## Condivisione credenziale"
   ]
  },
  {
   "cell_type": "code",
   "execution_count": null,
   "id": "988cdd56",
   "metadata": {},
   "outputs": [],
   "source": [
    "uni_origin.validate_shared_credential(studente, studente.credentials[0].toJSON())"
   ]
  },
  {
   "cell_type": "markdown",
   "id": "6c5ea75c",
   "metadata": {},
   "source": [
    "## Revoca credenziale di immatricolazione"
   ]
  },
  {
   "cell_type": "code",
   "execution_count": null,
   "id": "3c205736",
   "metadata": {},
   "outputs": [],
   "source": [
    "uni_origin.revoke_cid(\"CID:UNISA:1\")"
   ]
  },
  {
   "cell_type": "markdown",
   "id": "cd2d5cde",
   "metadata": {},
   "source": [
    "## Revoca credenziale carriera"
   ]
  },
  {
   "cell_type": "code",
   "execution_count": null,
   "id": "a160e2c3",
   "metadata": {},
   "outputs": [],
   "source": [
    "uni_erasmus.revoke_cid(\"CID:ENSICAEN:0\")"
   ]
  },
  {
   "cell_type": "markdown",
   "id": "5e3195ce",
   "metadata": {},
   "source": [
    "## Manomissione di una credenziale"
   ]
  },
  {
   "cell_type": "code",
   "execution_count": null,
   "id": "2eef3a73",
   "metadata": {},
   "outputs": [],
   "source": []
  },
  {
   "cell_type": "markdown",
   "id": "08aea8f5",
   "metadata": {},
   "source": [
    "## Ente certificatore fasullo"
   ]
  },
  {
   "cell_type": "code",
   "execution_count": null,
   "id": "d64ceb66",
   "metadata": {},
   "outputs": [],
   "source": []
  },
  {
   "cell_type": "markdown",
   "id": "dddd244b",
   "metadata": {},
   "source": [
    "## Ente certificatore malintenzionato"
   ]
  },
  {
   "cell_type": "code",
   "execution_count": null,
   "id": "72ca26fc",
   "metadata": {},
   "outputs": [],
   "source": []
  },
  {
   "cell_type": "markdown",
   "id": "c0a708a3",
   "metadata": {},
   "source": [
    "## Sosia"
   ]
  },
  {
   "cell_type": "code",
   "execution_count": null,
   "id": "ed8721c2",
   "metadata": {},
   "outputs": [],
   "source": []
  },
  {
   "cell_type": "markdown",
   "id": "b37bd9dc",
   "metadata": {},
   "source": [
    "## Forgiatore di credenziali"
   ]
  },
  {
   "cell_type": "code",
   "execution_count": null,
   "id": "fba39c03",
   "metadata": {},
   "outputs": [],
   "source": []
  }
 ],
 "metadata": {
  "kernelspec": {
   "display_name": ".venv",
   "language": "python",
   "name": "python3"
  },
  "language_info": {
   "codemirror_mode": {
    "name": "ipython",
    "version": 3
   },
   "file_extension": ".py",
   "mimetype": "text/x-python",
   "name": "python",
   "nbconvert_exporter": "python",
   "pygments_lexer": "ipython3",
   "version": "3.12.0"
  }
 },
 "nbformat": 4,
 "nbformat_minor": 5
}
