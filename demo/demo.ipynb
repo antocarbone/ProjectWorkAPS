{
 "cells": [
  {
   "cell_type": "markdown",
   "id": "a7912595",
   "metadata": {},
   "source": [
    "# Inizializzazione università e SCA"
   ]
  },
  {
   "cell_type": "code",
   "execution_count": null,
   "id": "385d7443",
   "metadata": {},
   "outputs": [],
   "source": [
    "from SmartContractAuthority.sca import SmartContractAuthority\n",
    "from cryptography.hazmat.primitives.asymmetric import rsa, padding\n",
    "from cryptography.hazmat.primitives import serialization, hashes\n",
    "from University.university import University\n",
    "from Student.student import Student\n",
    "import base64\n",
    "import sys\n",
    "\n",
    "SCA_PATH = './smart_contract_authority/'\n",
    "UNIVERSITIES_PATH = './universities/'\n",
    "STUDENTS_PATH = './students/'\n",
    "CONTRACTS_BUILD_PATH = './SmartContracts/build'"
   ]
  },
  {
   "cell_type": "markdown",
   "id": "17727e6a",
   "metadata": {},
   "source": [
    "## Creazione Smart Contract Authority"
   ]
  },
  {
   "cell_type": "code",
   "execution_count": null,
   "id": "9a768698",
   "metadata": {},
   "outputs": [],
   "source": [
    "#SmartContractAuthority.create_sca(SCA_PATH, CONTRACTS_BUILD_PATH)\n",
    "sca = SmartContractAuthority(SCA_PATH+\"SCA\", CONTRACTS_BUILD_PATH)"
   ]
  },
  {
   "cell_type": "markdown",
   "id": "1db86df8",
   "metadata": {},
   "source": [
    "## Creazione Università"
   ]
  },
  {
   "cell_type": "code",
   "execution_count": null,
   "id": "17f71de2",
   "metadata": {},
   "outputs": [],
   "source": [
    "#University.create_university(UNIVERSITIES_PATH, CONTRACTS_BUILD_PATH)\n",
    "uni = University(UNIVERSITIES_PATH+'University_Università Degli Studi Di Salerno', CONTRACTS_BUILD_PATH)\n",
    "#University.create_university(UNIVERSITIES_PATH, CONTRACTS_BUILD_PATH)\n",
    "uni2= University(UNIVERSITIES_PATH+'University_UNICAEN', CONTRACTS_BUILD_PATH)"
   ]
  },
  {
   "cell_type": "markdown",
   "id": "073b37cc",
   "metadata": {},
   "source": [
    "## Creazione studente"
   ]
  },
  {
   "cell_type": "code",
   "execution_count": null,
   "id": "18c3b943",
   "metadata": {},
   "outputs": [],
   "source": [
    "#Student.create_student(STUDENTS_PATH)\n",
    "studente = Student(STUDENTS_PATH+'Student_AntonioCarbone')"
   ]
  },
  {
   "cell_type": "markdown",
   "id": "8ed7bc46",
   "metadata": {},
   "source": [
    "## Accreditamento università create"
   ]
  },
  {
   "cell_type": "code",
   "execution_count": null,
   "id": "bbd5dfb3",
   "metadata": {},
   "outputs": [],
   "source": [
    "UID, sca_contract_address = sca.register_university(uni)\n",
    "uni.update_uid(UID)\n",
    "uni.update_sca_contract_address(sca_contract_address)\n",
    "\n",
    "UID, sca_contract_address = sca.register_university(uni2)\n",
    "uni2.update_uid(UID)\n",
    "uni2.update_sca_contract_address(sca_contract_address)"
   ]
  },
  {
   "cell_type": "markdown",
   "id": "47e06d1e",
   "metadata": {},
   "source": [
    "## Immatricolazione presso università di origine"
   ]
  },
  {
   "cell_type": "code",
   "execution_count": null,
   "id": "97830704",
   "metadata": {},
   "outputs": [],
   "source": [
    "credenziale_studente,sid = uni.register_student(studente)\n",
    "studente.set_sid(sid)\n",
    "studente.save_credential(credenziale_studente)"
   ]
  },
  {
   "cell_type": "markdown",
   "id": "6138f1c9",
   "metadata": {},
   "source": [
    "## Immatricolazione presso università estera"
   ]
  },
  {
   "cell_type": "code",
   "execution_count": null,
   "id": "9ff74b29",
   "metadata": {},
   "outputs": [],
   "source": [
    "uni2.register_erasmus_student(studente, studente.credentials[0].toJSON())\n",
    "uni2.update_erasmus_students(studente, credenziale_studente.CID)"
   ]
  },
  {
   "cell_type": "markdown",
   "id": "b9d78735",
   "metadata": {},
   "source": [
    "## Richiesta e rilascio credenziale carriera"
   ]
  },
  {
   "cell_type": "code",
   "execution_count": null,
   "id": "d2baf232",
   "metadata": {},
   "outputs": [],
   "source": [
    "career_credential = uni2.request_career_credential(studente)\n",
    "studente.save_credential(career_credential)"
   ]
  },
  {
   "cell_type": "markdown",
   "id": "059828dc",
   "metadata": {},
   "source": [
    "## Costruzione della credenziale parziale"
   ]
  },
  {
   "cell_type": "code",
   "execution_count": null,
   "id": "c78ca1d3",
   "metadata": {},
   "outputs": [],
   "source": [
    "partial_credential = studente.build_shared_credential()\n",
    "#studente.save_credential(partial_credential)"
   ]
  },
  {
   "cell_type": "markdown",
   "id": "301eb1e9",
   "metadata": {},
   "source": [
    "## Condivisione credenziale"
   ]
  },
  {
   "cell_type": "code",
   "execution_count": null,
   "id": "988cdd56",
   "metadata": {},
   "outputs": [],
   "source": [
    "uni.validate_shared_credential(studente, partial_credential.toJSON())"
   ]
  },
  {
   "cell_type": "markdown",
   "id": "6c5ea75c",
   "metadata": {},
   "source": [
    "## Revoca credenziale di immatricolazione"
   ]
  },
  {
   "cell_type": "code",
   "execution_count": null,
   "id": "3c205736",
   "metadata": {},
   "outputs": [],
   "source": [
    "uni.revoke_cid(\"CID:UNISA:1\")"
   ]
  },
  {
   "cell_type": "markdown",
   "id": "cd2d5cde",
   "metadata": {},
   "source": [
    "## Revoca credenziale carriera"
   ]
  },
  {
   "cell_type": "code",
   "execution_count": null,
   "id": "a160e2c3",
   "metadata": {},
   "outputs": [],
   "source": [
    "uni2.revoke_cid(\"CID:ENSICAEN:0\")"
   ]
  },
  {
   "cell_type": "code",
   "execution_count": null,
   "id": "8b0f4b04",
   "metadata": {},
   "outputs": [],
   "source": []
  }
 ],
 "metadata": {
  "kernelspec": {
   "display_name": ".venv",
   "language": "python",
   "name": "python3"
  },
  "language_info": {
   "codemirror_mode": {
    "name": "ipython",
    "version": 3
   },
   "file_extension": ".py",
   "mimetype": "text/x-python",
   "name": "python",
   "nbconvert_exporter": "python",
   "pygments_lexer": "ipython3",
   "version": "3.13.2"
  }
 },
 "nbformat": 4,
 "nbformat_minor": 5
}
