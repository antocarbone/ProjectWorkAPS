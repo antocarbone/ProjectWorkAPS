{
 "cells": [
  {
   "cell_type": "markdown",
   "id": "a7912595",
   "metadata": {},
   "source": [
    "# Inizializzazione università e SCA"
   ]
  },
  {
   "cell_type": "code",
   "execution_count": 1,
   "id": "385d7443",
   "metadata": {},
   "outputs": [],
   "source": [
    "from University.university import University\n",
    "from Student.student import Student\n",
    "UNIVERSITIES_PATH = './universities/'\n",
    "STUDENTS_PATH = './students/'\n",
    "CONTRACTS_BUILD_PATH = './SmartContracts/build'\n",
    "#University.create_university(UNIVERSITIES_PATH, CONTRACTS_BUILD_PATH)\n",
    "#Student.create_student(STUDENTS_PATH)"
   ]
  },
  {
   "cell_type": "markdown",
   "id": "073b37cc",
   "metadata": {},
   "source": [
    "## Creazione studente"
   ]
  },
  {
   "cell_type": "code",
   "execution_count": 2,
   "id": "97830704",
   "metadata": {},
   "outputs": [
    {
     "name": "stdout",
     "output_type": "stream",
     "text": [
      "Studente 'Antonio Carbone' caricato da ./students/Student_AntonioCarbone\n",
      "Registrazione studente completata. Stato: 1\n"
     ]
    },
    {
     "data": {
      "text/plain": [
       "<Credential.credential.Credential at 0x1168b1e80>"
      ]
     },
     "execution_count": 2,
     "metadata": {},
     "output_type": "execute_result"
    }
   ],
   "source": [
    "uni = University(UNIVERSITIES_PATH+'University_UNISA', CONTRACTS_BUILD_PATH)\n",
    "studente = Student(STUDENTS_PATH+'Student_AntonioCarbone')\n",
    "uni.register_student(studente)"
   ]
  },
  {
   "cell_type": "markdown",
   "id": "8aeedef4",
   "metadata": {},
   "source": [
    "## Immatricolazione studente presso università d'origine"
   ]
  },
  {
   "cell_type": "code",
   "execution_count": null,
   "id": "b650026c",
   "metadata": {},
   "outputs": [],
   "source": []
  },
  {
   "cell_type": "markdown",
   "id": "83023abf",
   "metadata": {},
   "source": [
    "## Immatricolazione studente presso università estera"
   ]
  },
  {
   "cell_type": "code",
   "execution_count": null,
   "id": "65d7713e",
   "metadata": {},
   "outputs": [],
   "source": []
  }
 ],
 "metadata": {
  "kernelspec": {
   "display_name": ".venv",
   "language": "python",
   "name": "python3"
  },
  "language_info": {
   "codemirror_mode": {
    "name": "ipython",
    "version": 3
   },
   "file_extension": ".py",
   "mimetype": "text/x-python",
   "name": "python",
   "nbconvert_exporter": "python",
   "pygments_lexer": "ipython3",
   "version": "3.13.2"
  }
 },
 "nbformat": 4,
 "nbformat_minor": 5
}
