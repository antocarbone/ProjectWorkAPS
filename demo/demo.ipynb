{
 "cells": [
  {
   "cell_type": "markdown",
   "id": "a7912595",
   "metadata": {},
   "source": [
    "# Demo"
   ]
  },
  {
   "cell_type": "code",
   "execution_count": 1,
   "id": "385d7443",
   "metadata": {},
   "outputs": [],
   "source": [
    "from SmartContractAuthority.sca import SmartContractAuthority\n",
    "from University.university import University\n",
    "from Credential.credential import Credential\n",
    "from utils.identifiers_utils import *\n",
    "from utils.file_utils import *\n",
    "from Student.student import Student\n",
    "import json\n",
    "from SimulationUtils.simulationUtils import *\n",
    "\n",
    "SCA_PATH = './smart_contract_authority/'\n",
    "UNIVERSITIES_PATH = './universities/'\n",
    "STUDENTS_PATH = './students/'\n",
    "CONTRACTS_BUILD_PATH = './SmartContracts/build'"
   ]
  },
  {
   "cell_type": "markdown",
   "id": "17727e6a",
   "metadata": {},
   "source": [
    "## Creazione Smart Contract Authority\n",
    "Viene associato un account eth alla Smart Contract Authority che fa il deploy dei propri contratti"
   ]
  },
  {
   "cell_type": "code",
   "execution_count": 2,
   "id": "9a768698",
   "metadata": {},
   "outputs": [
    {
     "name": "stdout",
     "output_type": "stream",
     "text": [
      "SmartContractAuthority deployed at address: 0x7028a8bF6777AcF8cd0Cf899077bFF59d4Dba93C\n",
      "SCA creata con successo e configurazione salvata.\n"
     ]
    },
    {
     "data": {
      "text/plain": [
       "<SmartContractAuthority.sca.SmartContractAuthority at 0x120348d70>"
      ]
     },
     "execution_count": 2,
     "metadata": {},
     "output_type": "execute_result"
    }
   ],
   "source": [
    "SmartContractAuthority.create_sca(SCA_PATH, CONTRACTS_BUILD_PATH)"
   ]
  },
  {
   "cell_type": "markdown",
   "id": "84e3da0f",
   "metadata": {},
   "source": [
    "### Creazione dell'istanza\n",
    "Viene effettivamente caricata l'istanza della SCA a partire dal file JSON di persistenza generato nel blocco precedente"
   ]
  },
  {
   "cell_type": "code",
   "execution_count": 3,
   "id": "3867ffa9",
   "metadata": {},
   "outputs": [],
   "source": [
    "sca = SmartContractAuthority(SCA_PATH+\"SCA\", CONTRACTS_BUILD_PATH)"
   ]
  },
  {
   "cell_type": "markdown",
   "id": "1db86df8",
   "metadata": {},
   "source": [
    "## Creazione Università\n",
    "In questo blocco vengono create le università della rete assegnando loro un nome, che poi risulterà nelle directory dedicate, ed un account eth tramite il quale faranno il deploy dei contratti per la gestione di credenziali e studenti."
   ]
  },
  {
   "cell_type": "code",
   "execution_count": 4,
   "id": "17f71de2",
   "metadata": {},
   "outputs": [
    {
     "name": "stdout",
     "output_type": "stream",
     "text": [
      "SIDSmartContract deployed at: 0xf64c53F9c3d18A4a118064C013D0DcF6a24A89e6\n",
      "CIDSmartContract deployed at: 0x2580C307d1a8b10Ca5e07aC7630b607a41538122\n",
      "Università creata con successo.\n",
      "SIDSmartContract deployed at: 0xB977D7e78dE01aE36Eb0E623BfFBCc84fb966B3e\n",
      "CIDSmartContract deployed at: 0x80FE1d669B418Fe03a82CB57dD78af7fE2Eb8cB7\n",
      "Università creata con successo.\n"
     ]
    },
    {
     "data": {
      "text/plain": [
       "<University.university.University at 0x1207f3890>"
      ]
     },
     "execution_count": 4,
     "metadata": {},
     "output_type": "execute_result"
    }
   ],
   "source": [
    "University.create_university(UNIVERSITIES_PATH, CONTRACTS_BUILD_PATH)\n",
    "\n",
    "University.create_university(UNIVERSITIES_PATH, CONTRACTS_BUILD_PATH)"
   ]
  },
  {
   "cell_type": "markdown",
   "id": "68731a19",
   "metadata": {},
   "source": [
    "### Creazione dell'istanza\n",
    "Viene effettivamente caricata l'istanza delle università a partire dal file JSON di persistenza generato nel blocco precedente"
   ]
  },
  {
   "cell_type": "code",
   "execution_count": 5,
   "id": "ddcd76e7",
   "metadata": {},
   "outputs": [],
   "source": [
    "uni_origin = University(UNIVERSITIES_PATH+'University_UniSalerno', CONTRACTS_BUILD_PATH)\n",
    "\n",
    "uni_erasmus = University(UNIVERSITIES_PATH+'University_UniCaen', CONTRACTS_BUILD_PATH)"
   ]
  },
  {
   "cell_type": "markdown",
   "id": "073b37cc",
   "metadata": {},
   "source": [
    "## Creazione studente\n",
    "Infine, viene creato uno studente che, a scopo dimostrativo, verrà immatricolato presso un'università che poi verrà considerata di origine per poi iniziare un'esperienza erasmus presso l'altra università creata nella fase precedente."
   ]
  },
  {
   "cell_type": "code",
   "execution_count": 6,
   "id": "18c3b943",
   "metadata": {},
   "outputs": [
    {
     "name": "stdout",
     "output_type": "stream",
     "text": [
      "\n",
      "Studente creato e salvato in: ./students/Student_AntonioCarbone/persistency/student_data.json\n"
     ]
    }
   ],
   "source": [
    "Student.create_student(STUDENTS_PATH)"
   ]
  },
  {
   "cell_type": "markdown",
   "id": "820592bc",
   "metadata": {},
   "source": [
    "### Creazione dell'istanza\n",
    "Viene effettivamente caricata l'istanza dello studente a partire dal file JSON di persistenza generato nel blocco precedente"
   ]
  },
  {
   "cell_type": "code",
   "execution_count": 7,
   "id": "ac547bf0",
   "metadata": {},
   "outputs": [
    {
     "name": "stdout",
     "output_type": "stream",
     "text": [
      "Studente 'Antonio Carbone' caricato da ./students/Student_AntonioCarbone\n"
     ]
    }
   ],
   "source": [
    "studente = Student(STUDENTS_PATH+'Student_AntonioCarbone')"
   ]
  },
  {
   "cell_type": "markdown",
   "id": "8ed7bc46",
   "metadata": {},
   "source": [
    "## Accreditamento università create\n",
    "<p>Affiché possano operare all'interno del sistema come fornitori di credenziali, le università, devono essere accreditate da parte della SCA (paragrafo 2.2.1).<p>\n",
    "<p>In questo modo la chiave pubblica e gli indirizzi degli smart contract delle università sono registrati sulla blockchain ed abbinati ad un UID che viene deciso al momento della registrazione dalla SCA ed assegnato alle università.<p>"
   ]
  },
  {
   "cell_type": "code",
   "execution_count": 8,
   "id": "bbd5dfb3",
   "metadata": {},
   "outputs": [
    {
     "name": "stdout",
     "output_type": "stream",
     "text": [
      "Registrazione Università (UID: UNISA) completata con successo. Transaction Hash: e2aed1b3e76a2ffc74a28033bcc1d94a49ba91020f3e94f87f315f316e50bbff\n",
      "Registrazione Università (UID: ENSICAEN) completata con successo. Transaction Hash: 53ecc794b2a13f3fe729f4123e4563f85b25452c30ab9ea979b92d9a23618ec1\n"
     ]
    }
   ],
   "source": [
    "#1. registrazione dell'università sulla blockchain.\n",
    "UID, sca_contract_address = sca.register_university(uni_origin) \n",
    "\n",
    "#2. assegnazione dell'UID.\n",
    "uni_origin.update_uid(UID)\n",
    "\n",
    "#3. rilascio dell'indirizzo del registro delle università (smart contract),\n",
    "#posseduto dalla SCA, per future rischieste di verifica.\n",
    "uni_origin.update_sca_contract_address(sca_contract_address)     \n",
    "                                                               \n",
    "UID, sca_contract_address = sca.register_university(uni_erasmus)\n",
    "uni_erasmus.update_uid(UID)\n",
    "uni_erasmus.update_sca_contract_address(sca_contract_address)"
   ]
  },
  {
   "cell_type": "markdown",
   "id": "47e06d1e",
   "metadata": {},
   "source": [
    "## Immatricolazione presso università di origine\n",
    "Implementazione dello scenario descritto nel paragrafo 2.3.1 della documentazione, lo studente si immatricola presso l'università di origine ed ottiene una credenziale studente valida all'interno della rete gestita dalla SCA."
   ]
  },
  {
   "cell_type": "code",
   "execution_count": 9,
   "id": "97830704",
   "metadata": {},
   "outputs": [
    {
     "name": "stdout",
     "output_type": "stream",
     "text": [
      "Registrazione SID completata con successo. Transaction Hash: 4f09e870212e5c23d0141ac2a05dfec827c8ed30bbc8f5f7618fa18d89a24026\n",
      "Registrazione CID completata con successo. Transaction Hash: 98cbfdf1d454344001621e2844c2e973c54e6ae18c92c0544b67fbbcd4119196\n",
      "Credenziale salvata in: ./students/Student_AntonioCarbone/persistency/credentials/credential_0.json\n"
     ]
    }
   ],
   "source": [
    "#1. Registrazione della chiave pubblica dello studente e rilascio del SID.\n",
    "credenziale_studente, sid = uni_origin.register_student(studente)\n",
    "\n",
    "#2. assegnazione del SID allo studente.\n",
    "studente.set_sid(sid) \n",
    "\n",
    "#3. rilascio della credenziale di immatricolaizone allo studente, che la aggiunge alle proprie.\n",
    "studente.save_credential(credenziale_studente)"
   ]
  },
  {
   "cell_type": "markdown",
   "id": "6138f1c9",
   "metadata": {},
   "source": [
    "## Immatricolazione presso università estera\n",
    "Implementazione dello scenario descritto nel paragrafo 2.3.2 della documentazione, lo studente presenta la propria credenziale rilasciata dall'università d'origine presso l'università in cui desidera effettuare l'erasmus la quale salva il SID ed il CID dello studente dopo aver controllato che tutte le informazioni ricevute siano in regola."
   ]
  },
  {
   "cell_type": "code",
   "execution_count": 10,
   "id": "9ff74b29",
   "metadata": {},
   "outputs": [
    {
     "name": "stdout",
     "output_type": "stream",
     "text": [
      "Il CID associato alla credenziale fornita risulta valido.\n",
      "Firma dell'issuer verificata correttamente.\n",
      "Il SID contenuto nella credenziale è valido.\n",
      "Firma dello studente verificata correttamente.\n",
      "Complimenti Antonio Carbone \n",
      "Immatricolazione Erasmus completata!\n",
      "UniCaen ti dà il benvenuto!\n"
     ]
    }
   ],
   "source": [
    "#1. immatricolazione presso l'università estera che, verifica la validità della credenziale fornita dallo studente,\n",
    "#verifica la firma inserita dall'università che ha rilasciato la credenziale ed infine propone una challenge allo studente.\n",
    "uni_erasmus.register_erasmus_student(studente, studente.credentials[0].toJSON())\n",
    "\n",
    "#2. L'università estera aggiorna la lista di studenti in erasmus presso la propria struttura.\n",
    "uni_erasmus.update_erasmus_students(studente, credenziale_studente.CID)"
   ]
  },
  {
   "cell_type": "markdown",
   "id": "b9d78735",
   "metadata": {},
   "source": [
    "## Richiesta e rilascio credenziale carriera\n",
    "<p>Al termine dell'esperienza all'estero dello studente, esso può richiedere il rilascio della propria credenziale carriera attestante tutto ciò che ha fatto in erasmus.<p>\n",
    "<p>Per fare ciò lo studente deve presentare il proprio SID attraverso una richiesta specifica per il rilascio (da noi simulata attraverso request_career_credential()). L'università estera, invece, dovrà verificare validità della credenziale in suo possesso, firma dell'università d'origine e challenge per poi rilasciare la credenziale firmata da lei.<p>"
   ]
  },
  {
   "cell_type": "code",
   "execution_count": 11,
   "id": "d2baf232",
   "metadata": {},
   "outputs": [
    {
     "name": "stdout",
     "output_type": "stream",
     "text": [
      "Credenziale di immatricolazione dello studente valida.\n",
      "Il SID fornito è valido.\n",
      "Challenge di autenticazione superata.\n",
      "Registrazione CID completata con successo. Transaction Hash: ed4c2e5b31155685b2273590680dd60e5068fccabbc923e0f50dea1ac4b6c211\n",
      "Complimenti Antonio Carbone \n",
      "Richiesta della tua credenziale carriera completata!\n",
      "Arrivederci da UniCaen!\n",
      "Credenziale salvata in: ./students/Student_AntonioCarbone/persistency/credentials/credential_1.json\n"
     ]
    }
   ],
   "source": [
    "#1. richiesta della credenziale inviando il proprio SID, \n",
    "# l'università verifica tutto ciò che ha ricevuto e rilascia la career_credential\n",
    "career_credential = uni_erasmus.request_career_credential(studente)\n",
    "\n",
    "#2. rilascio della credenziale carriera allo studente, che la aggiunge alle proprie.\n",
    "studente.save_credential(career_credential)"
   ]
  },
  {
   "cell_type": "markdown",
   "id": "059828dc",
   "metadata": {},
   "source": [
    "## Costruzione della credenziale parziale\n",
    "<p>Questo meccanismo è stato realizzato puramente a scopo dimostrativo, dal momento che sorge la necessità di creare una credenziale da condividere.<p>\n",
    "<p>Perciò è stato creato un wizard messo a disposizione dello studente tramite il quale può scegliere quale delle credenziali in suo possesso condividere e quali properties includere nella condivisione.<p>"
   ]
  },
  {
   "cell_type": "code",
   "execution_count": 12,
   "id": "c78ca1d3",
   "metadata": {},
   "outputs": [
    {
     "name": "stdout",
     "output_type": "stream",
     "text": [
      "\n",
      "Seleziona una credenziale da condividere:\n",
      "0: CID = CID:UNISA:1\n",
      "1: CID = CID:ENSICAEN:1\n",
      "\n",
      "Seleziona le proprietà da condividere (y/n):\n",
      "\n",
      "Credenziale parziale costruita con successo:\n",
      "{\n",
      "    \"certificateId\": \"CID:ENSICAEN:1\",\n",
      "    \"studentId\": \"SID:UNISA:1\",\n",
      "    \"universityId\": \"UID:ENSICAEN\",\n",
      "    \"issuanceDate\": \"2025-07-21\",\n",
      "    \"properties\": [\n",
      "        {\n",
      "            \"typology\": \"ErasmusInfo\",\n",
      "            \"data\": {\n",
      "                \"programName\": \"Erasmus+ Europe\",\n",
      "                \"startActivity\": \"2024-09-01\",\n",
      "                \"endActivity\": \"2025-01-31\"\n",
      "            },\n",
      "            \"nonce\": \"17530929087724920\",\n",
      "            \"merkle_proof\": [\n",
      "                [\n",
      "                    \"49b623a8cb8acb6ab6bc25a05967689df103eedd7caf3499324bc96b9f789c93\",\n",
      "                    \"R\"\n",
      "                ],\n",
      "                [\n",
      "                    \"2b9babbee5fd3e15615ad8bf459c2240efc0645ad22d5ddc29ea46bad4f813cf\",\n",
      "                    \"R\"\n",
      "                ],\n",
      "                [\n",
      "                    \"6857f159ab5c6eee6e52e23f46f3c51388798c306ea1809ff59cd0dcf67de684\",\n",
      "                    \"R\"\n",
      "                ]\n",
      "            ]\n",
      "        },\n",
      "        {\n",
      "            \"typology\": \"ExtraActivity\",\n",
      "            \"data\": {\n",
      "                \"name\": \"Debate Club\",\n",
      "                \"cfu\": 2\n",
      "            },\n",
      "            \"nonce\": \"17530929087729542\",\n",
      "            \"merkle_proof\": [\n",
      "                [\n",
      "                    \"58f739ae72fa557affb1de0df9b626d32b00ab755b3b9a79dd36ddfa59ac013d\",\n",
      "                    \"L\"\n",
      "                ],\n",
      "                [\n",
      "                    \"a7628860433a530d3e7c68222a6b2f1073a70feb5adfe20aae242a206550b734\",\n",
      "                    \"L\"\n",
      "                ],\n",
      "                [\n",
      "                    \"6857f159ab5c6eee6e52e23f46f3c51388798c306ea1809ff59cd0dcf67de684\",\n",
      "                    \"R\"\n",
      "                ]\n",
      "            ]\n",
      "        },\n",
      "        {\n",
      "            \"typology\": \"Course\",\n",
      "            \"data\": {\n",
      "                \"name\": \"Machine Learning\",\n",
      "                \"achieved\": true,\n",
      "                \"grade\": 19,\n",
      "                \"cfu\": 9,\n",
      "                \"achievementData\": \"2025-02-15\"\n",
      "            },\n",
      "            \"nonce\": \"17530929087726472\",\n",
      "            \"merkle_proof\": [\n",
      "                [\n",
      "                    \"feaf4b582e7f0c9799ce83d269a3fb8b2e879bb00758c0310ec42f5953fddf4c\",\n",
      "                    \"R\"\n",
      "                ],\n",
      "                [\n",
      "                    \"c3d9c1635292c1d5909add2d871ec33c9380f89ad02150fdd9f094daab04e0b7\",\n",
      "                    \"R\"\n",
      "                ],\n",
      "                [\n",
      "                    \"f7799737ba3331d999e8c7b0e670ece31d0ff5edf15e5bc1abc8a0e0af2e061e\",\n",
      "                    \"L\"\n",
      "                ]\n",
      "            ]\n",
      "        },\n",
      "        {\n",
      "            \"typology\": \"Course\",\n",
      "            \"data\": {\n",
      "                \"name\": \"Basi di Dati\",\n",
      "                \"achieved\": false,\n",
      "                \"grade\": 27,\n",
      "                \"cfu\": 9,\n",
      "                \"achievementData\": \"2025-02-15\"\n",
      "            },\n",
      "            \"nonce\": \"17530929087728991\",\n",
      "            \"merkle_proof\": [\n",
      "                [\n",
      "                    \"49c3dbf3e62499e8711af4829ee6824417dfb1f8b15bdefd24bf59c1442ed477\",\n",
      "                    \"L\"\n",
      "                ],\n",
      "                [\n",
      "                    \"f24d936c95488e25d0cc5f7d570b680d25d3d6345a61dfa5579db9f8d86cede8\",\n",
      "                    \"L\"\n",
      "                ],\n",
      "                [\n",
      "                    \"f7799737ba3331d999e8c7b0e670ece31d0ff5edf15e5bc1abc8a0e0af2e061e\",\n",
      "                    \"L\"\n",
      "                ]\n",
      "            ]\n",
      "        }\n",
      "    ],\n",
      "    \"issuerSignature\": \"fLs9r7BzfppHqjL5gFHA0R9I3KiReV+Ix1655HfMOc4R1g8zW4YWnrL3uofrFGq4tGgpxAjKRJEDzG4KaJvtDPOkvs1sxt6h5x7aFWTMxOBTKKe17lTEPCus6i4KB2z7mwE27tbrVhxudxR7VHSVPJJRZw4rKoI1FTDfFpAL3Wmudy70jhLpJDSKqRsope/mA/5lQ8tOf0Ub6SS9PBrZdNnCxd30jSjTU1aOVAxmOFKOlCp6RglaOO5euBCioY/jL6erK3UpUW/wFbGoHHDJM5puf8eJnVE3vdABQbef4y0v/kgFwNqIu1q6FX4mM6NUChVU+OXSjZxbI2cb/vY3vg==\"\n",
      "}\n",
      "Credenziale salvata in: ./students/Student_AntonioCarbone/persistency/credentials/credential_2.json\n"
     ]
    }
   ],
   "source": [
    "#1. selezione della credenziale da condividere e selezione delle properties da divulgare,\n",
    "#preoccupandosi chiaramente di gestire il meccanismo delle proofs.\n",
    "partial_credential = studente.build_shared_credential()\n",
    "\n",
    "#2. rilascio della credenziale parziale allo studente, che la aggiunge alle proprie.\n",
    "studente.save_credential(partial_credential)"
   ]
  },
  {
   "cell_type": "markdown",
   "id": "301eb1e9",
   "metadata": {},
   "source": [
    "## Condivisione credenziale\n",
    "Infine, la credenziale appena creata viene condivisa (paragrafo 2.3.4) all'università d'origine, che ne può verificare la validità attraverso il meccanismo delle merkle proofs allegate ad ogni property."
   ]
  },
  {
   "cell_type": "code",
   "execution_count": 13,
   "id": "988cdd56",
   "metadata": {},
   "outputs": [
    {
     "name": "stdout",
     "output_type": "stream",
     "text": [
      "L'università che ha rilasciato la credenziale condivisa è fidata.\n",
      "Il SID presente nella credenziale è valido.\n",
      "Challenge di autenticazione superata.\n",
      "Le property sono state verificate correttamente!\n",
      "La credenziale condivisa è valida\n"
     ]
    }
   ],
   "source": [
    "uni_origin.validate_shared_credential(studente,partial_credential.toJSON())"
   ]
  },
  {
   "cell_type": "markdown",
   "id": "6c5ea75c",
   "metadata": {},
   "source": [
    "## Revoca\n",
    "<p>Tutto ciò che nelle fasi precedenti è stato registrato e rilasciato può, come richiesto da specifica, essere revocato.<p>\n",
    "<p>Questo viene fatto sempre tramite blockchain, in particolare tramite richieste effettuate da parte dell'università che ha rilasciato la credenziale verso il proprio smart contract dedicato.<p>\n",
    "<p>A scopo illustrativo questo procedimento viene effettuato solo per le credenziali, ma sono predisposti tutti i metodi di modifica di SID ed UID<p>"
   ]
  },
  {
   "cell_type": "markdown",
   "id": "da5bee17",
   "metadata": {},
   "source": [
    "### Revoca credenziale studente"
   ]
  },
  {
   "cell_type": "code",
   "execution_count": null,
   "id": "3c205736",
   "metadata": {},
   "outputs": [],
   "source": [
    "uni_origin.revoke_cid(\"CID:UNISA:1\")"
   ]
  },
  {
   "cell_type": "markdown",
   "id": "cd2d5cde",
   "metadata": {},
   "source": [
    "### Revoca credenziale carriera"
   ]
  },
  {
   "cell_type": "code",
   "execution_count": null,
   "id": "a160e2c3",
   "metadata": {},
   "outputs": [],
   "source": [
    "uni_erasmus.revoke_cid(\"CID:ENSICAEN:0\")"
   ]
  },
  {
   "cell_type": "markdown",
   "id": "c5243107",
   "metadata": {},
   "source": [
    "# Threat models"
   ]
  },
  {
   "cell_type": "markdown",
   "id": "5e3195ce",
   "metadata": {},
   "source": [
    "## Manomissione di una credenziale\n",
    "<p>In questo blocco, tramite l'ausilio di una funzione che manomette il JSON di una credenziale, viene testata la resistenza della soluzione al threat model 1.3.2 e, implicitamente, anche al threat 1.3.3.<p>\n",
    "<p>Difatti, la credenziale modificata, genera una condizione di eccezione poichè viene verificata una incongruenza nelle merkle proof (si tratta di una credenziale parziale)<p>\n",
    "<p>Nel caso di una credenziale totale, invece, la situazione è del tutto simile, come possiamo osservare nel secondo snippet di codice. Viene infatti rilevata l'invalidità della firma.<p>"
   ]
  },
  {
   "cell_type": "code",
   "execution_count": 14,
   "id": "2eef3a73",
   "metadata": {},
   "outputs": [
    {
     "name": "stdout",
     "output_type": "stream",
     "text": [
      "L'università che ha rilasciato la credenziale condivisa è fidata.\n",
      "Il SID presente nella credenziale è valido.\n",
      "Challenge di autenticazione superata.\n"
     ]
    },
    {
     "ename": "Exception",
     "evalue": "Errore durante la verifica della firma dell'issuer: Inconsistenza rilevata nella merkle proof della property 1 (Tipo: ExtraActivity). Root calcolata: 02c1f6f8605be0d27d94b5ba1e0f0afa42ac833b5c73194b2a4b9194bd570fd8, Root attesa: 85e458a94802e5051362bab53866fb502f36ee2cecd240e3330e6cfe873cd9d5",
     "output_type": "error",
     "traceback": [
      "\u001b[31m---------------------------------------------------------------------------\u001b[39m",
      "\u001b[31mValueError\u001b[39m                                Traceback (most recent call last)",
      "\u001b[36mFile \u001b[39m\u001b[32m~/Desktop/APS/ProjectWorkAPS/demo/University/university.py:381\u001b[39m, in \u001b[36mUniversity.validate_shared_credential\u001b[39m\u001b[34m(self, student, json_credential)\u001b[39m\n\u001b[32m    380\u001b[39m \u001b[38;5;28;01mtry\u001b[39;00m:\n\u001b[32m--> \u001b[39m\u001b[32m381\u001b[39m     final_hash = \u001b[38;5;28mbytes\u001b[39m.fromhex(\u001b[43mshared_credential\u001b[49m\u001b[43m.\u001b[49m\u001b[43mhash\u001b[49m\u001b[43m(\u001b[49m\u001b[43m)\u001b[49m)\n\u001b[32m    382\u001b[39m     erasmus_uni_public_key.verify(\n\u001b[32m    383\u001b[39m         issuer_signature_bytes,\n\u001b[32m    384\u001b[39m         final_hash,  \n\u001b[32m   (...)\u001b[39m\u001b[32m    389\u001b[39m         utils.Prehashed(hashes.SHA256()) \n\u001b[32m    390\u001b[39m     )      \n",
      "\u001b[36mFile \u001b[39m\u001b[32m~/Desktop/APS/ProjectWorkAPS/demo/Credential/credential.py:76\u001b[39m, in \u001b[36mCredential.hash\u001b[39m\u001b[34m(self)\u001b[39m\n\u001b[32m     75\u001b[39m fixed_hash = sha256(fixed_data.encode()).hexdigest()\n\u001b[32m---> \u001b[39m\u001b[32m76\u001b[39m merkle_root = \u001b[43mMerkleTree\u001b[49m\u001b[43m.\u001b[49m\u001b[43mget_merkle_root\u001b[49m\u001b[43m(\u001b[49m\u001b[38;5;28;43mself\u001b[39;49m\u001b[43m.\u001b[49m\u001b[43mproperties\u001b[49m\u001b[43m)\u001b[49m\n\u001b[32m     77\u001b[39m final_hash = sha256((fixed_hash + merkle_root).encode()).hexdigest()\n",
      "\u001b[36mFile \u001b[39m\u001b[32m~/Desktop/APS/ProjectWorkAPS/demo/Credential/merkle_tree.py:89\u001b[39m, in \u001b[36mMerkleTree.get_merkle_root\u001b[39m\u001b[34m(properties)\u001b[39m\n\u001b[32m     88\u001b[39m     \u001b[38;5;28;01mif\u001b[39;00m computed_root_from_proof != expected_overall_merkle_root:\n\u001b[32m---> \u001b[39m\u001b[32m89\u001b[39m         \u001b[38;5;28;01mraise\u001b[39;00m \u001b[38;5;167;01mValueError\u001b[39;00m(\n\u001b[32m     90\u001b[39m             \u001b[33mf\u001b[39m\u001b[33m\"\u001b[39m\u001b[33mInconsistenza rilevata nella merkle proof della property \u001b[39m\u001b[38;5;132;01m{\u001b[39;00mi\u001b[38;5;132;01m}\u001b[39;00m\u001b[33m \u001b[39m\u001b[33m\"\u001b[39m\n\u001b[32m     91\u001b[39m             \u001b[33mf\u001b[39m\u001b[33m\"\u001b[39m\u001b[33m(Tipo: \u001b[39m\u001b[38;5;132;01m{\u001b[39;00mprop.toDict()[\u001b[33m'\u001b[39m\u001b[33mtypology\u001b[39m\u001b[33m'\u001b[39m]\u001b[38;5;250m \u001b[39m\u001b[38;5;28;01mif\u001b[39;00m\u001b[38;5;250m \u001b[39m\u001b[38;5;28mhasattr\u001b[39m(prop,\u001b[38;5;250m \u001b[39m\u001b[33m'\u001b[39m\u001b[33mtoDict\u001b[39m\u001b[33m'\u001b[39m)\u001b[38;5;250m \u001b[39m\u001b[38;5;28;01melse\u001b[39;00m\u001b[38;5;250m \u001b[39m\u001b[33m'\u001b[39m\u001b[33mN/A\u001b[39m\u001b[33m'\u001b[39m\u001b[38;5;132;01m}\u001b[39;00m\u001b[33m). \u001b[39m\u001b[33m\"\u001b[39m\n\u001b[32m     92\u001b[39m             \u001b[33mf\u001b[39m\u001b[33m\"\u001b[39m\u001b[33mRoot calcolata: \u001b[39m\u001b[38;5;132;01m{\u001b[39;00mcomputed_root_from_proof\u001b[38;5;132;01m}\u001b[39;00m\u001b[33m, Root attesa: \u001b[39m\u001b[38;5;132;01m{\u001b[39;00mexpected_overall_merkle_root\u001b[38;5;132;01m}\u001b[39;00m\u001b[33m\"\u001b[39m\n\u001b[32m     93\u001b[39m         )\n\u001b[32m     94\u001b[39m \u001b[38;5;28;01mreturn\u001b[39;00m expected_overall_merkle_root\n",
      "\u001b[31mValueError\u001b[39m: Inconsistenza rilevata nella merkle proof della property 1 (Tipo: ExtraActivity). Root calcolata: 02c1f6f8605be0d27d94b5ba1e0f0afa42ac833b5c73194b2a4b9194bd570fd8, Root attesa: 85e458a94802e5051362bab53866fb502f36ee2cecd240e3330e6cfe873cd9d5",
      "\nDuring handling of the above exception, another exception occurred:\n",
      "\u001b[31mException\u001b[39m                                 Traceback (most recent call last)",
      "\u001b[36mCell\u001b[39m\u001b[36m \u001b[39m\u001b[32mIn[14]\u001b[39m\u001b[32m, line 3\u001b[39m\n\u001b[32m      1\u001b[39m parsed_partial_credential = json.loads(partial_credential.toJSON())\n\u001b[32m      2\u001b[39m tampered_credential = tamper_all_credential_properties(parsed_partial_credential)\n\u001b[32m----> \u001b[39m\u001b[32m3\u001b[39m \u001b[43muni_origin\u001b[49m\u001b[43m.\u001b[49m\u001b[43mvalidate_shared_credential\u001b[49m\u001b[43m(\u001b[49m\u001b[43mstudente\u001b[49m\u001b[43m,\u001b[49m\u001b[43m \u001b[49m\u001b[43mjson\u001b[49m\u001b[43m.\u001b[49m\u001b[43mdumps\u001b[49m\u001b[43m(\u001b[49m\u001b[43mtampered_credential\u001b[49m\u001b[43m,\u001b[49m\u001b[43m \u001b[49m\u001b[43mensure_ascii\u001b[49m\u001b[43m=\u001b[49m\u001b[38;5;28;43;01mFalse\u001b[39;49;00m\u001b[43m,\u001b[49m\u001b[43m \u001b[49m\u001b[43mindent\u001b[49m\u001b[43m=\u001b[49m\u001b[32;43m4\u001b[39;49m\u001b[43m)\u001b[49m\u001b[43m)\u001b[49m\n",
      "\u001b[36mFile \u001b[39m\u001b[32m~/Desktop/APS/ProjectWorkAPS/demo/University/university.py:393\u001b[39m, in \u001b[36mUniversity.validate_shared_credential\u001b[39m\u001b[34m(self, student, json_credential)\u001b[39m\n\u001b[32m    391\u001b[39m     \u001b[38;5;28mprint\u001b[39m(\u001b[33m\"\u001b[39m\u001b[33mLe property sono state verificate correttamente!\u001b[39m\u001b[33m\"\u001b[39m)\n\u001b[32m    392\u001b[39m \u001b[38;5;28;01mexcept\u001b[39;00m \u001b[38;5;167;01mException\u001b[39;00m \u001b[38;5;28;01mas\u001b[39;00m e:\n\u001b[32m--> \u001b[39m\u001b[32m393\u001b[39m     \u001b[38;5;28;01mraise\u001b[39;00m \u001b[38;5;167;01mException\u001b[39;00m(\u001b[33mf\u001b[39m\u001b[33m\"\u001b[39m\u001b[33mErrore durante la verifica della firma dell\u001b[39m\u001b[33m'\u001b[39m\u001b[33missuer: \u001b[39m\u001b[38;5;132;01m{\u001b[39;00me\u001b[38;5;132;01m}\u001b[39;00m\u001b[33m\"\u001b[39m)\n\u001b[32m    395\u001b[39m \u001b[38;5;28mprint\u001b[39m(\u001b[33m\"\u001b[39m\u001b[33mLa credenziale condivisa è valida\u001b[39m\u001b[33m\"\u001b[39m)\n",
      "\u001b[31mException\u001b[39m: Errore durante la verifica della firma dell'issuer: Inconsistenza rilevata nella merkle proof della property 1 (Tipo: ExtraActivity). Root calcolata: 02c1f6f8605be0d27d94b5ba1e0f0afa42ac833b5c73194b2a4b9194bd570fd8, Root attesa: 85e458a94802e5051362bab53866fb502f36ee2cecd240e3330e6cfe873cd9d5"
     ]
    }
   ],
   "source": [
    "parsed_partial_credential = json.loads(partial_credential.toJSON())\n",
    "tampered_credential = tamper_all_credential_properties(parsed_partial_credential)\n",
    "uni_origin.validate_shared_credential(studente, json.dumps(tampered_credential, ensure_ascii=False, indent=4))"
   ]
  },
  {
   "cell_type": "code",
   "execution_count": null,
   "id": "94bcb17c",
   "metadata": {},
   "outputs": [],
   "source": [
    "parsed_partial_credential = json.loads(studente.credentials[1].toJSON()) #la credenziale 1 nella demo è quella che lo studente ha ottenuto al termine della carriera ERASMUS\n",
    "tampered_credential = tamper_all_credential_properties(parsed_partial_credential)\n",
    "uni_origin.validate_shared_credential(studente, json.dumps(tampered_credential, ensure_ascii=False, indent=4))"
   ]
  },
  {
   "cell_type": "markdown",
   "id": "08aea8f5",
   "metadata": {},
   "source": [
    "## Ente certificatore fasullo\n",
    "<p>In questo blocco viene testata la resistenza del sisitema al threat model 1.3.4, in particolare un ente certificatore che è accreditato presso la SCA ma fornisce sotto richiesta di uno studente credenziali contenenti informazioni fasulle.<p>\n",
    "<p>Chiaramente se la credenziale fasulla viene registrata sulla blockchain e le informazioni contenute in essa sono in regola non è possibile evitare questa situazione tramite l'implementazione della soluzione. Bensì dovrebbe essere un terzo che si rende conto della situazione e segnala l'ente e gli studenti complici alla SCA che provvederà a revocare l'UID in questione e comunicherà alle università di origine degli studenti coinvolti di revocarne i sid.<p>\n",
    "<p>Allo stesso modo anche il threat model dell'ente certificatore malintenzionato (1.3.5) che modifica le credenziali rilasciate"
   ]
  },
  {
   "cell_type": "code",
   "execution_count": 15,
   "id": "d64ceb66",
   "metadata": {},
   "outputs": [
    {
     "name": "stdout",
     "output_type": "stream",
     "text": [
      "SIDSmartContract deployed at: 0xB3a8741b6fc52e5B2f3CF1D6D8A01670A90D08F1\n",
      "CIDSmartContract deployed at: 0x31Ea045AFc44643Eb95e31cA8522df2567a575Cb\n",
      "Università creata con successo.\n",
      "Registrazione Università (UID: UNIFAKE) completata con successo. Transaction Hash: 2893be7c11de51667057c18fa34130ffba8e1872addef573649e3f6ad949b96c\n",
      "\n",
      "Studente creato e salvato in: ./students/Student_CompliceComplice/persistency/student_data.json\n",
      "Studente 'Complice Complice' caricato da ./students/Student_CompliceComplice\n",
      "Registrazione SID completata con successo. Transaction Hash: 57d3e6fd242025bc52bfa913810f916cc58b0a1b5a0d48f82399ed96e505661c\n",
      "Registrazione CID completata con successo. Transaction Hash: f3d8a7f449f284af1265be6c6ddd49e8ba000a11e53eaeaf8f2ce3c54d006056\n",
      "Credenziale salvata in: ./students/Student_CompliceComplice/persistency/credentials/credential_0.json\n",
      "Il CID associato alla credenziale fornita risulta valido.\n",
      "Firma dell'issuer verificata correttamente.\n",
      "Il SID contenuto nella credenziale è valido.\n",
      "Firma dello studente verificata correttamente.\n",
      "Complimenti Complice Complice \n",
      "Immatricolazione Erasmus completata!\n",
      "UniFake ti dà il benvenuto!\n",
      "Credenziale di immatricolazione dello studente valida.\n",
      "Il SID fornito è valido.\n",
      "Challenge di autenticazione superata.\n",
      "Registrazione CID completata con successo. Transaction Hash: 004a4a564b6049d0e56e8911c4d102e63201686723058d8487c693b408d8a94e\n",
      "Complimenti Complice Complice \n",
      "Richiesta della tua credenziale carriera completata!\n",
      "Arrivederci da UniFake!\n",
      "Credenziale salvata in: ./students/Student_CompliceComplice/persistency/credentials/credential_1.json\n",
      "Revoca Università (UID: UNIFAKE) completata con successo. Transaction Hash: 14031889ad440d5b25515f1131efd6e04bf1e890d765cf5f835cc3cabb34c6d9\n",
      "revoca dell'UID eseguita con successo.\n",
      "Modifica SID completata con successo. Transaction Hash: c82a48a098e18c40401ca50510ce8211500b4b13d7df55fcaa66c7ce906cbdbe\n",
      "Identificativo dello studente SID:UNISA:2 revocato con successo!\n"
     ]
    }
   ],
   "source": [
    "University.create_university(UNIVERSITIES_PATH, CONTRACTS_BUILD_PATH)\n",
    "uni_fake = University(UNIVERSITIES_PATH+'University_UniFake', CONTRACTS_BUILD_PATH)\n",
    "\n",
    "#Accreditamemnto dell'università fasulla\n",
    "UID, sca_contract_address = sca.register_university(uni_fake) \n",
    "uni_fake.update_uid(UID)\n",
    "uni_fake.update_sca_contract_address(sca_contract_address) \n",
    "\n",
    "Student.create_student(STUDENTS_PATH)\n",
    "studente_complice = Student(STUDENTS_PATH+'Student_CompliceComplice')\n",
    "\n",
    "#Immatricolazione dello studente complice presso un'università accreditata\n",
    "credenziale_studente_complice, sid = uni_origin.register_student(studente_complice)\n",
    "studente_complice.set_sid(sid)\n",
    "studente_complice.save_credential(credenziale_studente_complice)\n",
    "\n",
    "#Immatricolazione presso l'università fasulla per il rilascio della credenziale fake\n",
    "uni_fake.register_erasmus_student(studente_complice, studente_complice.credentials[0].toJSON())\n",
    "uni_fake.update_erasmus_students(studente_complice, credenziale_studente_complice.CID)\n",
    "\n",
    "#Richiesta della credenziale carriera fasulla\n",
    "fake_career_credential = uni_fake.request_career_credential(studente_complice)\n",
    "studente_complice.save_credential(fake_career_credential)\n",
    "\n",
    "#Revoca di UID e del SID successivamente alla segnalazione\n",
    "sca.revoke_uid(uni_fake.UID)\n",
    "uni_origin.revoke_sid(studente_complice)"
   ]
  },
  {
   "cell_type": "code",
   "execution_count": 16,
   "id": "890fb7d5",
   "metadata": {},
   "outputs": [
    {
     "name": "stdout",
     "output_type": "stream",
     "text": [
      "SID non valido\n"
     ]
    }
   ],
   "source": [
    "from University.services.university_blockchain_manager import UniversityBlockchainManager\n",
    "manager = UniversityBlockchainManager('http://127.0.0.1:7545')\n",
    "\n",
    "origin_uni_uid = split_UID(uni_origin.UID)\n",
    "_, complice_sid = split_SID(studente_complice.SID)\n",
    "\n",
    "_, _, isValid = manager.verify_sid_on_chain(uni_origin.sca_contract_instance, origin_uni_uid, complice_sid)\n",
    "if not isValid:\n",
    "    print('SID non valido')\n"
   ]
  },
  {
   "cell_type": "code",
   "execution_count": 17,
   "id": "c6c73ba0",
   "metadata": {},
   "outputs": [
    {
     "name": "stdout",
     "output_type": "stream",
     "text": [
      "Registrazione SID completata con successo. Transaction Hash: aa1bf144c2f8dbc1369e9e2d4629542db34984d6daa8b018c042481b8a8ce87c\n",
      "Registrazione CID completata con successo. Transaction Hash: 56813faa9de8ddcd181ce49a285f82a6e71b0d4026fd4e353c2557f82389e2bc\n"
     ]
    },
    {
     "ename": "Exception",
     "evalue": "Errore nella verifica del'UID dell'università issuer: L'università che ha rilasciato la credenziale condivisa non è più fidata.",
     "output_type": "error",
     "traceback": [
      "\u001b[31m---------------------------------------------------------------------------\u001b[39m",
      "\u001b[31mException\u001b[39m                                 Traceback (most recent call last)",
      "\u001b[36mFile \u001b[39m\u001b[32m~/Desktop/APS/ProjectWorkAPS/demo/University/university.py:340\u001b[39m, in \u001b[36mUniversity.validate_shared_credential\u001b[39m\u001b[34m(self, student, json_credential)\u001b[39m\n\u001b[32m    339\u001b[39m \u001b[38;5;28;01mif\u001b[39;00m sid_isRevoked:\n\u001b[32m--> \u001b[39m\u001b[32m340\u001b[39m     \u001b[38;5;28;01mraise\u001b[39;00m \u001b[38;5;167;01mException\u001b[39;00m(\u001b[33m\"\u001b[39m\u001b[33mL\u001b[39m\u001b[33m'\u001b[39m\u001b[33muniversità che ha rilasciato la credenziale condivisa non è più fidata.\u001b[39m\u001b[33m\"\u001b[39m)\n\u001b[32m    341\u001b[39m \u001b[38;5;28mprint\u001b[39m(\u001b[33m\"\u001b[39m\u001b[33mL\u001b[39m\u001b[33m'\u001b[39m\u001b[33muniversità che ha rilasciato la credenziale condivisa è fidata.\u001b[39m\u001b[33m\"\u001b[39m)\n",
      "\u001b[31mException\u001b[39m: L'università che ha rilasciato la credenziale condivisa non è più fidata.",
      "\nDuring handling of the above exception, another exception occurred:\n",
      "\u001b[31mException\u001b[39m                                 Traceback (most recent call last)",
      "\u001b[36mCell\u001b[39m\u001b[36m \u001b[39m\u001b[32mIn[17]\u001b[39m\u001b[32m, line 3\u001b[39m\n\u001b[32m      1\u001b[39m \u001b[38;5;66;03m#Prova di immatricolazione di uno studente affidabile presso l'università fasulla per verifica revoca dell'UID.\u001b[39;00m\n\u001b[32m      2\u001b[39m new_fake_credential,_ = uni_fake.register_student(studente)\n\u001b[32m----> \u001b[39m\u001b[32m3\u001b[39m \u001b[43muni_origin\u001b[49m\u001b[43m.\u001b[49m\u001b[43mvalidate_shared_credential\u001b[49m\u001b[43m(\u001b[49m\u001b[43mstudente\u001b[49m\u001b[43m,\u001b[49m\u001b[43m \u001b[49m\u001b[43mnew_fake_credential\u001b[49m\u001b[43m.\u001b[49m\u001b[43mtoJSON\u001b[49m\u001b[43m(\u001b[49m\u001b[43m)\u001b[49m\u001b[43m)\u001b[49m\n",
      "\u001b[36mFile \u001b[39m\u001b[32m~/Desktop/APS/ProjectWorkAPS/demo/University/university.py:343\u001b[39m, in \u001b[36mUniversity.validate_shared_credential\u001b[39m\u001b[34m(self, student, json_credential)\u001b[39m\n\u001b[32m    341\u001b[39m     \u001b[38;5;28mprint\u001b[39m(\u001b[33m\"\u001b[39m\u001b[33mL\u001b[39m\u001b[33m'\u001b[39m\u001b[33muniversità che ha rilasciato la credenziale condivisa è fidata.\u001b[39m\u001b[33m\"\u001b[39m)\n\u001b[32m    342\u001b[39m \u001b[38;5;28;01mexcept\u001b[39;00m \u001b[38;5;167;01mException\u001b[39;00m \u001b[38;5;28;01mas\u001b[39;00m e:\n\u001b[32m--> \u001b[39m\u001b[32m343\u001b[39m     \u001b[38;5;28;01mraise\u001b[39;00m \u001b[38;5;167;01mException\u001b[39;00m(\u001b[33mf\u001b[39m\u001b[33m\"\u001b[39m\u001b[33mErrore nella verifica del\u001b[39m\u001b[33m'\u001b[39m\u001b[33mUID dell\u001b[39m\u001b[33m'\u001b[39m\u001b[33muniversità issuer: \u001b[39m\u001b[38;5;132;01m{\u001b[39;00me\u001b[38;5;132;01m}\u001b[39;00m\u001b[33m\"\u001b[39m)\n\u001b[32m    345\u001b[39m origin_uid, sid = split_SID(shared_credential.SID)\n\u001b[32m    346\u001b[39m \u001b[38;5;28;01mtry\u001b[39;00m:\n",
      "\u001b[31mException\u001b[39m: Errore nella verifica del'UID dell'università issuer: L'università che ha rilasciato la credenziale condivisa non è più fidata."
     ]
    }
   ],
   "source": [
    "#Prova di immatricolazione di uno studente affidabile presso l'università fasulla per verifica revoca dell'UID.\n",
    "new_fake_credential,_ = uni_fake.register_student(studente)\n",
    "uni_origin.validate_shared_credential(studente, new_fake_credential.toJSON())"
   ]
  },
  {
   "cell_type": "markdown",
   "id": "c0a708a3",
   "metadata": {},
   "source": [
    "## Sosia\n",
    "<p>Per simulare lo scenario di un sosia (Threat 1.3.6), proviamo a far condividere la credenziale dello studente dei precedenti esperimenti ad un sosia, immatricolando quest'ultimo alla stessa università, anche se questo non influenza l'esito dell'esperimento.<p>\n",
    "<p>Lo studente difatti, non riesce a superare la challenge di autenticazione, e viene pertanto generata una eccezione sul controllo della firma del nonce.<p>"
   ]
  },
  {
   "cell_type": "code",
   "execution_count": 18,
   "id": "88cf31a3",
   "metadata": {},
   "outputs": [
    {
     "name": "stdout",
     "output_type": "stream",
     "text": [
      "\n",
      "Studente creato e salvato in: ./students/Student_SosiaSosia/persistency/student_data.json\n",
      "Studente 'Sosia Sosia' caricato da ./students/Student_SosiaSosia\n",
      "Registrazione SID completata con successo. Transaction Hash: 4954b0d425fe3c607d009b82668253ec9d927209dd7e3ceea2e0176d8fc43504\n",
      "Registrazione CID completata con successo. Transaction Hash: 940d09b6d4d8197a3f3ea4c7781a5267067e928300128a6dee9a5c7a4891e7e8\n",
      "Credenziale salvata in: ./students/Student_SosiaSosia/persistency/credentials/credential_0.json\n"
     ]
    }
   ],
   "source": [
    "Student.create_student(STUDENTS_PATH)\n",
    "studente_sosia = Student(STUDENTS_PATH+'Student_SosiaSosia')\n",
    "credenziale_studente_sosia,sid_sosia = uni_origin.register_student(studente)\n",
    "studente_sosia.set_sid(sid_sosia)\n",
    "studente_sosia.save_credential(credenziale_studente_sosia)"
   ]
  },
  {
   "cell_type": "code",
   "execution_count": 19,
   "id": "ed8721c2",
   "metadata": {},
   "outputs": [
    {
     "name": "stdout",
     "output_type": "stream",
     "text": [
      "L'università che ha rilasciato la credenziale condivisa è fidata.\n",
      "Il SID presente nella credenziale è valido.\n"
     ]
    },
    {
     "ename": "Exception",
     "evalue": "Errore durante la verifica della firma dello studente: ",
     "output_type": "error",
     "traceback": [
      "\u001b[31m---------------------------------------------------------------------------\u001b[39m",
      "\u001b[31mInvalidSignature\u001b[39m                          Traceback (most recent call last)",
      "\u001b[36mFile \u001b[39m\u001b[32m~/Desktop/APS/ProjectWorkAPS/demo/University/university.py:362\u001b[39m, in \u001b[36mUniversity.validate_shared_credential\u001b[39m\u001b[34m(self, student, json_credential)\u001b[39m\n\u001b[32m    360\u001b[39m challenge_signature_bytes = base64.b64decode(signature_b64)\n\u001b[32m--> \u001b[39m\u001b[32m362\u001b[39m \u001b[43mstudent_public_key\u001b[49m\u001b[43m.\u001b[49m\u001b[43mverify\u001b[49m\u001b[43m(\u001b[49m\n\u001b[32m    363\u001b[39m \u001b[43m    \u001b[49m\u001b[43mchallenge_signature_bytes\u001b[49m\u001b[43m,\u001b[49m\n\u001b[32m    364\u001b[39m \u001b[43m    \u001b[49m\u001b[43mnonce\u001b[49m\u001b[43m,\u001b[49m\u001b[43m  \u001b[49m\n\u001b[32m    365\u001b[39m \u001b[43m    \u001b[49m\u001b[43mpadding\u001b[49m\u001b[43m.\u001b[49m\u001b[43mPSS\u001b[49m\u001b[43m(\u001b[49m\n\u001b[32m    366\u001b[39m \u001b[43m        \u001b[49m\u001b[43mmgf\u001b[49m\u001b[43m=\u001b[49m\u001b[43mpadding\u001b[49m\u001b[43m.\u001b[49m\u001b[43mMGF1\u001b[49m\u001b[43m(\u001b[49m\u001b[43malgorithm\u001b[49m\u001b[43m=\u001b[49m\u001b[43mhashes\u001b[49m\u001b[43m.\u001b[49m\u001b[43mSHA256\u001b[49m\u001b[43m(\u001b[49m\u001b[43m)\u001b[49m\u001b[43m)\u001b[49m\u001b[43m,\u001b[49m\n\u001b[32m    367\u001b[39m \u001b[43m        \u001b[49m\u001b[43msalt_length\u001b[49m\u001b[43m=\u001b[49m\u001b[43mpadding\u001b[49m\u001b[43m.\u001b[49m\u001b[43mPSS\u001b[49m\u001b[43m.\u001b[49m\u001b[43mMAX_LENGTH\u001b[49m\n\u001b[32m    368\u001b[39m \u001b[43m    \u001b[49m\u001b[43m)\u001b[49m\u001b[43m,\u001b[49m\n\u001b[32m    369\u001b[39m \u001b[43m    \u001b[49m\u001b[43mhashes\u001b[49m\u001b[43m.\u001b[49m\u001b[43mSHA256\u001b[49m\u001b[43m(\u001b[49m\u001b[43m)\u001b[49m\n\u001b[32m    370\u001b[39m \u001b[43m\u001b[49m\u001b[43m)\u001b[49m      \n\u001b[32m    371\u001b[39m \u001b[38;5;28mprint\u001b[39m(\u001b[33m\"\u001b[39m\u001b[33mChallenge di autenticazione superata.\u001b[39m\u001b[33m\"\u001b[39m)\n",
      "\u001b[31mInvalidSignature\u001b[39m: ",
      "\nDuring handling of the above exception, another exception occurred:\n",
      "\u001b[31mException\u001b[39m                                 Traceback (most recent call last)",
      "\u001b[36mCell\u001b[39m\u001b[36m \u001b[39m\u001b[32mIn[19]\u001b[39m\u001b[32m, line 1\u001b[39m\n\u001b[32m----> \u001b[39m\u001b[32m1\u001b[39m \u001b[43muni_origin\u001b[49m\u001b[43m.\u001b[49m\u001b[43mvalidate_shared_credential\u001b[49m\u001b[43m(\u001b[49m\u001b[43mstudente_sosia\u001b[49m\u001b[43m,\u001b[49m\u001b[43mstudente\u001b[49m\u001b[43m.\u001b[49m\u001b[43mcredentials\u001b[49m\u001b[43m[\u001b[49m\u001b[32;43m1\u001b[39;49m\u001b[43m]\u001b[49m\u001b[43m.\u001b[49m\u001b[43mtoJSON\u001b[49m\u001b[43m(\u001b[49m\u001b[43m)\u001b[49m\u001b[43m)\u001b[49m\n",
      "\u001b[36mFile \u001b[39m\u001b[32m~/Desktop/APS/ProjectWorkAPS/demo/University/university.py:373\u001b[39m, in \u001b[36mUniversity.validate_shared_credential\u001b[39m\u001b[34m(self, student, json_credential)\u001b[39m\n\u001b[32m    371\u001b[39m     \u001b[38;5;28mprint\u001b[39m(\u001b[33m\"\u001b[39m\u001b[33mChallenge di autenticazione superata.\u001b[39m\u001b[33m\"\u001b[39m)\n\u001b[32m    372\u001b[39m \u001b[38;5;28;01mexcept\u001b[39;00m \u001b[38;5;167;01mException\u001b[39;00m \u001b[38;5;28;01mas\u001b[39;00m e:\n\u001b[32m--> \u001b[39m\u001b[32m373\u001b[39m     \u001b[38;5;28;01mraise\u001b[39;00m \u001b[38;5;167;01mException\u001b[39;00m(\u001b[33mf\u001b[39m\u001b[33m\"\u001b[39m\u001b[33mErrore durante la verifica della firma dello studente: \u001b[39m\u001b[38;5;132;01m{\u001b[39;00me\u001b[38;5;132;01m}\u001b[39;00m\u001b[33m\"\u001b[39m)    \n\u001b[32m    375\u001b[39m erasmus_uni_public_key = recover_public_key_from_modulus_exponent(erasmus_uni_pubkey_modulus, erasmus_uni_pubkey_exponent)\n\u001b[32m    377\u001b[39m issuer_signature = shared_credential.issuerSignature \n",
      "\u001b[31mException\u001b[39m: Errore durante la verifica della firma dello studente: "
     ]
    }
   ],
   "source": [
    "uni_origin.validate_shared_credential(studente_sosia,studente.credentials[1].toJSON())"
   ]
  },
  {
   "cell_type": "markdown",
   "id": "b37bd9dc",
   "metadata": {},
   "source": [
    "## Forgiatore di credenziali\n",
    "<p>In questo blocco, tramite l'ausilio di un metodo che crea una nuova credenziale carriera, viene testata la resistenza della soluzione al threat model 1.3.7.<p>\n",
    "<p>Lo stesso metodo viene utilizzato dall'università estera quando le viene chiesto il rilascio di una nuova credenziale carriera, ma in questo caso la registrazione non viene effettuata dato che l'ente certificatore non è stato accreditato presso la SCA.<p>"
   ]
  },
  {
   "cell_type": "code",
   "execution_count": 20,
   "id": "fba39c03",
   "metadata": {},
   "outputs": [
    {
     "ename": "Exception",
     "evalue": "Errore nella verifica del'UID dell'università issuer: {'message': 'VM Exception while processing transaction: revert University with this UID is not registered.', 'stack': 'CallError: VM Exception while processing transaction: revert University with this UID is not registered.\\n    at Blockchain.simulateTransaction (/Applications/Ganache.app/Contents/Resources/static/node/node_modules/ganache/dist/node/1.js:2:72658)', 'code': -32000, 'name': 'CallError', 'data': '0x08c379a00000000000000000000000000000000000000000000000000000000000000020000000000000000000000000000000000000000000000000000000000000002b556e69766572736974792077697468207468697320554944206973206e6f7420726567697374657265642e000000000000000000000000000000000000000000'}",
     "output_type": "error",
     "traceback": [
      "\u001b[31m---------------------------------------------------------------------------\u001b[39m",
      "\u001b[31mWeb3RPCError\u001b[39m                              Traceback (most recent call last)",
      "\u001b[36mFile \u001b[39m\u001b[32m~/Desktop/APS/ProjectWorkAPS/demo/University/university.py:338\u001b[39m, in \u001b[36mUniversity.validate_shared_credential\u001b[39m\u001b[34m(self, student, json_credential)\u001b[39m\n\u001b[32m    337\u001b[39m \u001b[38;5;28;01mtry\u001b[39;00m:\n\u001b[32m--> \u001b[39m\u001b[32m338\u001b[39m     erasmus_uni_pubkey_modulus, erasmus_uni_pubkey_exponent, sid_isRevoked, _, _ = \u001b[38;5;28;43mself\u001b[39;49m\u001b[43m.\u001b[49m\u001b[43mblockchain_manager\u001b[49m\u001b[43m.\u001b[49m\u001b[43mget_university_info_on_chain\u001b[49m\u001b[43m(\u001b[49m\u001b[38;5;28;43mself\u001b[39;49m\u001b[43m.\u001b[49m\u001b[43msca_contract_instance\u001b[49m\u001b[43m,\u001b[49m\u001b[43m \u001b[49m\u001b[43missuer_uid\u001b[49m\u001b[43m)\u001b[49m\n\u001b[32m    339\u001b[39m     \u001b[38;5;28;01mif\u001b[39;00m sid_isRevoked:\n",
      "\u001b[36mFile \u001b[39m\u001b[32m~/Desktop/APS/ProjectWorkAPS/demo/University/services/university_blockchain_manager.py:84\u001b[39m, in \u001b[36mUniversityBlockchainManager.get_university_info_on_chain\u001b[39m\u001b[34m(self, sca_contract_instance, university_id)\u001b[39m\n\u001b[32m     83\u001b[39m \u001b[38;5;28;01mdef\u001b[39;00m\u001b[38;5;250m \u001b[39m\u001b[34mget_university_info_on_chain\u001b[39m(\u001b[38;5;28mself\u001b[39m, sca_contract_instance: Contract, university_id: \u001b[38;5;28mstr\u001b[39m):\n\u001b[32m---> \u001b[39m\u001b[32m84\u001b[39m     \u001b[38;5;28;01mreturn\u001b[39;00m \u001b[38;5;28;43mself\u001b[39;49m\u001b[43m.\u001b[49m\u001b[43mcall_contract_function\u001b[49m\u001b[43m(\u001b[49m\u001b[43msca_contract_instance\u001b[49m\u001b[43m,\u001b[49m\u001b[43m \u001b[49m\u001b[33;43m\"\u001b[39;49m\u001b[33;43mgetUniversityInfo\u001b[39;49m\u001b[33;43m\"\u001b[39;49m\u001b[43m,\u001b[49m\u001b[43m \u001b[49m\u001b[43muniversity_id\u001b[49m\u001b[43m)\u001b[49m\n",
      "\u001b[36mFile \u001b[39m\u001b[32m~/Desktop/APS/ProjectWorkAPS/demo/services/blockchain_manager.py:68\u001b[39m, in \u001b[36mBaseBlockchainManager.call_contract_function\u001b[39m\u001b[34m(self, contract_instance, function_name, *args)\u001b[39m\n\u001b[32m     66\u001b[39m     \u001b[38;5;28;01mraise\u001b[39;00m \u001b[38;5;167;01mAttributeError\u001b[39;00m(\u001b[33mf\u001b[39m\u001b[33m\"\u001b[39m\u001b[33mFunzione \u001b[39m\u001b[33m'\u001b[39m\u001b[38;5;132;01m{\u001b[39;00mfunction_name\u001b[38;5;132;01m}\u001b[39;00m\u001b[33m'\u001b[39m\u001b[33m non trovata nel contratto.\u001b[39m\u001b[33m\"\u001b[39m)\n\u001b[32m---> \u001b[39m\u001b[32m68\u001b[39m \u001b[38;5;28;01mreturn\u001b[39;00m \u001b[38;5;28;43mgetattr\u001b[39;49m\u001b[43m(\u001b[49m\u001b[43mcontract_instance\u001b[49m\u001b[43m.\u001b[49m\u001b[43mfunctions\u001b[49m\u001b[43m,\u001b[49m\u001b[43m \u001b[49m\u001b[43mfunction_name\u001b[49m\u001b[43m)\u001b[49m\u001b[43m(\u001b[49m\u001b[43m*\u001b[49m\u001b[43margs\u001b[49m\u001b[43m)\u001b[49m\u001b[43m.\u001b[49m\u001b[43mcall\u001b[49m\u001b[43m(\u001b[49m\u001b[43m)\u001b[49m\n",
      "\u001b[36mFile \u001b[39m\u001b[32m~/Desktop/APS/ProjectWorkAPS/.venv/lib/python3.13/site-packages/web3/contract/contract.py:291\u001b[39m, in \u001b[36mContractFunction.call\u001b[39m\u001b[34m(self, transaction, block_identifier, state_override, ccip_read_enabled)\u001b[39m\n\u001b[32m    289\u001b[39m abi_element_identifier = abi_to_signature(\u001b[38;5;28mself\u001b[39m.abi)\n\u001b[32m--> \u001b[39m\u001b[32m291\u001b[39m \u001b[38;5;28;01mreturn\u001b[39;00m \u001b[43mcall_contract_function\u001b[49m\u001b[43m(\u001b[49m\n\u001b[32m    292\u001b[39m \u001b[43m    \u001b[49m\u001b[38;5;28;43mself\u001b[39;49m\u001b[43m.\u001b[49m\u001b[43mw3\u001b[49m\u001b[43m,\u001b[49m\n\u001b[32m    293\u001b[39m \u001b[43m    \u001b[49m\u001b[38;5;28;43mself\u001b[39;49m\u001b[43m.\u001b[49m\u001b[43maddress\u001b[49m\u001b[43m,\u001b[49m\n\u001b[32m    294\u001b[39m \u001b[43m    \u001b[49m\u001b[38;5;28;43mself\u001b[39;49m\u001b[43m.\u001b[49m\u001b[43m_return_data_normalizers\u001b[49m\u001b[43m,\u001b[49m\n\u001b[32m    295\u001b[39m \u001b[43m    \u001b[49m\u001b[43mabi_element_identifier\u001b[49m\u001b[43m,\u001b[49m\n\u001b[32m    296\u001b[39m \u001b[43m    \u001b[49m\u001b[43mcall_transaction\u001b[49m\u001b[43m,\u001b[49m\n\u001b[32m    297\u001b[39m \u001b[43m    \u001b[49m\u001b[43mblock_id\u001b[49m\u001b[43m,\u001b[49m\n\u001b[32m    298\u001b[39m \u001b[43m    \u001b[49m\u001b[38;5;28;43mself\u001b[39;49m\u001b[43m.\u001b[49m\u001b[43mcontract_abi\u001b[49m\u001b[43m,\u001b[49m\n\u001b[32m    299\u001b[39m \u001b[43m    \u001b[49m\u001b[38;5;28;43mself\u001b[39;49m\u001b[43m.\u001b[49m\u001b[43mabi\u001b[49m\u001b[43m,\u001b[49m\n\u001b[32m    300\u001b[39m \u001b[43m    \u001b[49m\u001b[43mstate_override\u001b[49m\u001b[43m,\u001b[49m\n\u001b[32m    301\u001b[39m \u001b[43m    \u001b[49m\u001b[43mccip_read_enabled\u001b[49m\u001b[43m,\u001b[49m\n\u001b[32m    302\u001b[39m \u001b[43m    \u001b[49m\u001b[38;5;28;43mself\u001b[39;49m\u001b[43m.\u001b[49m\u001b[43mdecode_tuples\u001b[49m\u001b[43m,\u001b[49m\n\u001b[32m    303\u001b[39m \u001b[43m    \u001b[49m\u001b[43m*\u001b[49m\u001b[38;5;28;43mself\u001b[39;49m\u001b[43m.\u001b[49m\u001b[43margs\u001b[49m\u001b[43m \u001b[49m\u001b[38;5;129;43;01mor\u001b[39;49;00m\u001b[43m \u001b[49m\u001b[43m(\u001b[49m\u001b[43m)\u001b[49m\u001b[43m,\u001b[49m\n\u001b[32m    304\u001b[39m \u001b[43m    \u001b[49m\u001b[43m*\u001b[49m\u001b[43m*\u001b[49m\u001b[38;5;28;43mself\u001b[39;49m\u001b[43m.\u001b[49m\u001b[43mkwargs\u001b[49m\u001b[43m \u001b[49m\u001b[38;5;129;43;01mor\u001b[39;49;00m\u001b[43m \u001b[49m\u001b[43m{\u001b[49m\u001b[43m}\u001b[49m\u001b[43m,\u001b[49m\n\u001b[32m    305\u001b[39m \u001b[43m\u001b[49m\u001b[43m)\u001b[49m\n",
      "\u001b[36mFile \u001b[39m\u001b[32m~/Desktop/APS/ProjectWorkAPS/.venv/lib/python3.13/site-packages/web3/contract/utils.py:153\u001b[39m, in \u001b[36mcall_contract_function\u001b[39m\u001b[34m(w3, address, normalizers, abi_element_identifier, transaction, block_id, contract_abi, abi_callable, state_override, ccip_read_enabled, decode_tuples, *args, **kwargs)\u001b[39m\n\u001b[32m    142\u001b[39m call_transaction = prepare_transaction(\n\u001b[32m    143\u001b[39m     address,\n\u001b[32m    144\u001b[39m     w3,\n\u001b[32m   (...)\u001b[39m\u001b[32m    150\u001b[39m     fn_kwargs=kwargs,\n\u001b[32m    151\u001b[39m )\n\u001b[32m--> \u001b[39m\u001b[32m153\u001b[39m return_data = \u001b[43mw3\u001b[49m\u001b[43m.\u001b[49m\u001b[43meth\u001b[49m\u001b[43m.\u001b[49m\u001b[43mcall\u001b[49m\u001b[43m(\u001b[49m\n\u001b[32m    154\u001b[39m \u001b[43m    \u001b[49m\u001b[43mcall_transaction\u001b[49m\u001b[43m,\u001b[49m\n\u001b[32m    155\u001b[39m \u001b[43m    \u001b[49m\u001b[43mblock_identifier\u001b[49m\u001b[43m=\u001b[49m\u001b[43mblock_id\u001b[49m\u001b[43m,\u001b[49m\n\u001b[32m    156\u001b[39m \u001b[43m    \u001b[49m\u001b[43mstate_override\u001b[49m\u001b[43m=\u001b[49m\u001b[43mstate_override\u001b[49m\u001b[43m,\u001b[49m\n\u001b[32m    157\u001b[39m \u001b[43m    \u001b[49m\u001b[43mccip_read_enabled\u001b[49m\u001b[43m=\u001b[49m\u001b[43mccip_read_enabled\u001b[49m\u001b[43m,\u001b[49m\n\u001b[32m    158\u001b[39m \u001b[43m\u001b[49m\u001b[43m)\u001b[49m\n\u001b[32m    160\u001b[39m \u001b[38;5;28;01mif\u001b[39;00m abi_callable \u001b[38;5;129;01mis\u001b[39;00m \u001b[38;5;28;01mNone\u001b[39;00m:\n",
      "\u001b[36mFile \u001b[39m\u001b[32m~/Desktop/APS/ProjectWorkAPS/.venv/lib/python3.13/site-packages/web3/eth/eth.py:247\u001b[39m, in \u001b[36mEth.call\u001b[39m\u001b[34m(self, transaction, block_identifier, state_override, ccip_read_enabled)\u001b[39m\n\u001b[32m    238\u001b[39m \u001b[38;5;28;01mif\u001b[39;00m (\n\u001b[32m    239\u001b[39m     \u001b[38;5;66;03m# default conditions:\u001b[39;00m\n\u001b[32m    240\u001b[39m     ccip_read_enabled_on_provider\n\u001b[32m   (...)\u001b[39m\u001b[32m    245\u001b[39m     \u001b[38;5;129;01mand\u001b[39;00m ccip_read_enabled \u001b[38;5;129;01mis\u001b[39;00m \u001b[38;5;28;01mTrue\u001b[39;00m\n\u001b[32m    246\u001b[39m ):\n\u001b[32m--> \u001b[39m\u001b[32m247\u001b[39m     \u001b[38;5;28;01mreturn\u001b[39;00m \u001b[38;5;28;43mself\u001b[39;49m\u001b[43m.\u001b[49m\u001b[43m_durin_call\u001b[49m\u001b[43m(\u001b[49m\u001b[43mtransaction\u001b[49m\u001b[43m,\u001b[49m\u001b[43m \u001b[49m\u001b[43mblock_identifier\u001b[49m\u001b[43m,\u001b[49m\u001b[43m \u001b[49m\u001b[43mstate_override\u001b[49m\u001b[43m)\u001b[49m\n\u001b[32m    249\u001b[39m \u001b[38;5;28;01mreturn\u001b[39;00m \u001b[38;5;28mself\u001b[39m._call(transaction, block_identifier, state_override)\n",
      "\u001b[36mFile \u001b[39m\u001b[32m~/Desktop/APS/ProjectWorkAPS/.venv/lib/python3.13/site-packages/web3/eth/eth.py:266\u001b[39m, in \u001b[36mEth._durin_call\u001b[39m\u001b[34m(self, transaction, block_identifier, state_override)\u001b[39m\n\u001b[32m    265\u001b[39m \u001b[38;5;28;01mtry\u001b[39;00m:\n\u001b[32m--> \u001b[39m\u001b[32m266\u001b[39m     \u001b[38;5;28;01mreturn\u001b[39;00m \u001b[38;5;28;43mself\u001b[39;49m\u001b[43m.\u001b[49m\u001b[43m_call\u001b[49m\u001b[43m(\u001b[49m\u001b[43mtransaction\u001b[49m\u001b[43m,\u001b[49m\u001b[43m \u001b[49m\u001b[43mblock_identifier\u001b[49m\u001b[43m,\u001b[49m\u001b[43m \u001b[49m\u001b[43mstate_override\u001b[49m\u001b[43m)\u001b[49m\n\u001b[32m    267\u001b[39m \u001b[38;5;28;01mexcept\u001b[39;00m OffchainLookup \u001b[38;5;28;01mas\u001b[39;00m offchain_lookup:\n",
      "\u001b[36mFile \u001b[39m\u001b[32m~/Desktop/APS/ProjectWorkAPS/.venv/lib/python3.13/site-packages/web3/module.py:112\u001b[39m, in \u001b[36mretrieve_blocking_method_call_fn.<locals>.caller\u001b[39m\u001b[34m(*args, **kwargs)\u001b[39m\n\u001b[32m    107\u001b[39m (\n\u001b[32m    108\u001b[39m     result_formatters,\n\u001b[32m    109\u001b[39m     error_formatters,\n\u001b[32m    110\u001b[39m     null_result_formatters,\n\u001b[32m    111\u001b[39m ) = response_formatters\n\u001b[32m--> \u001b[39m\u001b[32m112\u001b[39m result = \u001b[43mw3\u001b[49m\u001b[43m.\u001b[49m\u001b[43mmanager\u001b[49m\u001b[43m.\u001b[49m\u001b[43mrequest_blocking\u001b[49m\u001b[43m(\u001b[49m\n\u001b[32m    113\u001b[39m \u001b[43m    \u001b[49m\u001b[43mmethod_str\u001b[49m\u001b[43m,\u001b[49m\u001b[43m \u001b[49m\u001b[43mparams\u001b[49m\u001b[43m,\u001b[49m\u001b[43m \u001b[49m\u001b[43merror_formatters\u001b[49m\u001b[43m,\u001b[49m\u001b[43m \u001b[49m\u001b[43mnull_result_formatters\u001b[49m\n\u001b[32m    114\u001b[39m \u001b[43m\u001b[49m\u001b[43m)\u001b[49m\n\u001b[32m    115\u001b[39m \u001b[38;5;28;01mreturn\u001b[39;00m apply_result_formatters(result_formatters, result)\n",
      "\u001b[36mFile \u001b[39m\u001b[32m~/Desktop/APS/ProjectWorkAPS/.venv/lib/python3.13/site-packages/web3/manager.py:232\u001b[39m, in \u001b[36mRequestManager.request_blocking\u001b[39m\u001b[34m(self, method, params, error_formatters, null_result_formatters)\u001b[39m\n\u001b[32m    231\u001b[39m response = \u001b[38;5;28mself\u001b[39m._make_request(method, params)\n\u001b[32m--> \u001b[39m\u001b[32m232\u001b[39m \u001b[38;5;28;01mreturn\u001b[39;00m \u001b[38;5;28;43mself\u001b[39;49m\u001b[43m.\u001b[49m\u001b[43mformatted_response\u001b[49m\u001b[43m(\u001b[49m\n\u001b[32m    233\u001b[39m \u001b[43m    \u001b[49m\u001b[43mresponse\u001b[49m\u001b[43m,\u001b[49m\u001b[43m \u001b[49m\u001b[43mparams\u001b[49m\u001b[43m,\u001b[49m\u001b[43m \u001b[49m\u001b[43merror_formatters\u001b[49m\u001b[43m,\u001b[49m\u001b[43m \u001b[49m\u001b[43mnull_result_formatters\u001b[49m\n\u001b[32m    234\u001b[39m \u001b[43m\u001b[49m\u001b[43m)\u001b[49m\n",
      "\u001b[36mFile \u001b[39m\u001b[32m~/Desktop/APS/ProjectWorkAPS/.venv/lib/python3.13/site-packages/web3/manager.py:198\u001b[39m, in \u001b[36mRequestManager.formatted_response\u001b[39m\u001b[34m(self, response, params, error_formatters, null_result_formatters)\u001b[39m\n\u001b[32m    191\u001b[39m is_subscription_response = (\n\u001b[32m    192\u001b[39m     response.get(\u001b[33m\"\u001b[39m\u001b[33mmethod\u001b[39m\u001b[33m\"\u001b[39m) == \u001b[33m\"\u001b[39m\u001b[33meth_subscription\u001b[39m\u001b[33m\"\u001b[39m\n\u001b[32m    193\u001b[39m     \u001b[38;5;129;01mand\u001b[39;00m response.get(\u001b[33m\"\u001b[39m\u001b[33mparams\u001b[39m\u001b[33m\"\u001b[39m) \u001b[38;5;129;01mis\u001b[39;00m \u001b[38;5;129;01mnot\u001b[39;00m \u001b[38;5;28;01mNone\u001b[39;00m\n\u001b[32m    194\u001b[39m     \u001b[38;5;129;01mand\u001b[39;00m response[\u001b[33m\"\u001b[39m\u001b[33mparams\u001b[39m\u001b[33m\"\u001b[39m].get(\u001b[33m\"\u001b[39m\u001b[33msubscription\u001b[39m\u001b[33m\"\u001b[39m) \u001b[38;5;129;01mis\u001b[39;00m \u001b[38;5;129;01mnot\u001b[39;00m \u001b[38;5;28;01mNone\u001b[39;00m\n\u001b[32m    195\u001b[39m     \u001b[38;5;129;01mand\u001b[39;00m response[\u001b[33m\"\u001b[39m\u001b[33mparams\u001b[39m\u001b[33m\"\u001b[39m].get(\u001b[33m\"\u001b[39m\u001b[33mresult\u001b[39m\u001b[33m\"\u001b[39m) \u001b[38;5;129;01mis\u001b[39;00m \u001b[38;5;129;01mnot\u001b[39;00m \u001b[38;5;28;01mNone\u001b[39;00m\n\u001b[32m    196\u001b[39m )\n\u001b[32m--> \u001b[39m\u001b[32m198\u001b[39m \u001b[43mvalidate_rpc_response_and_raise_if_error\u001b[49m\u001b[43m(\u001b[49m\n\u001b[32m    199\u001b[39m \u001b[43m    \u001b[49m\u001b[43mresponse\u001b[49m\u001b[43m,\u001b[49m\n\u001b[32m    200\u001b[39m \u001b[43m    \u001b[49m\u001b[43merror_formatters\u001b[49m\u001b[43m,\u001b[49m\n\u001b[32m    201\u001b[39m \u001b[43m    \u001b[49m\u001b[43mis_subscription_response\u001b[49m\u001b[43m=\u001b[49m\u001b[43mis_subscription_response\u001b[49m\u001b[43m,\u001b[49m\n\u001b[32m    202\u001b[39m \u001b[43m    \u001b[49m\u001b[43mlogger\u001b[49m\u001b[43m=\u001b[49m\u001b[38;5;28;43mself\u001b[39;49m\u001b[43m.\u001b[49m\u001b[43mlogger\u001b[49m\u001b[43m,\u001b[49m\n\u001b[32m    203\u001b[39m \u001b[43m    \u001b[49m\u001b[43mparams\u001b[49m\u001b[43m=\u001b[49m\u001b[43mparams\u001b[49m\u001b[43m,\u001b[49m\n\u001b[32m    204\u001b[39m \u001b[43m\u001b[49m\u001b[43m)\u001b[49m\n\u001b[32m    206\u001b[39m \u001b[38;5;66;03m# format results\u001b[39;00m\n",
      "\u001b[36mFile \u001b[39m\u001b[32m~/Desktop/APS/ProjectWorkAPS/.venv/lib/python3.13/site-packages/web3/_utils/validation.py:401\u001b[39m, in \u001b[36mvalidate_rpc_response_and_raise_if_error\u001b[39m\u001b[34m(response, error_formatters, is_subscription_response, logger, params)\u001b[39m\n\u001b[32m    399\u001b[39m         logger.debug(\u001b[33m\"\u001b[39m\u001b[33mRPC error response: \u001b[39m\u001b[38;5;132;01m%s\u001b[39;00m\u001b[33m\"\u001b[39m, response)\n\u001b[32m--> \u001b[39m\u001b[32m401\u001b[39m     \u001b[38;5;28;01mraise\u001b[39;00m web3_rpc_error\n\u001b[32m    403\u001b[39m \u001b[38;5;28;01melif\u001b[39;00m \u001b[33m\"\u001b[39m\u001b[33mresult\u001b[39m\u001b[33m\"\u001b[39m \u001b[38;5;129;01mnot\u001b[39;00m \u001b[38;5;129;01min\u001b[39;00m response \u001b[38;5;129;01mand\u001b[39;00m \u001b[38;5;129;01mnot\u001b[39;00m is_subscription_response:\n",
      "\u001b[31mWeb3RPCError\u001b[39m: {'message': 'VM Exception while processing transaction: revert University with this UID is not registered.', 'stack': 'CallError: VM Exception while processing transaction: revert University with this UID is not registered.\\n    at Blockchain.simulateTransaction (/Applications/Ganache.app/Contents/Resources/static/node/node_modules/ganache/dist/node/1.js:2:72658)', 'code': -32000, 'name': 'CallError', 'data': '0x08c379a00000000000000000000000000000000000000000000000000000000000000020000000000000000000000000000000000000000000000000000000000000002b556e69766572736974792077697468207468697320554944206973206e6f7420726567697374657265642e000000000000000000000000000000000000000000'}",
      "\nDuring handling of the above exception, another exception occurred:\n",
      "\u001b[31mException\u001b[39m                                 Traceback (most recent call last)",
      "\u001b[36mCell\u001b[39m\u001b[36m \u001b[39m\u001b[32mIn[20]\u001b[39m\u001b[32m, line 9\u001b[39m\n\u001b[32m      1\u001b[39m forged_properties = generate_random_properties(\u001b[32m5\u001b[39m)\n\u001b[32m      2\u001b[39m forged_credential = Credential(\n\u001b[32m      3\u001b[39m     certificateId = assemble_CID(\u001b[33m'\u001b[39m\u001b[33mUNIFORGE\u001b[39m\u001b[33m'\u001b[39m, \u001b[32m7\u001b[39m),\n\u001b[32m      4\u001b[39m     studentId=\u001b[33m\"\u001b[39m\u001b[33mSID:UNISA:1\u001b[39m\u001b[33m\"\u001b[39m,\n\u001b[32m   (...)\u001b[39m\u001b[32m      7\u001b[39m     properties=forged_properties\n\u001b[32m      8\u001b[39m )\n\u001b[32m----> \u001b[39m\u001b[32m9\u001b[39m \u001b[43muni_origin\u001b[49m\u001b[43m.\u001b[49m\u001b[43mvalidate_shared_credential\u001b[49m\u001b[43m(\u001b[49m\u001b[43mstudente\u001b[49m\u001b[43m,\u001b[49m\u001b[43m \u001b[49m\u001b[43mforged_credential\u001b[49m\u001b[43m.\u001b[49m\u001b[43mtoJSON\u001b[49m\u001b[43m(\u001b[49m\u001b[43m)\u001b[49m\u001b[43m)\u001b[49m\n",
      "\u001b[36mFile \u001b[39m\u001b[32m~/Desktop/APS/ProjectWorkAPS/demo/University/university.py:343\u001b[39m, in \u001b[36mUniversity.validate_shared_credential\u001b[39m\u001b[34m(self, student, json_credential)\u001b[39m\n\u001b[32m    341\u001b[39m     \u001b[38;5;28mprint\u001b[39m(\u001b[33m\"\u001b[39m\u001b[33mL\u001b[39m\u001b[33m'\u001b[39m\u001b[33muniversità che ha rilasciato la credenziale condivisa è fidata.\u001b[39m\u001b[33m\"\u001b[39m)\n\u001b[32m    342\u001b[39m \u001b[38;5;28;01mexcept\u001b[39;00m \u001b[38;5;167;01mException\u001b[39;00m \u001b[38;5;28;01mas\u001b[39;00m e:\n\u001b[32m--> \u001b[39m\u001b[32m343\u001b[39m     \u001b[38;5;28;01mraise\u001b[39;00m \u001b[38;5;167;01mException\u001b[39;00m(\u001b[33mf\u001b[39m\u001b[33m\"\u001b[39m\u001b[33mErrore nella verifica del\u001b[39m\u001b[33m'\u001b[39m\u001b[33mUID dell\u001b[39m\u001b[33m'\u001b[39m\u001b[33muniversità issuer: \u001b[39m\u001b[38;5;132;01m{\u001b[39;00me\u001b[38;5;132;01m}\u001b[39;00m\u001b[33m\"\u001b[39m)\n\u001b[32m    345\u001b[39m origin_uid, sid = split_SID(shared_credential.SID)\n\u001b[32m    346\u001b[39m \u001b[38;5;28;01mtry\u001b[39;00m:\n",
      "\u001b[31mException\u001b[39m: Errore nella verifica del'UID dell'università issuer: {'message': 'VM Exception while processing transaction: revert University with this UID is not registered.', 'stack': 'CallError: VM Exception while processing transaction: revert University with this UID is not registered.\\n    at Blockchain.simulateTransaction (/Applications/Ganache.app/Contents/Resources/static/node/node_modules/ganache/dist/node/1.js:2:72658)', 'code': -32000, 'name': 'CallError', 'data': '0x08c379a00000000000000000000000000000000000000000000000000000000000000020000000000000000000000000000000000000000000000000000000000000002b556e69766572736974792077697468207468697320554944206973206e6f7420726567697374657265642e000000000000000000000000000000000000000000'}"
     ]
    }
   ],
   "source": [
    "forged_properties = generate_random_properties(5)\n",
    "forged_credential = Credential(\n",
    "    certificateId = assemble_CID('UNIFORGE', 7),\n",
    "    studentId=\"SID:UNISA:1\",\n",
    "    universityId=\"UID:UNIFORGE\",\n",
    "    issuanceDate= data_odierna(),\n",
    "    properties=forged_properties\n",
    ")\n",
    "uni_origin.validate_shared_credential(studente, forged_credential.toJSON())"
   ]
  },
  {
   "cell_type": "code",
   "execution_count": null,
   "id": "5fc428cc",
   "metadata": {},
   "outputs": [],
   "source": []
  }
 ],
 "metadata": {
  "kernelspec": {
   "display_name": ".venv",
   "language": "python",
   "name": "python3"
  },
  "language_info": {
   "codemirror_mode": {
    "name": "ipython",
    "version": 3
   },
   "file_extension": ".py",
   "mimetype": "text/x-python",
   "name": "python",
   "nbconvert_exporter": "python",
   "pygments_lexer": "ipython3",
   "version": "3.13.2"
  }
 },
 "nbformat": 4,
 "nbformat_minor": 5
}
