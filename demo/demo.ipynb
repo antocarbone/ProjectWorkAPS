{
 "cells": [
  {
   "cell_type": "markdown",
   "id": "a7912595",
   "metadata": {},
   "source": [
    "# Inizializzazione università e SCA"
   ]
  },
  {
   "cell_type": "code",
   "execution_count": 1,
   "id": "385d7443",
   "metadata": {},
   "outputs": [],
   "source": [
    "from SmartContractAuthority.sca import SmartContractAuthority\n",
    "from cryptography.hazmat.primitives.asymmetric import rsa, padding\n",
    "from cryptography.hazmat.primitives import serialization, hashes\n",
    "from University.university import University\n",
    "from Student.student import Student\n",
    "import base64\n",
    "import sys\n",
    "\n",
    "SCA_PATH = './smart_contract_authority/'\n",
    "UNIVERSITIES_PATH = './universities/'\n",
    "STUDENTS_PATH = './students/'\n",
    "CONTRACTS_BUILD_PATH = './SmartContracts/build'"
   ]
  },
  {
   "cell_type": "markdown",
   "id": "17727e6a",
   "metadata": {},
   "source": [
    "## Creazione Smart Contract Authority"
   ]
  },
  {
   "cell_type": "code",
   "execution_count": 2,
   "id": "9a768698",
   "metadata": {},
   "outputs": [],
   "source": [
    "#SmartContractAuthority.create_sca(SCA_PATH, CONTRACTS_BUILD_PATH)\n",
    "sca = SmartContractAuthority(SCA_PATH+\"SCA\", CONTRACTS_BUILD_PATH)"
   ]
  },
  {
   "cell_type": "markdown",
   "id": "1db86df8",
   "metadata": {},
   "source": [
    "## Creazione Università"
   ]
  },
  {
   "cell_type": "code",
   "execution_count": 3,
   "id": "17f71de2",
   "metadata": {},
   "outputs": [],
   "source": [
    "#University.create_university(UNIVERSITIES_PATH, CONTRACTS_BUILD_PATH)\n",
    "uni = University(UNIVERSITIES_PATH+'University_Università Degli Studi Di Salerno', CONTRACTS_BUILD_PATH)\n",
    "#University.create_university(UNIVERSITIES_PATH, CONTRACTS_BUILD_PATH)\n",
    "uni2= University(UNIVERSITIES_PATH+'University_UNICAEN', CONTRACTS_BUILD_PATH)"
   ]
  },
  {
   "cell_type": "markdown",
   "id": "073b37cc",
   "metadata": {},
   "source": [
    "## Creazione studente"
   ]
  },
  {
   "cell_type": "code",
   "execution_count": 9,
   "id": "18c3b943",
   "metadata": {},
   "outputs": [
    {
     "name": "stdout",
     "output_type": "stream",
     "text": [
      "Studente 'Antonio Carbone' caricato da ./students/Student_AntonioCarbone\n"
     ]
    }
   ],
   "source": [
    "#Student.create_student(STUDENTS_PATH)\n",
    "studente = Student(STUDENTS_PATH+'Student_AntonioCarbone')"
   ]
  },
  {
   "cell_type": "markdown",
   "id": "8ed7bc46",
   "metadata": {},
   "source": [
    "## Accreditamento università create"
   ]
  },
  {
   "cell_type": "code",
   "execution_count": null,
   "id": "bbd5dfb3",
   "metadata": {},
   "outputs": [],
   "source": [
    "UID, sca_contract_address = sca.register_university(uni)\n",
    "uni.update_uid(UID)\n",
    "uni.update_sca_contract_address(sca_contract_address)\n",
    "\n",
    "UID, sca_contract_address = sca.register_university(uni2)\n",
    "uni2.update_uid(UID)\n",
    "uni2.update_sca_contract_address(sca_contract_address)"
   ]
  },
  {
   "cell_type": "markdown",
   "id": "47e06d1e",
   "metadata": {},
   "source": [
    "## Immatricolazione presso università di origine"
   ]
  },
  {
   "cell_type": "code",
   "execution_count": null,
   "id": "97830704",
   "metadata": {},
   "outputs": [],
   "source": [
    "credenziale_studente,sid = uni.register_student(studente)\n",
    "studente.set_sid(sid)\n",
    "studente.save_credential(credenziale_studente)"
   ]
  },
  {
   "cell_type": "markdown",
   "id": "6138f1c9",
   "metadata": {},
   "source": [
    "## Immatricolazione presso università estera"
   ]
  },
  {
   "cell_type": "code",
   "execution_count": null,
   "id": "9ff74b29",
   "metadata": {},
   "outputs": [],
   "source": [
    "uni2.register_erasmus_student(studente, studente.credentials[0].toJSON())\n",
    "uni2.update_erasmus_students(studente, credenziale_studente.CID)"
   ]
  },
  {
   "cell_type": "markdown",
   "id": "b9d78735",
   "metadata": {},
   "source": [
    "## Richiesta e rilascio credenziale carriera"
   ]
  },
  {
   "cell_type": "code",
   "execution_count": 6,
   "id": "d2baf232",
   "metadata": {},
   "outputs": [
    {
     "name": "stdout",
     "output_type": "stream",
     "text": [
      "1\n",
      "<class 'int'>\n",
      "1\n",
      "Il SID fornito è valido.\n",
      "Challenge di autenticazione superata.\n",
      "Registrazione CID completata con successo. Transaction Hash: f99a6d246ec23abb1a2903ae98cca649a4b87580a3cf56a4848ee2a5b914e825\n",
      "Complimenti Antonio Carbone \n",
      "Richiesta della tua credenziale carriera completata!\n",
      "Arrivederci da UNICAEN!\n",
      "Credenziale salvata in: ./students/Student_AntonioCarbone\\persistency\\credentials\\credential_1.json\n"
     ]
    }
   ],
   "source": [
    "career_credential = uni2.request_career_credential(studente)\n",
    "studente.save_credential(career_credential)"
   ]
  },
  {
   "cell_type": "markdown",
   "id": "059828dc",
   "metadata": {},
   "source": [
    "## Costruzione della credenziale parziale"
   ]
  },
  {
   "cell_type": "code",
   "execution_count": 7,
   "id": "c78ca1d3",
   "metadata": {},
   "outputs": [
    {
     "name": "stdout",
     "output_type": "stream",
     "text": [
      "\n",
      "Seleziona una credenziale da condividere:\n",
      "0: CID = CID:UNISA:1\n",
      "1: CID = CID:ENSICAEN:5\n",
      "\n",
      "Seleziona le proprietà da condividere (y/n):\n",
      "\n",
      "Credenziale parziale costruita con successo:\n",
      "{\n",
      "    \"certificateId\": \"CID:ENSICAEN:5\",\n",
      "    \"studentId\": \"1\",\n",
      "    \"universityId\": \"UID:ENSICAEN\",\n",
      "    \"issuanceDate\": \"2023-10-01\",\n",
      "    \"properties\": [\n",
      "        {\n",
      "            \"typology\": \"ErasmusInfo\",\n",
      "            \"data\": {\n",
      "                \"programName\": \"Erasmus+ Europe\",\n",
      "                \"startActivity\": \"2024-09-01\",\n",
      "                \"endActivity\": \"2025-01-31\"\n",
      "            },\n",
      "            \"nonce\": \"17529228065973187\",\n",
      "            \"merkle_proof\": [\n",
      "                [\n",
      "                    \"a8b83db15377899d2a1b2a95144da100ddd18d1cf55ad207e5933caf64f9f471\",\n",
      "                    \"R\"\n",
      "                ],\n",
      "                [\n",
      "                    \"9ef87092932fc1210106bc584ac2c4afdfca6fda7fbdeccfdb7dee82cfe8f70e\",\n",
      "                    \"R\"\n",
      "                ],\n",
      "                [\n",
      "                    \"a6bbbd617bbcfd969cd1de9695b0d8e16f8aeb4051e15a843ededa60cb5d46d3\",\n",
      "                    \"R\"\n",
      "                ]\n",
      "            ]\n",
      "        },\n",
      "        {\n",
      "            \"typology\": \"Scholarship\",\n",
      "            \"data\": {\n",
      "                \"amount\": 2963,\n",
      "                \"unit\": \"EUR\",\n",
      "                \"payments\": 3\n",
      "            },\n",
      "            \"nonce\": \"17529228065978577\",\n",
      "            \"merkle_proof\": [\n",
      "                [\n",
      "                    \"ee3670ce4944bda37f3798b873d6047d920b434410031753abc8f5ebc86b556b\",\n",
      "                    \"R\"\n",
      "                ],\n",
      "                [\n",
      "                    \"deb180c5cffc5012d8ee41466a63735b8669b17e129500c174f2f0245366db19\",\n",
      "                    \"L\"\n",
      "                ],\n",
      "                [\n",
      "                    \"a6bbbd617bbcfd969cd1de9695b0d8e16f8aeb4051e15a843ededa60cb5d46d3\",\n",
      "                    \"R\"\n",
      "                ]\n",
      "            ]\n",
      "        },\n",
      "        {\n",
      "            \"typology\": \"Course\",\n",
      "            \"data\": {\n",
      "                \"name\": \"Reti di Calcolatori\",\n",
      "                \"achieved\": false,\n",
      "                \"grade\": 25,\n",
      "                \"cfu\": 6,\n",
      "                \"achievementData\": \"2025-02-15\"\n",
      "            },\n",
      "            \"nonce\": \"17529228065974600\",\n",
      "            \"merkle_proof\": [\n",
      "                [\n",
      "                    \"b705c1240279f5cfd2357c0c77ee201ba823a8928818b4410cfaad78582ad2b5\",\n",
      "                    \"R\"\n",
      "                ],\n",
      "                [\n",
      "                    \"c36fab3a31ffef2ed1ef27101c4f944da743d3e1f5570146aa745134a504e820\",\n",
      "                    \"R\"\n",
      "                ],\n",
      "                [\n",
      "                    \"45486150fc1f9c6bd3f78a9d8dc6b5a7799c81438371a44998896ef64a11f9b7\",\n",
      "                    \"L\"\n",
      "                ]\n",
      "            ]\n",
      "        },\n",
      "        {\n",
      "            \"typology\": \"Course\",\n",
      "            \"data\": {\n",
      "                \"name\": \"Machine Learning\",\n",
      "                \"achieved\": false,\n",
      "                \"grade\": 23,\n",
      "                \"cfu\": 6,\n",
      "                \"achievementData\": \"2025-02-15\"\n",
      "            },\n",
      "            \"nonce\": \"17529228065972593\",\n",
      "            \"merkle_proof\": [\n",
      "                [\n",
      "                    \"5512d2dcf9fc3e5cf127b371ed9a6681a36fb351f75daf1194e0cebf426678f7\",\n",
      "                    \"R\"\n",
      "                ],\n",
      "                [\n",
      "                    \"79d948a74c2f95ea6ebf3f7e3248af2a3155d37f2e008aa0948a73806ea85a24\",\n",
      "                    \"L\"\n",
      "                ],\n",
      "                [\n",
      "                    \"45486150fc1f9c6bd3f78a9d8dc6b5a7799c81438371a44998896ef64a11f9b7\",\n",
      "                    \"L\"\n",
      "                ]\n",
      "            ]\n",
      "        }\n",
      "    ],\n",
      "    \"issuerSignature\": \"iwJlaz3auZUi5cC6Lqcqu5l0tVDvfuM7u5GR+gvcL1v+soIbzeXUSBZq43AraiskGXg/DwNgck7ssl6o75Y18YzhxmIxEVBHFEbaRCBYNWG2CfYqVXgRETC9fsOLGjGHsPrIDvOsXP0DY3PBqre7n3UlkgKTx8YktW5Gsa+rKauGZHtAirL1Gz3oYM6iFKpTe8daImCEfMO9RhKqnZsIF0/XUo4bRhE3ScaCkt2guQejEzOOcjQc4/yscHU3DnCOZXipOOMnVv7axDWukMxFCn0K8sgvJBxAOKmmDqjGGYSGS3oWxuIX/iyNCH8ZhzjUhzZjeT9S/o2ClCMKP+CuxA==\"\n",
      "}\n",
      "Credenziale salvata in: ./students/Student_AntonioCarbone\\persistency\\credentials\\credential_2.json\n"
     ]
    }
   ],
   "source": [
    "partial_credential = studente.build_shared_credential()\n",
    "\n",
    "studente.save_credential(partial_credential)"
   ]
  },
  {
   "cell_type": "markdown",
   "id": "301eb1e9",
   "metadata": {},
   "source": [
    "## Condivisione credenziale"
   ]
  },
  {
   "cell_type": "code",
   "execution_count": 12,
   "id": "988cdd56",
   "metadata": {},
   "outputs": [
    {
     "name": "stdout",
     "output_type": "stream",
     "text": [
      "L'università che ha rilasciato la credenziale condivisa è fidata.\n"
     ]
    },
    {
     "ename": "Exception",
     "evalue": "Errore nella verifica del SID contenuto nella credenziale: invalid literal for int() with base 10: 'SID:UNISA:1'",
     "output_type": "error",
     "traceback": [
      "\u001b[31m---------------------------------------------------------------------------\u001b[39m",
      "\u001b[31mValueError\u001b[39m                                Traceback (most recent call last)",
      "\u001b[36mFile \u001b[39m\u001b[32mc:\\Users\\erric\\Documents\\pw_aps\\ProjectWorkAPS\\demo\\University\\university.py:354\u001b[39m, in \u001b[36mUniversity.validate_shared_credential\u001b[39m\u001b[34m(self, student, json_credential)\u001b[39m\n\u001b[32m    353\u001b[39m \u001b[38;5;28;01mtry\u001b[39;00m:\n\u001b[32m--> \u001b[39m\u001b[32m354\u001b[39m     student_pubkey_modulus, student_pubkey_exponent, sid_isValid = \u001b[38;5;28mself\u001b[39m.blockchain_manager.verify_sid_on_chain(\u001b[38;5;28mself\u001b[39m.sca_contract_instance, \u001b[38;5;28mself\u001b[39m.UID, \u001b[38;5;28;43mint\u001b[39;49m\u001b[43m(\u001b[49m\u001b[43mshared_credential\u001b[49m\u001b[43m.\u001b[49m\u001b[43mSID\u001b[49m\u001b[43m)\u001b[49m)\n\u001b[32m    355\u001b[39m     \u001b[38;5;28;01mif\u001b[39;00m \u001b[38;5;129;01mnot\u001b[39;00m sid_isValid:\n",
      "\u001b[31mValueError\u001b[39m: invalid literal for int() with base 10: 'SID:UNISA:1'",
      "\nDuring handling of the above exception, another exception occurred:\n",
      "\u001b[31mException\u001b[39m                                 Traceback (most recent call last)",
      "\u001b[36mCell\u001b[39m\u001b[36m \u001b[39m\u001b[32mIn[12]\u001b[39m\u001b[32m, line 1\u001b[39m\n\u001b[32m----> \u001b[39m\u001b[32m1\u001b[39m \u001b[43muni\u001b[49m\u001b[43m.\u001b[49m\u001b[43mvalidate_shared_credential\u001b[49m\u001b[43m(\u001b[49m\u001b[43mstudente\u001b[49m\u001b[43m,\u001b[49m\u001b[43m \u001b[49m\u001b[43mstudente\u001b[49m\u001b[43m.\u001b[49m\u001b[43mcredentials\u001b[49m\u001b[43m[\u001b[49m\u001b[32;43m0\u001b[39;49m\u001b[43m]\u001b[49m\u001b[43m.\u001b[49m\u001b[43mtoJSON\u001b[49m\u001b[43m(\u001b[49m\u001b[43m)\u001b[49m\u001b[43m)\u001b[49m\n",
      "\u001b[36mFile \u001b[39m\u001b[32mc:\\Users\\erric\\Documents\\pw_aps\\ProjectWorkAPS\\demo\\University\\university.py:359\u001b[39m, in \u001b[36mUniversity.validate_shared_credential\u001b[39m\u001b[34m(self, student, json_credential)\u001b[39m\n\u001b[32m    357\u001b[39m     \u001b[38;5;28mprint\u001b[39m(\u001b[33m\"\u001b[39m\u001b[33mIl SID presente nella credenziale è valido.\u001b[39m\u001b[33m\"\u001b[39m)\n\u001b[32m    358\u001b[39m \u001b[38;5;28;01mexcept\u001b[39;00m \u001b[38;5;167;01mException\u001b[39;00m \u001b[38;5;28;01mas\u001b[39;00m e:\n\u001b[32m--> \u001b[39m\u001b[32m359\u001b[39m     \u001b[38;5;28;01mraise\u001b[39;00m \u001b[38;5;167;01mException\u001b[39;00m(\u001b[33mf\u001b[39m\u001b[33m\"\u001b[39m\u001b[33mErrore nella verifica del SID contenuto nella credenziale: \u001b[39m\u001b[38;5;132;01m{\u001b[39;00me\u001b[38;5;132;01m}\u001b[39;00m\u001b[33m\"\u001b[39m)\n\u001b[32m    361\u001b[39m \u001b[38;5;28;01mtry\u001b[39;00m:\n\u001b[32m    362\u001b[39m     student_public_key = recover_public_key_from_modulus_exponent(student_pubkey_modulus, student_pubkey_exponent)\n",
      "\u001b[31mException\u001b[39m: Errore nella verifica del SID contenuto nella credenziale: invalid literal for int() with base 10: 'SID:UNISA:1'"
     ]
    }
   ],
   "source": [
    "uni.validate_shared_credential(studente, studente.credentials[0].toJSON())"
   ]
  },
  {
   "cell_type": "markdown",
   "id": "6c5ea75c",
   "metadata": {},
   "source": [
    "## Revoca credenziale di immatricolazione"
   ]
  },
  {
   "cell_type": "code",
   "execution_count": 11,
   "id": "3c205736",
   "metadata": {},
   "outputs": [
    {
     "name": "stdout",
     "output_type": "stream",
     "text": [
      "Modifica CID completata con successo. Transaction Hash: b3548a892447c3013cdcb511f3d90a2c13ff37f226cd0d3a13e4b8aee2b646d0\n",
      "Credenziale CID:UNISA:1 revocata con successo!\n"
     ]
    }
   ],
   "source": [
    "uni.revoke_cid(\"CID:UNISA:1\")"
   ]
  },
  {
   "cell_type": "markdown",
   "id": "cd2d5cde",
   "metadata": {},
   "source": [
    "## Revoca credenziale carriera"
   ]
  },
  {
   "cell_type": "code",
   "execution_count": null,
   "id": "a160e2c3",
   "metadata": {},
   "outputs": [],
   "source": [
    "uni2.revoke_cid(\"CID:ENSICAEN:0\")"
   ]
  },
  {
   "cell_type": "code",
   "execution_count": null,
   "id": "8b0f4b04",
   "metadata": {},
   "outputs": [],
   "source": []
  }
 ],
 "metadata": {
  "kernelspec": {
   "display_name": ".venv",
   "language": "python",
   "name": "python3"
  },
  "language_info": {
   "codemirror_mode": {
    "name": "ipython",
    "version": 3
   },
   "file_extension": ".py",
   "mimetype": "text/x-python",
   "name": "python",
   "nbconvert_exporter": "python",
   "pygments_lexer": "ipython3",
   "version": "3.12.0"
  }
 },
 "nbformat": 4,
 "nbformat_minor": 5
}
